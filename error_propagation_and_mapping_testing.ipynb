{
 "cells": [
  {
   "cell_type": "code",
   "execution_count": null,
   "metadata": {
    "collapsed": true
   },
   "outputs": [],
   "source": [
    "# This tests how we find errors for our calibration program star metallicities, and how we\n",
    "# find final error bars on our calibration solution coefficients\n",
    "\n",
    "# created 2018 Jan 14 by E.S."
   ]
  },
  {
   "cell_type": "code",
   "execution_count": 25,
   "metadata": {
    "collapsed": true
   },
   "outputs": [],
   "source": [
    "import pickle\n",
    "import pandas as pd\n",
    "import matplotlib.pyplot as plt\n",
    "import numpy as np\n",
    "import scipy\n",
    "import scipy.stats as stats\n",
    "from astropy.modeling.functional_models import Gaussian2D\n",
    "from astropy.stats import bootstrap\n",
    "from astropy.utils import NumpyRNGContext"
   ]
  },
  {
   "cell_type": "code",
   "execution_count": 2,
   "metadata": {
    "collapsed": false
   },
   "outputs": [],
   "source": [
    "# make some fake data representing the metallicities and errors of stars from the literature\n",
    "\n",
    "fake_data_1 = {\"star_name\": [\"AA Aql\",\"AO Peg\",\"BR Aqr\",\"CI And\",\"DM Cyg\",\"DO Vir\",\"DX Del\",\"X Ari\"],\n",
    "                \"feh_lit\": [-1.1,-0.6,-1.29,-1.22,-0.69,-0.43,-0.04,-2.51],\n",
    "                \"feh_layden\": [-1.05,-0.9,-1.15,-1.2,-0.45,-0.7,0.0,-2.1],\n",
    "                \"err_feh_lit\": [0.3,0.3,0.3,0.4,0.2,0.35,0.3,0.4],\n",
    "                \"err_feh_layden\": [0.06,0.06,0.07,0.06,0.07,0.06,0.06,0.07]}\n",
    "\n",
    "fake_dataset_1 = pd.DataFrame(data=fake_data_1)"
   ]
  },
  {
   "cell_type": "code",
   "execution_count": 28,
   "metadata": {
    "collapsed": true
   },
   "outputs": [],
   "source": [
    "# read in actual data\n",
    "\n",
    "real_data_1 = pickle.load( open( \"info.pkl\", \"rb\" ) )\n"
   ]
  },
  {
   "cell_type": "code",
   "execution_count": 54,
   "metadata": {
    "collapsed": false
   },
   "outputs": [],
   "source": [
    "# make some fake data representing the metallicities and errors of stars from the literature\n",
    "\n",
    "fake_data_1 = { \"star_name\": real_data_1[0][\"name_star\"],\n",
    "                \"feh_lit\": real_data_1[0][\"FeH_highres\"],\n",
    "                \"feh_layden\": real_data_1[0][\"FeH_basis\"],\n",
    "                \"err_feh_lit\": np.zeros(len(real_data_1[0][\"FeH_basis\"])),\n",
    "                \"err_feh_layden\": 0.07*np.ones(len(real_data_1[0][\"FeH_basis\"]))}\n",
    "\n",
    "fake_dataset_1 = pd.DataFrame(data=fake_data_1)"
   ]
  },
  {
   "cell_type": "code",
   "execution_count": 55,
   "metadata": {
    "collapsed": false
   },
   "outputs": [
    {
     "data": {
      "text/html": [
       "<div>\n",
       "<style scoped>\n",
       "    .dataframe tbody tr th:only-of-type {\n",
       "        vertical-align: middle;\n",
       "    }\n",
       "\n",
       "    .dataframe tbody tr th {\n",
       "        vertical-align: top;\n",
       "    }\n",
       "\n",
       "    .dataframe thead th {\n",
       "        text-align: right;\n",
       "    }\n",
       "</style>\n",
       "<table border=\"1\" class=\"dataframe\">\n",
       "  <thead>\n",
       "    <tr style=\"text-align: right;\">\n",
       "      <th></th>\n",
       "      <th>err_feh_layden</th>\n",
       "      <th>err_feh_lit</th>\n",
       "      <th>feh_layden</th>\n",
       "      <th>feh_lit</th>\n",
       "      <th>star_name</th>\n",
       "    </tr>\n",
       "  </thead>\n",
       "  <tbody>\n",
       "    <tr>\n",
       "      <th>0</th>\n",
       "      <td>0.07</td>\n",
       "      <td>0.0</td>\n",
       "      <td>-0.38</td>\n",
       "      <td>-0.33</td>\n",
       "      <td>SW And</td>\n",
       "    </tr>\n",
       "    <tr>\n",
       "      <th>1</th>\n",
       "      <td>0.07</td>\n",
       "      <td>0.0</td>\n",
       "      <td>-2.40</td>\n",
       "      <td>-2.48</td>\n",
       "      <td>X Ari</td>\n",
       "    </tr>\n",
       "    <tr>\n",
       "      <th>2</th>\n",
       "      <td>0.07</td>\n",
       "      <td>0.0</td>\n",
       "      <td>-0.32</td>\n",
       "      <td>-0.62</td>\n",
       "      <td>RS Boo</td>\n",
       "    </tr>\n",
       "    <tr>\n",
       "      <th>3</th>\n",
       "      <td>0.07</td>\n",
       "      <td>0.0</td>\n",
       "      <td>-1.52</td>\n",
       "      <td>-1.51</td>\n",
       "      <td>XZ Cyg</td>\n",
       "    </tr>\n",
       "    <tr>\n",
       "      <th>4</th>\n",
       "      <td>0.07</td>\n",
       "      <td>0.0</td>\n",
       "      <td>-0.56</td>\n",
       "      <td>-0.51</td>\n",
       "      <td>DX Del</td>\n",
       "    </tr>\n",
       "    <tr>\n",
       "      <th>5</th>\n",
       "      <td>0.07</td>\n",
       "      <td>0.0</td>\n",
       "      <td>-1.74</td>\n",
       "      <td>-1.75</td>\n",
       "      <td>SU Dra</td>\n",
       "    </tr>\n",
       "    <tr>\n",
       "      <th>6</th>\n",
       "      <td>0.07</td>\n",
       "      <td>0.0</td>\n",
       "      <td>-0.87</td>\n",
       "      <td>-0.81</td>\n",
       "      <td>XZ Dra</td>\n",
       "    </tr>\n",
       "    <tr>\n",
       "      <th>7</th>\n",
       "      <td>0.07</td>\n",
       "      <td>0.0</td>\n",
       "      <td>-2.04</td>\n",
       "      <td>-2.11</td>\n",
       "      <td>SV Eri</td>\n",
       "    </tr>\n",
       "    <tr>\n",
       "      <th>8</th>\n",
       "      <td>0.07</td>\n",
       "      <td>0.0</td>\n",
       "      <td>-1.57</td>\n",
       "      <td>-1.40</td>\n",
       "      <td>RR Leo</td>\n",
       "    </tr>\n",
       "    <tr>\n",
       "      <th>9</th>\n",
       "      <td>0.07</td>\n",
       "      <td>0.0</td>\n",
       "      <td>-0.14</td>\n",
       "      <td>-0.22</td>\n",
       "      <td>AV Peg</td>\n",
       "    </tr>\n",
       "    <tr>\n",
       "      <th>10</th>\n",
       "      <td>0.07</td>\n",
       "      <td>0.0</td>\n",
       "      <td>-0.43</td>\n",
       "      <td>-0.24</td>\n",
       "      <td>AR Per</td>\n",
       "    </tr>\n",
       "    <tr>\n",
       "      <th>11</th>\n",
       "      <td>0.07</td>\n",
       "      <td>0.0</td>\n",
       "      <td>-1.82</td>\n",
       "      <td>-1.93</td>\n",
       "      <td>VY Ser</td>\n",
       "    </tr>\n",
       "    <tr>\n",
       "      <th>12</th>\n",
       "      <td>0.07</td>\n",
       "      <td>0.0</td>\n",
       "      <td>-1.44</td>\n",
       "      <td>-1.56</td>\n",
       "      <td>TU UMa</td>\n",
       "    </tr>\n",
       "    <tr>\n",
       "      <th>13</th>\n",
       "      <td>0.07</td>\n",
       "      <td>0.0</td>\n",
       "      <td>-0.82</td>\n",
       "      <td>-0.70</td>\n",
       "      <td>UU Vir</td>\n",
       "    </tr>\n",
       "    <tr>\n",
       "      <th>14</th>\n",
       "      <td>0.07</td>\n",
       "      <td>0.0</td>\n",
       "      <td>-2.42</td>\n",
       "      <td>-2.54</td>\n",
       "      <td>NR Lyr</td>\n",
       "    </tr>\n",
       "    <tr>\n",
       "      <th>15</th>\n",
       "      <td>0.07</td>\n",
       "      <td>0.0</td>\n",
       "      <td>-2.01</td>\n",
       "      <td>-1.98</td>\n",
       "      <td>FN Lyr</td>\n",
       "    </tr>\n",
       "    <tr>\n",
       "      <th>16</th>\n",
       "      <td>0.07</td>\n",
       "      <td>0.0</td>\n",
       "      <td>-1.71</td>\n",
       "      <td>-1.66</td>\n",
       "      <td>V894 Cyg</td>\n",
       "    </tr>\n",
       "    <tr>\n",
       "      <th>17</th>\n",
       "      <td>0.07</td>\n",
       "      <td>0.0</td>\n",
       "      <td>-2.40</td>\n",
       "      <td>-2.74</td>\n",
       "      <td>X Ari</td>\n",
       "    </tr>\n",
       "    <tr>\n",
       "      <th>18</th>\n",
       "      <td>0.07</td>\n",
       "      <td>0.0</td>\n",
       "      <td>-1.82</td>\n",
       "      <td>-1.71</td>\n",
       "      <td>VY Ser</td>\n",
       "    </tr>\n",
       "    <tr>\n",
       "      <th>19</th>\n",
       "      <td>0.07</td>\n",
       "      <td>0.0</td>\n",
       "      <td>-1.86</td>\n",
       "      <td>-1.62</td>\n",
       "      <td>ST Boo</td>\n",
       "    </tr>\n",
       "    <tr>\n",
       "      <th>20</th>\n",
       "      <td>0.07</td>\n",
       "      <td>0.0</td>\n",
       "      <td>-1.37</td>\n",
       "      <td>-1.27</td>\n",
       "      <td>RR Lyr</td>\n",
       "    </tr>\n",
       "    <tr>\n",
       "      <th>21</th>\n",
       "      <td>0.07</td>\n",
       "      <td>0.0</td>\n",
       "      <td>-1.52</td>\n",
       "      <td>-1.18</td>\n",
       "      <td>RR Cet</td>\n",
       "    </tr>\n",
       "    <tr>\n",
       "      <th>22</th>\n",
       "      <td>0.07</td>\n",
       "      <td>0.0</td>\n",
       "      <td>-0.23</td>\n",
       "      <td>0.13</td>\n",
       "      <td>V445 Oph</td>\n",
       "    </tr>\n",
       "    <tr>\n",
       "      <th>23</th>\n",
       "      <td>0.07</td>\n",
       "      <td>0.0</td>\n",
       "      <td>-0.38</td>\n",
       "      <td>0.20</td>\n",
       "      <td>SW And</td>\n",
       "    </tr>\n",
       "    <tr>\n",
       "      <th>24</th>\n",
       "      <td>0.07</td>\n",
       "      <td>0.0</td>\n",
       "      <td>-0.58</td>\n",
       "      <td>-0.32</td>\n",
       "      <td>AA Aql</td>\n",
       "    </tr>\n",
       "    <tr>\n",
       "      <th>25</th>\n",
       "      <td>0.07</td>\n",
       "      <td>0.0</td>\n",
       "      <td>-0.84</td>\n",
       "      <td>-0.69</td>\n",
       "      <td>BR Aqr</td>\n",
       "    </tr>\n",
       "    <tr>\n",
       "      <th>26</th>\n",
       "      <td>0.07</td>\n",
       "      <td>0.0</td>\n",
       "      <td>-0.83</td>\n",
       "      <td>-0.43</td>\n",
       "      <td>CI And</td>\n",
       "    </tr>\n",
       "    <tr>\n",
       "      <th>27</th>\n",
       "      <td>0.07</td>\n",
       "      <td>0.0</td>\n",
       "      <td>-0.26</td>\n",
       "      <td>-0.04</td>\n",
       "      <td>CN Lyr</td>\n",
       "    </tr>\n",
       "    <tr>\n",
       "      <th>28</th>\n",
       "      <td>0.07</td>\n",
       "      <td>0.0</td>\n",
       "      <td>-0.14</td>\n",
       "      <td>0.03</td>\n",
       "      <td>DM Cyg</td>\n",
       "    </tr>\n",
       "    <tr>\n",
       "      <th>29</th>\n",
       "      <td>0.07</td>\n",
       "      <td>0.0</td>\n",
       "      <td>-0.80</td>\n",
       "      <td>-1.57</td>\n",
       "      <td>DO Vir</td>\n",
       "    </tr>\n",
       "    <tr>\n",
       "      <th>...</th>\n",
       "      <td>...</td>\n",
       "      <td>...</td>\n",
       "      <td>...</td>\n",
       "      <td>...</td>\n",
       "      <td>...</td>\n",
       "    </tr>\n",
       "    <tr>\n",
       "      <th>105</th>\n",
       "      <td>0.07</td>\n",
       "      <td>0.0</td>\n",
       "      <td>-0.56</td>\n",
       "      <td>-0.39</td>\n",
       "      <td>DX Del</td>\n",
       "    </tr>\n",
       "    <tr>\n",
       "      <th>106</th>\n",
       "      <td>0.07</td>\n",
       "      <td>0.0</td>\n",
       "      <td>-1.74</td>\n",
       "      <td>-1.97</td>\n",
       "      <td>SU Dra</td>\n",
       "    </tr>\n",
       "    <tr>\n",
       "      <th>107</th>\n",
       "      <td>0.07</td>\n",
       "      <td>0.0</td>\n",
       "      <td>-1.24</td>\n",
       "      <td>-0.74</td>\n",
       "      <td>SW Dra</td>\n",
       "    </tr>\n",
       "    <tr>\n",
       "      <th>108</th>\n",
       "      <td>0.07</td>\n",
       "      <td>0.0</td>\n",
       "      <td>-1.33</td>\n",
       "      <td>-1.22</td>\n",
       "      <td>XX Hya</td>\n",
       "    </tr>\n",
       "    <tr>\n",
       "      <th>109</th>\n",
       "      <td>0.07</td>\n",
       "      <td>0.0</td>\n",
       "      <td>-0.26</td>\n",
       "      <td>-1.10</td>\n",
       "      <td>CN Lyr</td>\n",
       "    </tr>\n",
       "    <tr>\n",
       "      <th>110</th>\n",
       "      <td>0.07</td>\n",
       "      <td>0.0</td>\n",
       "      <td>-0.46</td>\n",
       "      <td>-0.41</td>\n",
       "      <td>KX Lyr</td>\n",
       "    </tr>\n",
       "    <tr>\n",
       "      <th>111</th>\n",
       "      <td>0.07</td>\n",
       "      <td>0.0</td>\n",
       "      <td>-1.52</td>\n",
       "      <td>-1.21</td>\n",
       "      <td>DZ Peg</td>\n",
       "    </tr>\n",
       "    <tr>\n",
       "      <th>112</th>\n",
       "      <td>0.07</td>\n",
       "      <td>0.0</td>\n",
       "      <td>-0.43</td>\n",
       "      <td>-0.23</td>\n",
       "      <td>AR Per</td>\n",
       "    </tr>\n",
       "    <tr>\n",
       "      <th>113</th>\n",
       "      <td>0.07</td>\n",
       "      <td>0.0</td>\n",
       "      <td>-1.82</td>\n",
       "      <td>-1.53</td>\n",
       "      <td>VY Ser</td>\n",
       "    </tr>\n",
       "    <tr>\n",
       "      <th>114</th>\n",
       "      <td>0.07</td>\n",
       "      <td>0.0</td>\n",
       "      <td>-1.44</td>\n",
       "      <td>-1.66</td>\n",
       "      <td>TU UMa</td>\n",
       "    </tr>\n",
       "    <tr>\n",
       "      <th>115</th>\n",
       "      <td>0.07</td>\n",
       "      <td>0.0</td>\n",
       "      <td>-1.45</td>\n",
       "      <td>-1.30</td>\n",
       "      <td>AM Vir</td>\n",
       "    </tr>\n",
       "    <tr>\n",
       "      <th>116</th>\n",
       "      <td>0.07</td>\n",
       "      <td>0.0</td>\n",
       "      <td>-0.23</td>\n",
       "      <td>0.24</td>\n",
       "      <td>V445 Oph</td>\n",
       "    </tr>\n",
       "    <tr>\n",
       "      <th>117</th>\n",
       "      <td>0.07</td>\n",
       "      <td>0.0</td>\n",
       "      <td>-0.35</td>\n",
       "      <td>0.01</td>\n",
       "      <td>RR Gem</td>\n",
       "    </tr>\n",
       "    <tr>\n",
       "      <th>118</th>\n",
       "      <td>0.07</td>\n",
       "      <td>0.0</td>\n",
       "      <td>-0.38</td>\n",
       "      <td>-0.16</td>\n",
       "      <td>SW And</td>\n",
       "    </tr>\n",
       "    <tr>\n",
       "      <th>119</th>\n",
       "      <td>0.07</td>\n",
       "      <td>0.0</td>\n",
       "      <td>-0.56</td>\n",
       "      <td>-0.21</td>\n",
       "      <td>DX Del</td>\n",
       "    </tr>\n",
       "    <tr>\n",
       "      <th>120</th>\n",
       "      <td>0.07</td>\n",
       "      <td>0.0</td>\n",
       "      <td>-0.43</td>\n",
       "      <td>-0.32</td>\n",
       "      <td>AR Per</td>\n",
       "    </tr>\n",
       "    <tr>\n",
       "      <th>121</th>\n",
       "      <td>0.07</td>\n",
       "      <td>0.0</td>\n",
       "      <td>-0.46</td>\n",
       "      <td>-0.57</td>\n",
       "      <td>KX Lyr</td>\n",
       "    </tr>\n",
       "    <tr>\n",
       "      <th>122</th>\n",
       "      <td>0.07</td>\n",
       "      <td>0.0</td>\n",
       "      <td>-0.87</td>\n",
       "      <td>-0.75</td>\n",
       "      <td>XZ Dra</td>\n",
       "    </tr>\n",
       "    <tr>\n",
       "      <th>123</th>\n",
       "      <td>0.07</td>\n",
       "      <td>0.0</td>\n",
       "      <td>-0.82</td>\n",
       "      <td>-0.90</td>\n",
       "      <td>UU Vir</td>\n",
       "    </tr>\n",
       "    <tr>\n",
       "      <th>124</th>\n",
       "      <td>0.07</td>\n",
       "      <td>0.0</td>\n",
       "      <td>-1.38</td>\n",
       "      <td>-1.17</td>\n",
       "      <td>BH Peg</td>\n",
       "    </tr>\n",
       "    <tr>\n",
       "      <th>125</th>\n",
       "      <td>0.07</td>\n",
       "      <td>0.0</td>\n",
       "      <td>-1.21</td>\n",
       "      <td>-1.22</td>\n",
       "      <td>W CVn</td>\n",
       "    </tr>\n",
       "    <tr>\n",
       "      <th>126</th>\n",
       "      <td>0.07</td>\n",
       "      <td>0.0</td>\n",
       "      <td>-1.03</td>\n",
       "      <td>-1.30</td>\n",
       "      <td>VZ Her</td>\n",
       "    </tr>\n",
       "    <tr>\n",
       "      <th>127</th>\n",
       "      <td>0.07</td>\n",
       "      <td>0.0</td>\n",
       "      <td>-1.19</td>\n",
       "      <td>-1.31</td>\n",
       "      <td>RV UMa</td>\n",
       "    </tr>\n",
       "    <tr>\n",
       "      <th>128</th>\n",
       "      <td>0.07</td>\n",
       "      <td>0.0</td>\n",
       "      <td>-1.57</td>\n",
       "      <td>-1.39</td>\n",
       "      <td>RR Leo</td>\n",
       "    </tr>\n",
       "    <tr>\n",
       "      <th>129</th>\n",
       "      <td>0.07</td>\n",
       "      <td>0.0</td>\n",
       "      <td>-1.37</td>\n",
       "      <td>-1.44</td>\n",
       "      <td>RR Lyr</td>\n",
       "    </tr>\n",
       "    <tr>\n",
       "      <th>130</th>\n",
       "      <td>0.07</td>\n",
       "      <td>0.0</td>\n",
       "      <td>-1.44</td>\n",
       "      <td>-1.46</td>\n",
       "      <td>TU UMa</td>\n",
       "    </tr>\n",
       "    <tr>\n",
       "      <th>131</th>\n",
       "      <td>0.07</td>\n",
       "      <td>0.0</td>\n",
       "      <td>-1.52</td>\n",
       "      <td>-1.61</td>\n",
       "      <td>RR Cet</td>\n",
       "    </tr>\n",
       "    <tr>\n",
       "      <th>132</th>\n",
       "      <td>0.07</td>\n",
       "      <td>0.0</td>\n",
       "      <td>-1.86</td>\n",
       "      <td>-1.77</td>\n",
       "      <td>ST Boo</td>\n",
       "    </tr>\n",
       "    <tr>\n",
       "      <th>133</th>\n",
       "      <td>0.07</td>\n",
       "      <td>0.0</td>\n",
       "      <td>-2.04</td>\n",
       "      <td>-1.94</td>\n",
       "      <td>SV Eri</td>\n",
       "    </tr>\n",
       "    <tr>\n",
       "      <th>134</th>\n",
       "      <td>0.07</td>\n",
       "      <td>0.0</td>\n",
       "      <td>-2.40</td>\n",
       "      <td>-2.68</td>\n",
       "      <td>X Ari</td>\n",
       "    </tr>\n",
       "  </tbody>\n",
       "</table>\n",
       "<p>135 rows × 5 columns</p>\n",
       "</div>"
      ],
      "text/plain": [
       "     err_feh_layden  err_feh_lit  feh_layden  feh_lit star_name\n",
       "0              0.07          0.0       -0.38    -0.33    SW And\n",
       "1              0.07          0.0       -2.40    -2.48     X Ari\n",
       "2              0.07          0.0       -0.32    -0.62    RS Boo\n",
       "3              0.07          0.0       -1.52    -1.51    XZ Cyg\n",
       "4              0.07          0.0       -0.56    -0.51    DX Del\n",
       "5              0.07          0.0       -1.74    -1.75    SU Dra\n",
       "6              0.07          0.0       -0.87    -0.81    XZ Dra\n",
       "7              0.07          0.0       -2.04    -2.11    SV Eri\n",
       "8              0.07          0.0       -1.57    -1.40    RR Leo\n",
       "9              0.07          0.0       -0.14    -0.22    AV Peg\n",
       "10             0.07          0.0       -0.43    -0.24    AR Per\n",
       "11             0.07          0.0       -1.82    -1.93    VY Ser\n",
       "12             0.07          0.0       -1.44    -1.56    TU UMa\n",
       "13             0.07          0.0       -0.82    -0.70    UU Vir\n",
       "14             0.07          0.0       -2.42    -2.54    NR Lyr\n",
       "15             0.07          0.0       -2.01    -1.98    FN Lyr\n",
       "16             0.07          0.0       -1.71    -1.66  V894 Cyg\n",
       "17             0.07          0.0       -2.40    -2.74     X Ari\n",
       "18             0.07          0.0       -1.82    -1.71    VY Ser\n",
       "19             0.07          0.0       -1.86    -1.62    ST Boo\n",
       "20             0.07          0.0       -1.37    -1.27    RR Lyr\n",
       "21             0.07          0.0       -1.52    -1.18    RR Cet\n",
       "22             0.07          0.0       -0.23     0.13  V445 Oph\n",
       "23             0.07          0.0       -0.38     0.20    SW And\n",
       "24             0.07          0.0       -0.58    -0.32    AA Aql\n",
       "25             0.07          0.0       -0.84    -0.69    BR Aqr\n",
       "26             0.07          0.0       -0.83    -0.43    CI And\n",
       "27             0.07          0.0       -0.26    -0.04    CN Lyr\n",
       "28             0.07          0.0       -0.14     0.03    DM Cyg\n",
       "29             0.07          0.0       -0.80    -1.57    DO Vir\n",
       "..              ...          ...         ...      ...       ...\n",
       "105            0.07          0.0       -0.56    -0.39    DX Del\n",
       "106            0.07          0.0       -1.74    -1.97    SU Dra\n",
       "107            0.07          0.0       -1.24    -0.74    SW Dra\n",
       "108            0.07          0.0       -1.33    -1.22    XX Hya\n",
       "109            0.07          0.0       -0.26    -1.10    CN Lyr\n",
       "110            0.07          0.0       -0.46    -0.41    KX Lyr\n",
       "111            0.07          0.0       -1.52    -1.21    DZ Peg\n",
       "112            0.07          0.0       -0.43    -0.23    AR Per\n",
       "113            0.07          0.0       -1.82    -1.53    VY Ser\n",
       "114            0.07          0.0       -1.44    -1.66    TU UMa\n",
       "115            0.07          0.0       -1.45    -1.30    AM Vir\n",
       "116            0.07          0.0       -0.23     0.24  V445 Oph\n",
       "117            0.07          0.0       -0.35     0.01    RR Gem\n",
       "118            0.07          0.0       -0.38    -0.16    SW And\n",
       "119            0.07          0.0       -0.56    -0.21    DX Del\n",
       "120            0.07          0.0       -0.43    -0.32    AR Per\n",
       "121            0.07          0.0       -0.46    -0.57    KX Lyr\n",
       "122            0.07          0.0       -0.87    -0.75    XZ Dra\n",
       "123            0.07          0.0       -0.82    -0.90    UU Vir\n",
       "124            0.07          0.0       -1.38    -1.17    BH Peg\n",
       "125            0.07          0.0       -1.21    -1.22     W CVn\n",
       "126            0.07          0.0       -1.03    -1.30    VZ Her\n",
       "127            0.07          0.0       -1.19    -1.31    RV UMa\n",
       "128            0.07          0.0       -1.57    -1.39    RR Leo\n",
       "129            0.07          0.0       -1.37    -1.44    RR Lyr\n",
       "130            0.07          0.0       -1.44    -1.46    TU UMa\n",
       "131            0.07          0.0       -1.52    -1.61    RR Cet\n",
       "132            0.07          0.0       -1.86    -1.77    ST Boo\n",
       "133            0.07          0.0       -2.04    -1.94    SV Eri\n",
       "134            0.07          0.0       -2.40    -2.68     X Ari\n",
       "\n",
       "[135 rows x 5 columns]"
      ]
     },
     "execution_count": 55,
     "metadata": {},
     "output_type": "execute_result"
    }
   ],
   "source": [
    "fake_dataset_1"
   ]
  },
  {
   "cell_type": "code",
   "execution_count": 56,
   "metadata": {
    "collapsed": false
   },
   "outputs": [
    {
     "data": {
      "image/png": "[encoded data removed]",
      "text/plain": [
       "<Figure size 432x288 with 1 Axes>"
      ]
     },
     "metadata": {
      "needs_background": "light"
     },
     "output_type": "display_data"
    }
   ],
   "source": [
    "plt.errorbar(fake_data_1[\"feh_layden\"], fake_data_1[\"feh_lit\"], \n",
    "             yerr=fake_data_1[\"err_feh_lit\"], xerr=fake_data_1[\"err_feh_layden\"], marker=\"s\", linestyle='')\n",
    "plt.xlabel(\"Fake Layden 94 Fe/H\")\n",
    "plt.ylabel(\"Fake Literature Fe/H\")\n",
    "plt.savefig(\"fake_data.png\")\n",
    "#plt.show()"
   ]
  },
  {
   "cell_type": "markdown",
   "metadata": {},
   "source": [
    "# Step 1: Find the linear regression line to high_res vs. basis Fe/H values"
   ]
  },
  {
   "cell_type": "code",
   "execution_count": 57,
   "metadata": {
    "collapsed": false
   },
   "outputs": [],
   "source": [
    "# Put Fe/H values into a useable form\n",
    "\n",
    "feh_sample = np.transpose([fake_data_1[\"feh_layden\"],fake_data_1[\"feh_lit\"]])"
   ]
  },
  {
   "cell_type": "code",
   "execution_count": 58,
   "metadata": {
    "collapsed": false
   },
   "outputs": [],
   "source": [
    "N_samples = int(1e4)\n",
    "\n",
    "# set RNG for reproducibility\n",
    "with NumpyRNGContext(1):\n",
    "    bootresult = bootstrap(feh_sample, N_samples)"
   ]
  },
  {
   "cell_type": "code",
   "execution_count": 59,
   "metadata": {
    "collapsed": true
   },
   "outputs": [],
   "source": [
    "# for testing results with different seeds\n",
    "#bootresult = bootstrap(feh_sample, N_samples)"
   ]
  },
  {
   "cell_type": "code",
   "execution_count": 60,
   "metadata": {
    "collapsed": true
   },
   "outputs": [],
   "source": [
    "def cdf_fcn(array_input):\n",
    "    '''\n",
    "    Return CDF of an unsorted input array of values\n",
    "    '''\n",
    "    \n",
    "    number_cum_norm = np.divide(np.arange(len(array_input)),len(array_input))\n",
    "    array_input_sort = np.sort(array_input)\n",
    "    array_cdf = np.divide(np.cumsum(array_input_sort),np.cumsum(array_input_sort)[-1])\n",
    "    \n",
    "    return array_input_sort, number_cum_norm"
   ]
  },
  {
   "cell_type": "code",
   "execution_count": 61,
   "metadata": {
    "collapsed": false
   },
   "outputs": [],
   "source": [
    "def cdf_gauss(x_range, mu, sig):\n",
    "    '''\n",
    "    Returns the CDF of a general Gaussian function for any mu and sig\n",
    "    '''\n",
    "    \n",
    "    x_range_adjust = np.divide(np.subtract(x_range, mu), sig) # rescale x -> x* = (x-mu)/sig\n",
    "    erf_return = scipy.special.erf(np.divide(x_range_adjust,np.sqrt(2))) # erf(x*/sqrt(2))\n",
    "    \n",
    "    return np.multiply(0.5,np.add(1., erf_return)) # (1/2)*(1 + erf(x*/sqrt(2)))"
   ]
  },
  {
   "cell_type": "code",
   "execution_count": 43,
   "metadata": {
    "collapsed": false
   },
   "outputs": [
    {
     "data": {
      "image/png": "[encoded data removed]",
      "text/plain": [
       "<Figure size 432x288 with 1 Axes>"
      ]
     },
     "metadata": {
      "needs_background": "light"
     },
     "output_type": "display_data"
    }
   ],
   "source": [
    "# test of cdf_fcn and cdf_gauss\n",
    "\n",
    "x_range = np.arange(-5,5,0.01)\n",
    "mu = -2.\n",
    "sig = 2\n",
    "\n",
    "# sample from a gaussian distribution\n",
    "gaussian_samples = np.random.normal(loc=mu, scale=sig, size=len(x_range))\n",
    "\n",
    "# test my cdf_fcn\n",
    "x_range1, y_range1 = cdf_fcn(gaussian_samples)\n",
    "\n",
    "# test my cdf_gauss fcn\n",
    "y_range = cdf_gauss(x_range, mu, sig)\n",
    "\n",
    "plt.plot(x_range, y_range, color='blue')\n",
    "plt.plot(x_range1, y_range1, color='red')\n",
    "plt.show()\n"
   ]
  },
  {
   "cell_type": "code",
   "execution_count": 44,
   "metadata": {
    "collapsed": false
   },
   "outputs": [],
   "source": [
    "m_array = np.nan*np.ones(len(bootresult))\n",
    "b_array = np.nan*np.ones(len(bootresult))\n",
    "for boot_n in range(0,len(bootresult)):\n",
    "    test_fit = np.polyfit(bootresult[boot_n,:,0], bootresult[boot_n,:,1], 1)\n",
    "    m_array[boot_n] = test_fit[0]\n",
    "    b_array[boot_n] = test_fit[1]"
   ]
  },
  {
   "cell_type": "code",
   "execution_count": 46,
   "metadata": {
    "collapsed": false
   },
   "outputs": [
    {
     "data": {
      "image/png": "[encoded data removed]",
      "text/plain": [
       "<Figure size 432x288 with 1 Axes>"
      ]
     },
     "metadata": {
      "needs_background": "light"
     },
     "output_type": "display_data"
    }
   ],
   "source": [
    "plt.scatter(m_array,b_array,s=1)\n",
    "plt.xlabel(\"slope m\")\n",
    "plt.ylabel(\"y-int b\")\n",
    "plt.savefig(\"line_params.png\")\n",
    "plt.show()"
   ]
  },
  {
   "cell_type": "code",
   "execution_count": 47,
   "metadata": {
    "collapsed": false
   },
   "outputs": [
    {
     "name": "stdout",
     "output_type": "stream",
     "text": [
      "[0.99529299 0.04564448]\n"
     ]
    },
    {
     "data": {
      "image/png": "[encoded data removed]",
      "text/plain": [
       "<Figure size 432x288 with 1 Axes>"
      ]
     },
     "metadata": {
      "needs_background": "light"
     },
     "output_type": "display_data"
    }
   ],
   "source": [
    "# make empirical CDF\n",
    "x_vals, y_vals = cdf_fcn(m_array)\n",
    "\n",
    "# fit a Gaussian\n",
    "popt, pcov = scipy.optimize.curve_fit(cdf_gauss, x_vals, y_vals)\n",
    "print(popt)\n",
    "\n",
    "plt.plot(x_vals, y_vals)\n",
    "plt.plot(x_vals, cdf_gauss(x_vals, *popt))\n",
    "plt.title(\"CDF of slopes m\")\n",
    "plt.savefig(\"line_param_cdf_m.png\")\n",
    "plt.show()"
   ]
  },
  {
   "cell_type": "code",
   "execution_count": 48,
   "metadata": {
    "collapsed": false
   },
   "outputs": [
    {
     "name": "stdout",
     "output_type": "stream",
     "text": [
      "[0.09294489 0.05321327]\n"
     ]
    },
    {
     "data": {
      "image/png": "[encoded data removed]",
      "text/plain": [
       "<Figure size 432x288 with 1 Axes>"
      ]
     },
     "metadata": {
      "needs_background": "light"
     },
     "output_type": "display_data"
    }
   ],
   "source": [
    "x_vals, y_vals = cdf_fcn(b_array)\n",
    "\n",
    "# fit a Gaussian\n",
    "popt, pcov = scipy.optimize.curve_fit(cdf_gauss, x_vals, y_vals)\n",
    "print(popt)\n",
    "\n",
    "plt.plot(x_vals, y_vals)\n",
    "plt.plot(x_vals, cdf_gauss(x_vals, *popt))\n",
    "\n",
    "plt.plot(x_vals, y_vals)\n",
    "plt.title(\"CDF of y-int b\")\n",
    "plt.savefig(\"line_param_cdf_b.png\")\n",
    "plt.show()"
   ]
  },
  {
   "cell_type": "code",
   "execution_count": 49,
   "metadata": {
    "collapsed": false
   },
   "outputs": [],
   "source": [
    "# take one basis set Fe/H (discrete value only) and find what the mapped value should be \n",
    "\n",
    "feh_test = fake_data_1[\"feh_layden\"][0] \n",
    "feh_mapped_array = np.nan*np.ones(len(m_array))\n",
    "\n",
    "for sample_num in range(0,len(m_array)):\n",
    "    \n",
    "    feh_mapped_1sample = m_array[sample_num]*feh_test + b_array[sample_num]\n",
    "    feh_mapped_array[sample_num] = feh_mapped_1sample"
   ]
  },
  {
   "cell_type": "code",
   "execution_count": 68,
   "metadata": {
    "collapsed": false
   },
   "outputs": [
    {
     "data": {
      "text/plain": [
       "0     -0.38\n",
       "1     -2.40\n",
       "2     -0.32\n",
       "3     -1.52\n",
       "4     -0.56\n",
       "5     -1.74\n",
       "6     -0.87\n",
       "7     -2.04\n",
       "8     -1.57\n",
       "9     -0.14\n",
       "10    -0.43\n",
       "11    -1.82\n",
       "12    -1.44\n",
       "13    -0.82\n",
       "14    -2.42\n",
       "15    -2.01\n",
       "16    -1.71\n",
       "17    -2.40\n",
       "18    -1.82\n",
       "19    -1.86\n",
       "20    -1.37\n",
       "21    -1.52\n",
       "22    -0.23\n",
       "23    -0.38\n",
       "24    -0.58\n",
       "25    -0.84\n",
       "26    -0.83\n",
       "27    -0.26\n",
       "28    -0.14\n",
       "29    -0.80\n",
       "       ... \n",
       "105   -0.56\n",
       "106   -1.74\n",
       "107   -1.24\n",
       "108   -1.33\n",
       "109   -0.26\n",
       "110   -0.46\n",
       "111   -1.52\n",
       "112   -0.43\n",
       "113   -1.82\n",
       "114   -1.44\n",
       "115   -1.45\n",
       "116   -0.23\n",
       "117   -0.35\n",
       "118   -0.38\n",
       "119   -0.56\n",
       "120   -0.43\n",
       "121   -0.46\n",
       "122   -0.87\n",
       "123   -0.82\n",
       "124   -1.38\n",
       "125   -1.21\n",
       "126   -1.03\n",
       "127   -1.19\n",
       "128   -1.57\n",
       "129   -1.37\n",
       "130   -1.44\n",
       "131   -1.52\n",
       "132   -1.86\n",
       "133   -2.04\n",
       "134   -2.40\n",
       "Name: FeH_basis, Length: 135, dtype: float64"
      ]
     },
     "execution_count": 68,
     "metadata": {},
     "output_type": "execute_result"
    }
   ],
   "source": [
    "fake_data_1[\"feh_layden\"][:]"
   ]
  },
  {
   "cell_type": "code",
   "execution_count": 70,
   "metadata": {
    "collapsed": false
   },
   "outputs": [
    {
     "name": "stdout",
     "output_type": "stream",
     "text": [
      "-0.38\n",
      "-2.4\n",
      "-0.32\n",
      "-1.52\n",
      "-0.56\n",
      "-1.74\n",
      "-0.87\n",
      "-2.04\n",
      "-1.57\n",
      "-0.14\n",
      "-0.43\n",
      "-1.82\n",
      "-1.44\n",
      "-0.82\n",
      "-2.42\n",
      "-2.01\n",
      "-1.71\n",
      "-2.4\n",
      "-1.82\n",
      "-1.86\n",
      "-1.37\n",
      "-1.52\n",
      "-0.23\n",
      "-0.38\n",
      "-0.58\n",
      "-0.84\n",
      "-0.83\n",
      "-0.26\n",
      "-0.14\n",
      "-0.8\n",
      "-0.56\n",
      "-1.52\n",
      "-0.46\n",
      "-1.52\n",
      "-1.37\n",
      "-0.32\n",
      "-0.38\n",
      "-0.27\n",
      "-0.67\n",
      "-1.0\n",
      "-1.47\n",
      "-0.23\n",
      "-1.82\n",
      "-1.66\n",
      "-1.33\n",
      "-1.57\n",
      "-1.63\n",
      "-1.24\n",
      "-2.4\n",
      "-1.52\n",
      "-0.5\n",
      "-0.56\n",
      "-1.62\n",
      "-1.5\n",
      "-1.83\n",
      "-1.29\n",
      "-1.28\n",
      "-1.34\n",
      "-1.61\n",
      "-0.23\n",
      "-0.14\n",
      "-0.69\n",
      "-0.04\n",
      "-1.82\n",
      "-1.74\n",
      "-1.64\n",
      "-1.49\n",
      "-0.88\n",
      "-0.82\n",
      "-0.38\n",
      "-0.83\n",
      "-0.84\n",
      "-0.32\n",
      "-1.98\n",
      "-1.52\n",
      "-2.34\n",
      "-1.52\n",
      "-1.5\n",
      "-0.14\n",
      "-1.74\n",
      "-1.24\n",
      "-2.12\n",
      "-1.51\n",
      "-1.81\n",
      "-1.75\n",
      "-1.33\n",
      "-1.0\n",
      "-1.29\n",
      "-2.28\n",
      "-1.23\n",
      "-0.26\n",
      "-1.52\n",
      "-0.46\n",
      "-1.42\n",
      "-1.52\n",
      "-0.43\n",
      "-1.82\n",
      "-1.44\n",
      "-0.72\n",
      "-1.46\n",
      "-0.38\n",
      "-1.21\n",
      "-1.57\n",
      "-0.32\n",
      "-1.52\n",
      "-0.56\n",
      "-1.74\n",
      "-1.24\n",
      "-1.33\n",
      "-0.26\n",
      "-0.46\n",
      "-1.52\n",
      "-0.43\n",
      "-1.82\n",
      "-1.44\n",
      "-1.45\n",
      "-0.23\n"
     ]
    },
    {
     "ename": "KeyboardInterrupt",
     "evalue": "",
     "output_type": "error",
     "traceback": [
      "\u001b[0;31m---------------------------------------------------------------------------\u001b[0m",
      "\u001b[0;31mKeyboardInterrupt\u001b[0m                         Traceback (most recent call last)",
      "\u001b[0;32m<ipython-input-70-f0b9e2b35b2c>\u001b[0m in \u001b[0;36m<module>\u001b[0;34m()\u001b[0m\n\u001b[1;32m     27\u001b[0m \u001b[0;34m\u001b[0m\u001b[0m\n\u001b[1;32m     28\u001b[0m         \u001b[0;31m# loop over all (m,b) combinations found further above\u001b[0m\u001b[0;34m\u001b[0m\u001b[0;34m\u001b[0m\u001b[0m\n\u001b[0;32m---> 29\u001b[0;31m         \u001b[0;32mfor\u001b[0m \u001b[0msample_num\u001b[0m \u001b[0;32min\u001b[0m \u001b[0mrange\u001b[0m\u001b[0;34m(\u001b[0m\u001b[0;36m0\u001b[0m\u001b[0;34m,\u001b[0m\u001b[0mlen\u001b[0m\u001b[0;34m(\u001b[0m\u001b[0mm_array\u001b[0m\u001b[0;34m)\u001b[0m\u001b[0;34m)\u001b[0m\u001b[0;34m:\u001b[0m\u001b[0;34m\u001b[0m\u001b[0m\n\u001b[0m\u001b[1;32m     30\u001b[0m \u001b[0;34m\u001b[0m\u001b[0m\n\u001b[1;32m     31\u001b[0m             \u001b[0mfeh_mapped_1sample\u001b[0m \u001b[0;34m=\u001b[0m \u001b[0mm_array\u001b[0m\u001b[0;34m[\u001b[0m\u001b[0msample_num\u001b[0m\u001b[0;34m]\u001b[0m\u001b[0;34m*\u001b[0m\u001b[0mlayden_feh\u001b[0m\u001b[0;34m*\u001b[0m\u001b[0;34m(\u001b[0m\u001b[0;36m1.\u001b[0m \u001b[0;34m+\u001b[0m \u001b[0moffset\u001b[0m\u001b[0;34m)\u001b[0m \u001b[0;34m+\u001b[0m \u001b[0mb_array\u001b[0m\u001b[0;34m[\u001b[0m\u001b[0msample_num\u001b[0m\u001b[0;34m]\u001b[0m\u001b[0;34m\u001b[0m\u001b[0m\n",
      "\u001b[0;31mKeyboardInterrupt\u001b[0m: "
     ]
    },
    {
     "data": {
      "image/png": "[encoded data removed]",
      "text/plain": [
       "<Figure size 432x288 with 1 Axes>"
      ]
     },
     "metadata": {
      "needs_background": "light"
     },
     "output_type": "display_data"
    }
   ],
   "source": [
    "## ## BIG LOOP HERE\n",
    "\n",
    "# take one basis set Fe/H (discrete value only) and find what the mapped value should be \n",
    "\n",
    "for layden_feh_num in range(0,len(fake_data_1[\"feh_layden\"][:])):\n",
    "    feh_test = fake_data_1[\"feh_layden\"][layden_feh_num] \n",
    "    print(feh_test)\n",
    "    feh_mapped_array = np.nan*np.ones(len(m_array))\n",
    "    name_star = fake_data_1[\"star_name\"][layden_feh_num] \n",
    "\n",
    "    for sample_num in range(0,len(m_array)):\n",
    "    \n",
    "        feh_mapped_1sample = m_array[sample_num]*feh_test + b_array[sample_num]\n",
    "        feh_mapped_array[sample_num] = feh_mapped_1sample\n",
    "        \n",
    "    # take one basis set Fe/H (integral over a Gaussian) and find what the mapped value should be \n",
    "    N = 100 # number of samples to take within the Gaussian error around Layden's Fe/H value\n",
    "    gaussian_spread = 0.07\n",
    "    layden_feh = feh_test # this is the discrete value\n",
    "    feh_mapped_array = np.nan*np.ones((len(m_array),N)) # N_m_samples x N_Layden_samples\n",
    "\n",
    "    # loop over each sample within the Gaussian around Layden's Fe/H\n",
    "    for integal_piece in range(0,N):\n",
    "    \n",
    "        # set the offset (note mu=0; this is a relative offset)\n",
    "        offset = np.random.normal(loc = 0.0, scale = gaussian_spread)\n",
    "    \n",
    "        # loop over all (m,b) combinations found further above\n",
    "        for sample_num in range(0,len(m_array)):\n",
    "    \n",
    "            feh_mapped_1sample = m_array[sample_num]*layden_feh*(1. + offset) + b_array[sample_num]\n",
    "            feh_mapped_array[sample_num][integal_piece] = feh_mapped_1sample\n",
    "            \n",
    "    plt.clf()\n",
    "    plt.hist(np.ravel(feh_mapped_array), bins = 100)\n",
    "    plt.title(np.std(np.ravel(feh_mapped_array)))\n",
    "    plt.savefig(\"hist_\" + name_star + \".png\" )"
   ]
  },
  {
   "cell_type": "code",
   "execution_count": 52,
   "metadata": {
    "collapsed": false
   },
   "outputs": [
    {
     "data": {
      "text/plain": [
       "135"
      ]
     },
     "execution_count": 52,
     "metadata": {},
     "output_type": "execute_result"
    }
   ],
   "source": [
    "len(fake_data_1[\"feh_layden\"][:])"
   ]
  },
  {
   "cell_type": "code",
   "execution_count": 50,
   "metadata": {
    "collapsed": false
   },
   "outputs": [],
   "source": [
    "# take one basis set Fe/H (integral over a Gaussian) and find what the mapped value should be \n",
    "\n",
    "N = 100 # number of samples to take within the Gaussian error around Layden's Fe/H value\n",
    "gaussian_spread = 0.07\n",
    "layden_feh = fake_data_1[\"feh_layden\"][0] # this is the discrete value\n",
    "feh_mapped_array = np.nan*np.ones((len(m_array),N)) # N_m_samples x N_Layden_samples\n",
    "\n",
    "# loop over each sample within the Gaussian around Layden's Fe/H\n",
    "for integal_piece in range(0,N):\n",
    "    \n",
    "    # set the offset (note mu=0; this is a relative offset)\n",
    "    offset = np.random.normal(loc = 0.0, scale = gaussian_spread)\n",
    "    \n",
    "    # loop over all (m,b) combinations found further above\n",
    "    for sample_num in range(0,len(m_array)):\n",
    "    \n",
    "        feh_mapped_1sample = m_array[sample_num]*layden_feh*(1. + offset) + b_array[sample_num]\n",
    "        feh_mapped_array[sample_num][integal_piece] = feh_mapped_1sample"
   ]
  },
  {
   "cell_type": "code",
   "execution_count": 51,
   "metadata": {
    "collapsed": false
   },
   "outputs": [
    {
     "name": "stdout",
     "output_type": "stream",
     "text": [
      "0.0482374020824644\n"
     ]
    },
    {
     "data": {
      "image/png": "[encoded data removed]",
      "text/plain": [
       "<Figure size 432x288 with 1 Axes>"
      ]
     },
     "metadata": {
      "needs_background": "light"
     },
     "output_type": "display_data"
    }
   ],
   "source": [
    "print(np.std(np.ravel(feh_mapped_array)))\n",
    "\n",
    "plt.clf()\n",
    "plt.hist(np.ravel(feh_mapped_array), bins = 100)\n",
    "plt.show()"
   ]
  },
  {
   "cell_type": "code",
   "execution_count": null,
   "metadata": {
    "collapsed": true
   },
   "outputs": [],
   "source": []
  },
  {
   "cell_type": "code",
   "execution_count": 71,
   "metadata": {
    "collapsed": false
   },
   "outputs": [
    {
     "ename": "ValueError",
     "evalue": "array must not contain infs or NaNs",
     "output_type": "error",
     "traceback": [
      "\u001b[0;31m---------------------------------------------------------------------------\u001b[0m",
      "\u001b[0;31mValueError\u001b[0m                                Traceback (most recent call last)",
      "\u001b[0;32m<ipython-input-71-93df966fbe6c>\u001b[0m in \u001b[0;36m<module>\u001b[0;34m()\u001b[0m\n\u001b[1;32m      2\u001b[0m \u001b[0;34m\u001b[0m\u001b[0m\n\u001b[1;32m      3\u001b[0m \u001b[0;31m# fit a Gaussian\u001b[0m\u001b[0;34m\u001b[0m\u001b[0;34m\u001b[0m\u001b[0m\n\u001b[0;32m----> 4\u001b[0;31m \u001b[0mpopt\u001b[0m\u001b[0;34m,\u001b[0m \u001b[0mpcov\u001b[0m \u001b[0;34m=\u001b[0m \u001b[0mscipy\u001b[0m\u001b[0;34m.\u001b[0m\u001b[0moptimize\u001b[0m\u001b[0;34m.\u001b[0m\u001b[0mcurve_fit\u001b[0m\u001b[0;34m(\u001b[0m\u001b[0mcdf_gauss\u001b[0m\u001b[0;34m,\u001b[0m \u001b[0mx_vals\u001b[0m\u001b[0;34m,\u001b[0m \u001b[0my_vals\u001b[0m\u001b[0;34m)\u001b[0m\u001b[0;34m\u001b[0m\u001b[0m\n\u001b[0m\u001b[1;32m      5\u001b[0m \u001b[0mprint\u001b[0m\u001b[0;34m(\u001b[0m\u001b[0mpopt\u001b[0m\u001b[0;34m)\u001b[0m\u001b[0;34m\u001b[0m\u001b[0m\n\u001b[1;32m      6\u001b[0m \u001b[0;34m\u001b[0m\u001b[0m\n",
      "\u001b[0;32m/Users/nyumbani/anaconda3/lib/python3.5/site-packages/scipy/optimize/minpack.py\u001b[0m in \u001b[0;36mcurve_fit\u001b[0;34m(f, xdata, ydata, p0, sigma, absolute_sigma, check_finite, bounds, method, jac, **kwargs)\u001b[0m\n\u001b[1;32m    709\u001b[0m         \u001b[0;31m# non-array_like `xdata`.\u001b[0m\u001b[0;34m\u001b[0m\u001b[0;34m\u001b[0m\u001b[0m\n\u001b[1;32m    710\u001b[0m         \u001b[0;32mif\u001b[0m \u001b[0mcheck_finite\u001b[0m\u001b[0;34m:\u001b[0m\u001b[0;34m\u001b[0m\u001b[0m\n\u001b[0;32m--> 711\u001b[0;31m             \u001b[0mxdata\u001b[0m \u001b[0;34m=\u001b[0m \u001b[0mnp\u001b[0m\u001b[0;34m.\u001b[0m\u001b[0masarray_chkfinite\u001b[0m\u001b[0;34m(\u001b[0m\u001b[0mxdata\u001b[0m\u001b[0;34m)\u001b[0m\u001b[0;34m\u001b[0m\u001b[0m\n\u001b[0m\u001b[1;32m    712\u001b[0m         \u001b[0;32melse\u001b[0m\u001b[0;34m:\u001b[0m\u001b[0;34m\u001b[0m\u001b[0m\n\u001b[1;32m    713\u001b[0m             \u001b[0mxdata\u001b[0m \u001b[0;34m=\u001b[0m \u001b[0mnp\u001b[0m\u001b[0;34m.\u001b[0m\u001b[0masarray\u001b[0m\u001b[0;34m(\u001b[0m\u001b[0mxdata\u001b[0m\u001b[0;34m)\u001b[0m\u001b[0;34m\u001b[0m\u001b[0m\n",
      "\u001b[0;32m/Users/nyumbani/anaconda3/lib/python3.5/site-packages/numpy/lib/function_base.py\u001b[0m in \u001b[0;36masarray_chkfinite\u001b[0;34m(a, dtype, order)\u001b[0m\n\u001b[1;32m    459\u001b[0m     \u001b[0;32mif\u001b[0m \u001b[0ma\u001b[0m\u001b[0;34m.\u001b[0m\u001b[0mdtype\u001b[0m\u001b[0;34m.\u001b[0m\u001b[0mchar\u001b[0m \u001b[0;32min\u001b[0m \u001b[0mtypecodes\u001b[0m\u001b[0;34m[\u001b[0m\u001b[0;34m'AllFloat'\u001b[0m\u001b[0;34m]\u001b[0m \u001b[0;32mand\u001b[0m \u001b[0;32mnot\u001b[0m \u001b[0mnp\u001b[0m\u001b[0;34m.\u001b[0m\u001b[0misfinite\u001b[0m\u001b[0;34m(\u001b[0m\u001b[0ma\u001b[0m\u001b[0;34m)\u001b[0m\u001b[0;34m.\u001b[0m\u001b[0mall\u001b[0m\u001b[0;34m(\u001b[0m\u001b[0;34m)\u001b[0m\u001b[0;34m:\u001b[0m\u001b[0;34m\u001b[0m\u001b[0m\n\u001b[1;32m    460\u001b[0m         raise ValueError(\n\u001b[0;32m--> 461\u001b[0;31m             \"array must not contain infs or NaNs\")\n\u001b[0m\u001b[1;32m    462\u001b[0m     \u001b[0;32mreturn\u001b[0m \u001b[0ma\u001b[0m\u001b[0;34m\u001b[0m\u001b[0m\n\u001b[1;32m    463\u001b[0m \u001b[0;34m\u001b[0m\u001b[0m\n",
      "\u001b[0;31mValueError\u001b[0m: array must not contain infs or NaNs"
     ]
    }
   ],
   "source": [
    "x_vals, y_vals = cdf_fcn(feh_mapped_array)\n",
    "\n",
    "# fit a Gaussian\n",
    "popt, pcov = scipy.optimize.curve_fit(cdf_gauss, x_vals, y_vals)\n",
    "print(popt)\n",
    "\n",
    "plt.hist(feh_mapped_array, bins=100)\n",
    "plt.title(\"Histogram of mapped Fe/H (nothing calculated from this)\")\n",
    "plt.show()\n",
    "\n",
    "plt.plot(x_vals, y_vals)\n",
    "plt.plot(x_vals, cdf_gauss(x_vals, *popt))\n",
    "plt.title(\"CDF of mapped Fe/H of one star\")\n",
    "plt.show()"
   ]
  },
  {
   "cell_type": "code",
   "execution_count": 5,
   "metadata": {
    "collapsed": false
   },
   "outputs": [
    {
     "ename": "NameError",
     "evalue": "name 'df_posterior_sample' is not defined",
     "output_type": "error",
     "traceback": [
      "\u001b[0;31m---------------------------------------------------------------------------\u001b[0m",
      "\u001b[0;31mNameError\u001b[0m                                 Traceback (most recent call last)",
      "\u001b[0;32m<ipython-input-5-7cda3aa3087b>\u001b[0m in \u001b[0;36m<module>\u001b[0;34m()\u001b[0m\n\u001b[1;32m     16\u001b[0m \u001b[0mplt\u001b[0m\u001b[0;34m.\u001b[0m\u001b[0mcontourf\u001b[0m\u001b[0;34m(\u001b[0m\u001b[0mxx\u001b[0m\u001b[0;34m,\u001b[0m \u001b[0myy\u001b[0m\u001b[0;34m,\u001b[0m \u001b[0mg2d\u001b[0m\u001b[0;34m(\u001b[0m\u001b[0mxx\u001b[0m\u001b[0;34m,\u001b[0m \u001b[0myy\u001b[0m\u001b[0;34m)\u001b[0m\u001b[0;34m,\u001b[0m \u001b[0morigin\u001b[0m\u001b[0;34m=\u001b[0m\u001b[0;34m\"lower\"\u001b[0m\u001b[0;34m)\u001b[0m\u001b[0;34m\u001b[0m\u001b[0m\n\u001b[1;32m     17\u001b[0m \u001b[0mplt\u001b[0m\u001b[0;34m.\u001b[0m\u001b[0mcolorbar\u001b[0m\u001b[0;34m(\u001b[0m\u001b[0;34m)\u001b[0m\u001b[0;34m\u001b[0m\u001b[0m\n\u001b[0;32m---> 18\u001b[0;31m \u001b[0mplt\u001b[0m\u001b[0;34m.\u001b[0m\u001b[0mscatter\u001b[0m\u001b[0;34m(\u001b[0m\u001b[0mdf_posterior_sample\u001b[0m\u001b[0;34m[\u001b[0m\u001b[0;34m\"x_rand_sample\"\u001b[0m\u001b[0;34m]\u001b[0m\u001b[0;34m,\u001b[0m\u001b[0mdf_posterior_sample\u001b[0m\u001b[0;34m[\u001b[0m\u001b[0;34m\"y_rand_sample\"\u001b[0m\u001b[0;34m]\u001b[0m\u001b[0;34m)\u001b[0m\u001b[0;34m\u001b[0m\u001b[0m\n\u001b[0m\u001b[1;32m     19\u001b[0m \u001b[0mplt\u001b[0m\u001b[0;34m.\u001b[0m\u001b[0mxlabel\u001b[0m\u001b[0;34m(\u001b[0m\u001b[0;34m\"slope m\"\u001b[0m\u001b[0;34m)\u001b[0m\u001b[0;34m\u001b[0m\u001b[0m\n\u001b[1;32m     20\u001b[0m \u001b[0mplt\u001b[0m\u001b[0;34m.\u001b[0m\u001b[0mylabel\u001b[0m\u001b[0;34m(\u001b[0m\u001b[0;34m\"y-intercept b\"\u001b[0m\u001b[0;34m)\u001b[0m\u001b[0;34m\u001b[0m\u001b[0m\n",
      "\u001b[0;31mNameError\u001b[0m: name 'df_posterior_sample' is not defined"
     ]
    },
    {
     "data": {
      "image/png": "[encoded data removed]",
      "text/plain": [
       "<Figure size 576x576 with 2 Axes>"
      ]
     },
     "metadata": {
      "needs_background": "light"
     },
     "output_type": "display_data"
    }
   ],
   "source": [
    "# Gaussian posterior of line parameters, w/ y: y-int, x: slope m\n",
    "\n",
    "xvalues = np.arange(start = 0.2, stop = 1.8, step = 0.01)\n",
    "yvalues = np.arange(start = -0.4, stop = 0.6, step = 0.01)\n",
    "\n",
    "xx, yy = np.meshgrid(xvalues, yvalues)\n",
    "\n",
    "g2d = Gaussian2D(amplitude=1, \n",
    "           x_mean=1.16441617, \n",
    "           y_mean=0.11391776, \n",
    "           x_stddev=np.sqrt(1.16441617), \n",
    "           y_stddev=np.sqrt(0.11391776), \n",
    "           theta=35)\n",
    "\n",
    "plt.figure(figsize = (8,8))\n",
    "plt.contourf(xx, yy, g2d(xx, yy), origin=\"lower\")\n",
    "plt.colorbar()\n",
    "plt.scatter(df_posterior_sample[\"x_rand_sample\"],df_posterior_sample[\"y_rand_sample\"])\n",
    "plt.xlabel(\"slope m\")\n",
    "plt.ylabel(\"y-intercept b\")\n",
    "#plt.savefig(\"posterior_sample_test.png\")\n",
    "plt.show()"
   ]
  },
  {
   "cell_type": "code",
   "execution_count": 6,
   "metadata": {
    "collapsed": false
   },
   "outputs": [],
   "source": [
    "# generate N random points, and keep those below the contour\n",
    "\n",
    "N = 1000\n",
    "x_rand_sample = np.random.uniform(low=xvalues[0], high=xvalues[-1], size=N)\n",
    "y_rand_sample = np.random.uniform(low=yvalues[0], high=yvalues[-1], size=N)\n",
    "z_rand_sample = np.random.uniform(low=0, high=1, size=N)\n",
    "\n",
    "df = pd.DataFrame(x_rand_sample, columns=[\"x_rand_sample\"])\n",
    "df[\"y_rand_sample\"] = y_rand_sample\n",
    "df[\"z_rand_sample\"] = z_rand_sample\n",
    "\n",
    "# consider points below the contour\n",
    "df_posterior_sample = df.where(g2d(df[\"x_rand_sample\"], df[\"y_rand_sample\"]) > df[\"z_rand_sample\"]).dropna().reset_index()"
   ]
  },
  {
   "cell_type": "code",
   "execution_count": 7,
   "metadata": {
    "collapsed": false
   },
   "outputs": [
    {
     "data": {
      "text/plain": [
       "<Figure size 432x288 with 0 Axes>"
      ]
     },
     "metadata": {},
     "output_type": "display_data"
    }
   ],
   "source": [
    "# now draw from the samples of the posterior, and the Gaussian curve around each Layden Fe/H value\n",
    "\n",
    "# loop over each Layden Fe/H value\n",
    "for lay in range(0,len(fake_data_1[\"feh_layden\"])):\n",
    "\n",
    "    mapped_feh_array = np.nan*np.ones(len(df_posterior_sample))\n",
    "    \n",
    "    # loop over each sample of the posterior\n",
    "    for q in range(0,len(df_posterior_sample)):\n",
    "    \n",
    "        layden_feh = fake_data_1[\"feh_layden\"][lay]\n",
    "        \n",
    "        # draw a Layden 94 FeH within the error he gives \n",
    "        layden_feh_sample = layden_feh*(1. + np.random.normal(loc=0.0, scale=fake_data_1[\"err_feh_layden\"][lay] ))\n",
    "        \n",
    "        # make a mapped FeH for each combination of \n",
    "        # slope\n",
    "        # y-intercept\n",
    "        # FeH from Layden 94 (his value plus error)\n",
    "        mapped_feh = layden_feh_sample*df_posterior_sample[\"x_rand_sample\"][q] + df_posterior_sample[\"y_rand_sample\"][q]\n",
    "        mapped_feh_array[q] = mapped_feh\n",
    "        #print(layden_feh_sample)\n",
    "        \n",
    "    plt.hist(mapped_feh_array, bins = 100)\n",
    "    plt.title(\"Layden Fe/H: \"+str(fake_data_1[\"feh_layden\"][lay])+\n",
    "              \"\\n median: \"+str(np.median(mapped_feh_array))+\n",
    "              \"\\n mean: \"+str(np.mean(mapped_feh_array))+\n",
    "              \"\\n stdev: \"+str(np.std(mapped_feh_array)))\n",
    "    plt.tight_layout()\n",
    "    #plt.savefig(\"fake_mapped_\"+str(lay)+\".png\")\n",
    "    plt.clf()"
   ]
  },
  {
   "cell_type": "markdown",
   "metadata": {},
   "source": [
    "# Step 2: Find the remapping of literature metallicities, with errors"
   ]
  },
  {
   "cell_type": "markdown",
   "metadata": {},
   "source": [
    "# Step 3: Find the calibration coefficients (a,b,c,d) with errors"
   ]
  },
  {
   "cell_type": "code",
   "execution_count": null,
   "metadata": {
    "collapsed": true
   },
   "outputs": [],
   "source": []
  }
 ],
 "metadata": {
  "kernelspec": {
   "display_name": "Python 3",
   "language": "python",
   "name": "python3"
  },
  "language_info": {
   "codemirror_mode": {
    "name": "ipython",
    "version": 3
   },
   "file_extension": ".py",
   "mimetype": "text/x-python",
   "name": "python",
   "nbconvert_exporter": "python",
   "pygments_lexer": "ipython3",
   "version": "3.5.4"
  }
 },
 "nbformat": 4,
 "nbformat_minor": 0
}
