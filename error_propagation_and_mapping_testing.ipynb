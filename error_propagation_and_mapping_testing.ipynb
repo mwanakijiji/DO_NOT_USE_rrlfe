{
 "cells": [
  {
   "cell_type": "code",
   "execution_count": null,
   "metadata": {
    "collapsed": true
   },
   "outputs": [],
   "source": [
    "# This tests how we find errors for our calibration program star metallicities, and how we\n",
    "# find final error bars on our calibration solution coefficients\n",
    "\n",
    "# created 2018 Jan 14 by E.S."
   ]
  },
  {
   "cell_type": "code",
   "execution_count": 1,
   "metadata": {
    "collapsed": true
   },
   "outputs": [],
   "source": [
    "import pickle\n",
    "import pandas as pd\n",
    "import matplotlib.pyplot as plt\n",
    "import numpy as np\n",
    "import time\n",
    "import scipy\n",
    "import scipy.stats as stats\n",
    "from scipy import interpolate\n",
    "from astropy.modeling.functional_models import Gaussian2D\n",
    "from astropy.stats import bootstrap\n",
    "from astropy.utils import NumpyRNGContext"
   ]
  },
  {
   "cell_type": "code",
   "execution_count": 2,
   "metadata": {
    "collapsed": false
   },
   "outputs": [],
   "source": [
    "# make some fake data representing the metallicities and errors of stars from the literature\n",
    "\n",
    "'''\n",
    "fake_data_1 = {\"star_name\": [\"AA Aql\",\"AO Peg\",\"BR Aqr\",\"CI And\",\"DM Cyg\",\"DO Vir\",\"DX Del\",\"X Ari\"],\n",
    "                \"feh_lit\": [-1.1,-0.6,-1.29,-1.22,-0.69,-0.43,-0.04,-2.51],\n",
    "                \"feh_layden\": [-1.05,-0.9,-1.15,-1.2,-0.45,-0.7,0.0,-2.1],\n",
    "                \"err_feh_lit\": [0.3,0.3,0.3,0.4,0.2,0.35,0.3,0.4],\n",
    "                \"err_feh_layden\": [0.06,0.06,0.07,0.06,0.07,0.06,0.06,0.07]}\n",
    "\n",
    "fake_dataset_1 = pd.DataFrame(data=fake_data_1)\n",
    "'''"
   ]
  },
  {
   "cell_type": "code",
   "execution_count": 4,
   "metadata": {
    "collapsed": true
   },
   "outputs": [],
   "source": [
    "# read in actual data\n",
    "\n",
    "real_data_1 = pickle.load( open( \"info.pkl\", \"rb\" ) )"
   ]
  },
  {
   "cell_type": "code",
   "execution_count": 5,
   "metadata": {
    "collapsed": false
   },
   "outputs": [],
   "source": [
    "# arrange the data in a way we can use\n",
    "# N.b. This is NOT fake data; I'm just appropriating the old variable name\n",
    "\n",
    "fake_data_1 = { \"star_name\": real_data_1[0][\"name_star\"],\n",
    "                \"feh_lit\": real_data_1[0][\"FeH_highres\"],\n",
    "                \"feh_layden\": real_data_1[0][\"FeH_basis\"],\n",
    "                \"err_feh_lit\": np.zeros(len(real_data_1[0][\"FeH_basis\"])),\n",
    "                \"err_feh_layden\": 0.07*np.ones(len(real_data_1[0][\"FeH_basis\"]))}\n",
    "\n",
    "fake_dataset_1 = pd.DataFrame(data=fake_data_1)"
   ]
  },
  {
   "cell_type": "code",
   "execution_count": 6,
   "metadata": {
    "collapsed": false
   },
   "outputs": [
    {
     "data": {
      "text/plain": [
       "'\\nplt.errorbar(fake_data_1[\"feh_layden\"], fake_data_1[\"feh_lit\"], \\n             yerr=fake_data_1[\"err_feh_lit\"], xerr=fake_data_1[\"err_feh_layden\"], marker=\"s\", linestyle=\\'\\')\\nplt.xlabel(\"Fake Layden 94 Fe/H\")\\nplt.ylabel(\"Fake Literature Fe/H\")\\nplt.savefig(\"fake_data.png\")\\n#plt.show()\\n'"
      ]
     },
     "execution_count": 6,
     "metadata": {},
     "output_type": "execute_result"
    }
   ],
   "source": [
    "# show the points we are working with\n",
    "\n",
    "'''\n",
    "plt.errorbar(fake_data_1[\"feh_layden\"], fake_data_1[\"feh_lit\"], \n",
    "             yerr=fake_data_1[\"err_feh_lit\"], xerr=fake_data_1[\"err_feh_layden\"], marker=\"s\", linestyle='')\n",
    "plt.xlabel(\"Fake Layden 94 Fe/H\")\n",
    "plt.ylabel(\"Fake Literature Fe/H\")\n",
    "plt.savefig(\"fake_data.png\")\n",
    "#plt.show()\n",
    "'''"
   ]
  },
  {
   "cell_type": "markdown",
   "metadata": {},
   "source": [
    "# Step 1: Find the linear regression line to high_res vs. basis Fe/H values"
   ]
  },
  {
   "cell_type": "code",
   "execution_count": 7,
   "metadata": {
    "collapsed": false
   },
   "outputs": [],
   "source": [
    "# Put Fe/H values into a useable form\n",
    "\n",
    "feh_sample = np.transpose([fake_data_1[\"feh_layden\"],fake_data_1[\"feh_lit\"]])"
   ]
  },
  {
   "cell_type": "code",
   "execution_count": 9,
   "metadata": {
    "collapsed": false
   },
   "outputs": [],
   "source": [
    "# Bootstrap\n",
    "\n",
    "N_samples = int(1e4)\n",
    "\n",
    "# set RNG for reproducibility\n",
    "with NumpyRNGContext(1):\n",
    "    bootresult = bootstrap(feh_sample, N_samples)"
   ]
  },
  {
   "cell_type": "code",
   "execution_count": 10,
   "metadata": {
    "collapsed": true
   },
   "outputs": [],
   "source": [
    "# for testing results with different seeds\n",
    "#bootresult = bootstrap(feh_sample, N_samples)"
   ]
  },
  {
   "cell_type": "code",
   "execution_count": 11,
   "metadata": {
    "collapsed": true
   },
   "outputs": [],
   "source": [
    "def cdf_fcn(array_input):\n",
    "    '''\n",
    "    Return CDF of an unsorted input array of values\n",
    "    '''\n",
    "    \n",
    "    number_cum_norm = np.divide(np.arange(len(array_input)),len(array_input))\n",
    "    array_input_sort = np.sort(array_input)\n",
    "    array_cdf = np.divide(np.cumsum(array_input_sort),np.cumsum(array_input_sort)[-1])\n",
    "    \n",
    "    return array_input_sort, number_cum_norm"
   ]
  },
  {
   "cell_type": "code",
   "execution_count": 12,
   "metadata": {
    "collapsed": false
   },
   "outputs": [],
   "source": [
    "def cdf_gauss(x_range, mu, sig):\n",
    "    '''\n",
    "    Returns the CDF of a general Gaussian function for any mu and sig\n",
    "    '''\n",
    "    \n",
    "    x_range_adjust = np.divide(np.subtract(x_range, mu), sig) # rescale x -> x* = (x-mu)/sig\n",
    "    erf_return = scipy.special.erf(np.divide(x_range_adjust,np.sqrt(2))) # erf(x*/sqrt(2))\n",
    "    \n",
    "    return np.multiply(0.5,np.add(1., erf_return)) # (1/2)*(1 + erf(x*/sqrt(2)))"
   ]
  },
  {
   "cell_type": "code",
   "execution_count": 13,
   "metadata": {
    "collapsed": false
   },
   "outputs": [
    {
     "data": {
      "text/plain": [
       "\"\\nx_range = np.arange(-5,5,0.01)\\nmu = -2.\\nsig = 2\\n\\n# sample from a gaussian distribution\\ngaussian_samples = np.random.normal(loc=mu, scale=sig, size=len(x_range))\\n\\n# test my cdf_fcn\\nx_range1, y_range1 = cdf_fcn(gaussian_samples)\\n\\n# test my cdf_gauss fcn\\ny_range = cdf_gauss(x_range, mu, sig)\\n\\nplt.plot(x_range, y_range, color='blue')\\nplt.plot(x_range1, y_range1, color='red')\\nplt.show()\\n\""
      ]
     },
     "execution_count": 13,
     "metadata": {},
     "output_type": "execute_result"
    }
   ],
   "source": [
    "# test of cdf_fcn and cdf_gauss\n",
    "\n",
    "'''\n",
    "x_range = np.arange(-5,5,0.01)\n",
    "mu = -2.\n",
    "sig = 2\n",
    "\n",
    "# sample from a gaussian distribution\n",
    "gaussian_samples = np.random.normal(loc=mu, scale=sig, size=len(x_range))\n",
    "\n",
    "# test my cdf_fcn\n",
    "x_range1, y_range1 = cdf_fcn(gaussian_samples)\n",
    "\n",
    "# test my cdf_gauss fcn\n",
    "y_range = cdf_gauss(x_range, mu, sig)\n",
    "\n",
    "plt.plot(x_range, y_range, color='blue')\n",
    "plt.plot(x_range1, y_range1, color='red')\n",
    "plt.show()\n",
    "'''"
   ]
  },
  {
   "cell_type": "code",
   "execution_count": 14,
   "metadata": {
    "collapsed": false
   },
   "outputs": [],
   "source": [
    "# populate the arrays with bootstrap results\n",
    "\n",
    "m_array = np.nan*np.ones(len(bootresult))\n",
    "b_array = np.nan*np.ones(len(bootresult))\n",
    "for boot_n in range(0,len(bootresult)):\n",
    "    test_fit = np.polyfit(bootresult[boot_n,:,0], bootresult[boot_n,:,1], 1)\n",
    "    m_array[boot_n] = test_fit[0]\n",
    "    b_array[boot_n] = test_fit[1]"
   ]
  },
  {
   "cell_type": "code",
   "execution_count": 15,
   "metadata": {
    "collapsed": false
   },
   "outputs": [
    {
     "data": {
      "image/png": "[encoded data removed]",
      "text/plain": [
       "<Figure size 432x288 with 1 Axes>"
      ]
     },
     "metadata": {
      "needs_background": "light"
     },
     "output_type": "display_data"
    }
   ],
   "source": [
    "# show m-b space\n",
    "\n",
    "plt.scatter(m_array,b_array,s=1)\n",
    "plt.xlabel(\"slope m\")\n",
    "plt.ylabel(\"y-int b\")\n",
    "plt.savefig(\"line_params.png\")\n",
    "plt.show()"
   ]
  },
  {
   "cell_type": "code",
   "execution_count": 16,
   "metadata": {
    "collapsed": false
   },
   "outputs": [
    {
     "name": "stdout",
     "output_type": "stream",
     "text": [
      "[0.99529299 0.04564448]\n"
     ]
    },
    {
     "data": {
      "image/png": "[encoded data removed]",
      "text/plain": [
       "<Figure size 432x288 with 1 Axes>"
      ]
     },
     "metadata": {
      "needs_background": "light"
     },
     "output_type": "display_data"
    }
   ],
   "source": [
    "# make empirical CDF of m\n",
    "\n",
    "x_vals, y_vals = cdf_fcn(m_array)\n",
    "\n",
    "# fit a Gaussian\n",
    "popt, pcov = scipy.optimize.curve_fit(cdf_gauss, x_vals, y_vals)\n",
    "print(popt)\n",
    "\n",
    "plt.plot(x_vals, y_vals)\n",
    "plt.plot(x_vals, cdf_gauss(x_vals, *popt))\n",
    "plt.title(\"CDF of slopes m\")\n",
    "plt.savefig(\"line_param_cdf_m.png\")\n",
    "plt.show()"
   ]
  },
  {
   "cell_type": "code",
   "execution_count": 17,
   "metadata": {
    "collapsed": false
   },
   "outputs": [
    {
     "name": "stdout",
     "output_type": "stream",
     "text": [
      "[0.09294489 0.05321327]\n"
     ]
    },
    {
     "data": {
      "image/png": "[encoded data removed]",
      "text/plain": [
       "<Figure size 432x288 with 1 Axes>"
      ]
     },
     "metadata": {
      "needs_background": "light"
     },
     "output_type": "display_data"
    }
   ],
   "source": [
    "# make empirical CDF of b\n",
    "\n",
    "x_vals, y_vals = cdf_fcn(b_array)\n",
    "\n",
    "# fit a Gaussian\n",
    "popt, pcov = scipy.optimize.curve_fit(cdf_gauss, x_vals, y_vals)\n",
    "print(popt)\n",
    "\n",
    "plt.plot(x_vals, y_vals)\n",
    "plt.plot(x_vals, cdf_gauss(x_vals, *popt))\n",
    "\n",
    "plt.plot(x_vals, y_vals)\n",
    "plt.title(\"CDF of y-int b\")\n",
    "plt.savefig(\"line_param_cdf_b.png\")\n",
    "plt.show()"
   ]
  },
  {
   "cell_type": "code",
   "execution_count": 21,
   "metadata": {
    "collapsed": true
   },
   "outputs": [],
   "source": [
    "def make_hist_plot(name_star,feh_mapped_array):\n",
    "\n",
    "    plt.clf()\n",
    "    plt.hist(np.ravel(feh_mapped_array), bins = 100)\n",
    "    plt.title(name_star + \"\\n\" + \"std = \"+str(np.std(np.ravel(feh_mapped_array))))\n",
    "    plt.xlabel(\"Fe/H\")\n",
    "    plt.tight_layout()\n",
    "    plt.savefig(\"junk_images/\" + name_star + \"_hist.pdf\")\n",
    "    plt.close()"
   ]
  },
  {
   "cell_type": "code",
   "execution_count": 22,
   "metadata": {
    "collapsed": false
   },
   "outputs": [],
   "source": [
    "def make_cdf_plot(name_star,feh_mapped_array):\n",
    "\n",
    "    x_vals, y_vals = cdf_fcn(np.ravel(feh_mapped_array))\n",
    "\n",
    "    # fit a Gaussian\n",
    "    popt, pcov = scipy.optimize.curve_fit(cdf_gauss, x_vals, y_vals)\n",
    "\n",
    "    print(\"Line parameters\")\n",
    "    print(popt)\n",
    "\n",
    "    xvals_interp = np.arange(x_vals[0], x_vals[-1], 0.001)\n",
    "    yvals_interp = np.interp(xvals_interp, x_vals, y_vals)\n",
    "\n",
    "    # find element of value closest to 0.5\n",
    "    percent_bar = 0.5\n",
    "    idx = np.abs(yvals_interp - percent_bar).argmin()\n",
    "\n",
    "\n",
    "    # ---------------------------------------------------------------------------\n",
    "\n",
    "    # SIGMA DEFINITION 1: FIND MEDIAN AND SIGMA BRACKETS AROUND IT\n",
    "    # find element of value closest to 1-sigma limit (on low side)\n",
    "    percent_bar_1sig_low = 0.5 - 0.5*0.682689492\n",
    "    idx_1sig_low = np.abs(yvals_interp - percent_bar_1sig_low).argmin()\n",
    "    # find element of value closest to 1-sigma limit (on high side)\n",
    "    percent_bar_1sig_high = 0.5 + 0.5*0.682689492\n",
    "    idx_1sig_high = np.abs(yvals_interp - percent_bar_1sig_high).argmin()\n",
    "\n",
    "    # SIGMA DEFINITION 2: FIND NARROWEST REGION CONTAINING 1-SIGMA WORTH OF POINTS\n",
    "    shortest_xrange = xvals_interp[-1] - xvals_interp[0]\n",
    "    shortest_xrange_lower = xvals_interp[0]\n",
    "\n",
    "    for t in range(0,len(xvals_interp)):\n",
    "    \n",
    "        lower_bar_y = yvals_interp[t]\n",
    "        upper_bar_y = yvals_interp[t] + 0.682689492\n",
    "    \n",
    "        # break if the range will go beyond data points\n",
    "        if (upper_bar_y > 0.99):\n",
    "            break\n",
    "    \n",
    "        idx_1sig_here = t\n",
    "        idx_1sig_above = np.abs(yvals_interp - upper_bar_y).argmin()\n",
    "    \n",
    "        if (np.subtract(xvals_interp[idx_1sig_above],\n",
    "                        xvals_interp[idx_1sig_here]) < shortest_xrange):\n",
    "        \n",
    "            shortest_xrange = xvals_interp[idx_1sig_above] - xvals_interp[idx_1sig_here]\n",
    "            shortest_xrange_lower = xvals_interp[idx_1sig_here]\n",
    "            shortest_xrange_upper = xvals_interp[idx_1sig_above]\n",
    "            shortest_xrange_halfway = 0.5*np.subtract(shortest_xrange_upper,shortest_xrange_lower)+shortest_xrange_lower\n",
    "\n",
    "    # ---------------------------------------------------------------------------\n",
    "\n",
    "    # test how gaussian the data is, based on earlier fit\n",
    "    print(\"K-S test\")\n",
    "    print(stats.kstest(y_vals, 'norm', args=popt)[0])\n",
    "    print(stats.kstest(y_vals, 'norm', args=popt)[1])\n",
    "    \n",
    "    print(\"Fe/H at 50 percentile\")\n",
    "    print(xvals_interp[idx])\n",
    "\n",
    "    print(\"1-sigma interval\")\n",
    "    print(xvals_interp[idx_1sig_low])\n",
    "    print(xvals_interp[idx_1sig_high])\n",
    "\n",
    "    plt.clf()\n",
    "    plt.plot(x_vals, y_vals)\n",
    "    plt.plot(x_vals, cdf_gauss(x_vals, *popt), linestyle=\":\", color=\"k\")\n",
    "    plt.axvline(xvals_interp[idx], color='blue')\n",
    "    plt.axvline(xvals_interp[idx_1sig_low], color='blue')\n",
    "    plt.axvline(xvals_interp[idx_1sig_high], color='blue')\n",
    "    plt.axvline(shortest_xrange_lower, color='orange')\n",
    "    plt.axvline(shortest_xrange_upper, color='orange')\n",
    "    plt.axvline(shortest_xrange_halfway, color='orange')\n",
    "    plt.xlabel(\"Fe/H\")\n",
    "    plt.ylabel(\"CDF\")\n",
    "    plt.title(name_star + \"\\n\"+\\\n",
    "          \"Fe/H based on median (blue): \"\n",
    "          + \"{:.{}f}\".format( xvals_interp[idx], 3) + \", +\" + \"{:.{}f}\".format( np.subtract(xvals_interp[idx_1sig_high],xvals_interp[idx]), 3) \n",
    "          + \", -\" + \"{:.{}f}\".format( np.subtract(xvals_interp[idx],xvals_interp[idx_1sig_low]), 3) +\"\\n\"+\\\n",
    "          \"Fe/H based on shortest range (orange): \"\n",
    "          + \"{:.{}f}\".format( shortest_xrange_halfway, 3) + \", +\" + \"{:.{}f}\".format( np.subtract(shortest_xrange_upper,shortest_xrange_halfway), 3) \n",
    "          + \", -\" + \"{:.{}f}\".format( np.subtract(shortest_xrange_halfway,shortest_xrange_lower), 3))\n",
    "    plt.tight_layout()\n",
    "    plt.savefig(\"junk_images/\" + name_star + \"_cdf.pdf\")\n",
    "    plt.close()"
   ]
  },
  {
   "cell_type": "code",
   "execution_count": 20,
   "metadata": {
    "collapsed": false
   },
   "outputs": [
    {
     "name": "stdout",
     "output_type": "stream",
     "text": [
      "Star:\n",
      "SW And\n",
      "Layden Fe/H:\n",
      "-0.38\n",
      "Line parameters\n",
      "[-0.28734775  0.04618742]\n",
      "K-S test\n",
      "0.9999999997535411\n",
      "0.0\n",
      "Fe/H at 50 percentile\n",
      "-0.2867995086058243\n",
      "1-sigma interval\n",
      "-0.33379950860582436\n",
      "-0.24179950860582428\n",
      "Elapsed time:\n",
      "5.123814105987549\n",
      "--------------------------\n",
      "Star:\n",
      "X Ari\n",
      "Layden Fe/H:\n",
      "-2.4\n"
     ]
    },
    {
     "ename": "KeyboardInterrupt",
     "evalue": "",
     "output_type": "error",
     "traceback": [
      "\u001b[0;31m---------------------------------------------------------------------------\u001b[0m",
      "\u001b[0;31mKeyboardInterrupt\u001b[0m                         Traceback (most recent call last)",
      "\u001b[0;32m<ipython-input-20-560240c864b4>\u001b[0m in \u001b[0;36m<module>\u001b[0;34m()\u001b[0m\n\u001b[1;32m     40\u001b[0m     \u001b[0;31m# make plots\u001b[0m\u001b[0;34m\u001b[0m\u001b[0;34m\u001b[0m\u001b[0m\n\u001b[1;32m     41\u001b[0m     \u001b[0mmake_hist_plot\u001b[0m\u001b[0;34m(\u001b[0m\u001b[0mname_star\u001b[0m\u001b[0;34m,\u001b[0m\u001b[0mfeh_mapped_array\u001b[0m\u001b[0;34m)\u001b[0m\u001b[0;34m\u001b[0m\u001b[0m\n\u001b[0;32m---> 42\u001b[0;31m     \u001b[0mmake_cdf_plot\u001b[0m\u001b[0;34m(\u001b[0m\u001b[0mname_star\u001b[0m\u001b[0;34m,\u001b[0m\u001b[0mfeh_mapped_array\u001b[0m\u001b[0;34m)\u001b[0m\u001b[0;34m\u001b[0m\u001b[0m\n\u001b[0m\u001b[1;32m     43\u001b[0m \u001b[0;34m\u001b[0m\u001b[0m\n\u001b[1;32m     44\u001b[0m     \u001b[0mprint\u001b[0m\u001b[0;34m(\u001b[0m\u001b[0;34m\"Elapsed time:\"\u001b[0m\u001b[0;34m)\u001b[0m\u001b[0;34m\u001b[0m\u001b[0m\n",
      "\u001b[0;32m<ipython-input-19-53ff8f12487b>\u001b[0m in \u001b[0;36mmake_cdf_plot\u001b[0;34m(name_star, feh_mapped_array)\u001b[0m\n\u001b[1;32m      4\u001b[0m \u001b[0;34m\u001b[0m\u001b[0m\n\u001b[1;32m      5\u001b[0m     \u001b[0;31m# fit a Gaussian\u001b[0m\u001b[0;34m\u001b[0m\u001b[0;34m\u001b[0m\u001b[0m\n\u001b[0;32m----> 6\u001b[0;31m     \u001b[0mpopt\u001b[0m\u001b[0;34m,\u001b[0m \u001b[0mpcov\u001b[0m \u001b[0;34m=\u001b[0m \u001b[0mscipy\u001b[0m\u001b[0;34m.\u001b[0m\u001b[0moptimize\u001b[0m\u001b[0;34m.\u001b[0m\u001b[0mcurve_fit\u001b[0m\u001b[0;34m(\u001b[0m\u001b[0mcdf_gauss\u001b[0m\u001b[0;34m,\u001b[0m \u001b[0mx_vals\u001b[0m\u001b[0;34m,\u001b[0m \u001b[0my_vals\u001b[0m\u001b[0;34m)\u001b[0m\u001b[0;34m\u001b[0m\u001b[0m\n\u001b[0m\u001b[1;32m      7\u001b[0m \u001b[0;34m\u001b[0m\u001b[0m\n\u001b[1;32m      8\u001b[0m     \u001b[0mprint\u001b[0m\u001b[0;34m(\u001b[0m\u001b[0;34m\"Line parameters\"\u001b[0m\u001b[0;34m)\u001b[0m\u001b[0;34m\u001b[0m\u001b[0m\n",
      "\u001b[0;32m/Users/nyumbani/anaconda3/lib/python3.5/site-packages/scipy/optimize/minpack.py\u001b[0m in \u001b[0;36mcurve_fit\u001b[0;34m(f, xdata, ydata, p0, sigma, absolute_sigma, check_finite, bounds, method, jac, **kwargs)\u001b[0m\n\u001b[1;32m    742\u001b[0m         \u001b[0;31m# Remove full_output from kwargs, otherwise we're passing it in twice.\u001b[0m\u001b[0;34m\u001b[0m\u001b[0;34m\u001b[0m\u001b[0m\n\u001b[1;32m    743\u001b[0m         \u001b[0mreturn_full\u001b[0m \u001b[0;34m=\u001b[0m \u001b[0mkwargs\u001b[0m\u001b[0;34m.\u001b[0m\u001b[0mpop\u001b[0m\u001b[0;34m(\u001b[0m\u001b[0;34m'full_output'\u001b[0m\u001b[0;34m,\u001b[0m \u001b[0;32mFalse\u001b[0m\u001b[0;34m)\u001b[0m\u001b[0;34m\u001b[0m\u001b[0m\n\u001b[0;32m--> 744\u001b[0;31m         \u001b[0mres\u001b[0m \u001b[0;34m=\u001b[0m \u001b[0mleastsq\u001b[0m\u001b[0;34m(\u001b[0m\u001b[0mfunc\u001b[0m\u001b[0;34m,\u001b[0m \u001b[0mp0\u001b[0m\u001b[0;34m,\u001b[0m \u001b[0mDfun\u001b[0m\u001b[0;34m=\u001b[0m\u001b[0mjac\u001b[0m\u001b[0;34m,\u001b[0m \u001b[0mfull_output\u001b[0m\u001b[0;34m=\u001b[0m\u001b[0;36m1\u001b[0m\u001b[0;34m,\u001b[0m \u001b[0;34m**\u001b[0m\u001b[0mkwargs\u001b[0m\u001b[0;34m)\u001b[0m\u001b[0;34m\u001b[0m\u001b[0m\n\u001b[0m\u001b[1;32m    745\u001b[0m         \u001b[0mpopt\u001b[0m\u001b[0;34m,\u001b[0m \u001b[0mpcov\u001b[0m\u001b[0;34m,\u001b[0m \u001b[0minfodict\u001b[0m\u001b[0;34m,\u001b[0m \u001b[0merrmsg\u001b[0m\u001b[0;34m,\u001b[0m \u001b[0mier\u001b[0m \u001b[0;34m=\u001b[0m \u001b[0mres\u001b[0m\u001b[0;34m\u001b[0m\u001b[0m\n\u001b[1;32m    746\u001b[0m         \u001b[0mcost\u001b[0m \u001b[0;34m=\u001b[0m \u001b[0mnp\u001b[0m\u001b[0;34m.\u001b[0m\u001b[0msum\u001b[0m\u001b[0;34m(\u001b[0m\u001b[0minfodict\u001b[0m\u001b[0;34m[\u001b[0m\u001b[0;34m'fvec'\u001b[0m\u001b[0;34m]\u001b[0m \u001b[0;34m**\u001b[0m \u001b[0;36m2\u001b[0m\u001b[0;34m)\u001b[0m\u001b[0;34m\u001b[0m\u001b[0m\n",
      "\u001b[0;32m/Users/nyumbani/anaconda3/lib/python3.5/site-packages/scipy/optimize/minpack.py\u001b[0m in \u001b[0;36mleastsq\u001b[0;34m(func, x0, args, Dfun, full_output, col_deriv, ftol, xtol, gtol, maxfev, epsfcn, factor, diag)\u001b[0m\n\u001b[1;32m    392\u001b[0m             \u001b[0mmaxfev\u001b[0m \u001b[0;34m=\u001b[0m \u001b[0;36m200\u001b[0m\u001b[0;34m*\u001b[0m\u001b[0;34m(\u001b[0m\u001b[0mn\u001b[0m \u001b[0;34m+\u001b[0m \u001b[0;36m1\u001b[0m\u001b[0;34m)\u001b[0m\u001b[0;34m\u001b[0m\u001b[0m\n\u001b[1;32m    393\u001b[0m         retval = _minpack._lmdif(func, x0, args, full_output, ftol, xtol,\n\u001b[0;32m--> 394\u001b[0;31m                                  gtol, maxfev, epsfcn, factor, diag)\n\u001b[0m\u001b[1;32m    395\u001b[0m     \u001b[0;32melse\u001b[0m\u001b[0;34m:\u001b[0m\u001b[0;34m\u001b[0m\u001b[0m\n\u001b[1;32m    396\u001b[0m         \u001b[0;32mif\u001b[0m \u001b[0mcol_deriv\u001b[0m\u001b[0;34m:\u001b[0m\u001b[0;34m\u001b[0m\u001b[0m\n",
      "\u001b[0;32m/Users/nyumbani/anaconda3/lib/python3.5/site-packages/scipy/optimize/minpack.py\u001b[0m in \u001b[0;36mfunc_wrapped\u001b[0;34m(params)\u001b[0m\n\u001b[1;32m    454\u001b[0m     \u001b[0;32mif\u001b[0m \u001b[0mtransform\u001b[0m \u001b[0;32mis\u001b[0m \u001b[0;32mNone\u001b[0m\u001b[0;34m:\u001b[0m\u001b[0;34m\u001b[0m\u001b[0m\n\u001b[1;32m    455\u001b[0m         \u001b[0;32mdef\u001b[0m \u001b[0mfunc_wrapped\u001b[0m\u001b[0;34m(\u001b[0m\u001b[0mparams\u001b[0m\u001b[0;34m)\u001b[0m\u001b[0;34m:\u001b[0m\u001b[0;34m\u001b[0m\u001b[0m\n\u001b[0;32m--> 456\u001b[0;31m             \u001b[0;32mreturn\u001b[0m \u001b[0mfunc\u001b[0m\u001b[0;34m(\u001b[0m\u001b[0mxdata\u001b[0m\u001b[0;34m,\u001b[0m \u001b[0;34m*\u001b[0m\u001b[0mparams\u001b[0m\u001b[0;34m)\u001b[0m \u001b[0;34m-\u001b[0m \u001b[0mydata\u001b[0m\u001b[0;34m\u001b[0m\u001b[0m\n\u001b[0m\u001b[1;32m    457\u001b[0m     \u001b[0;32melif\u001b[0m \u001b[0mtransform\u001b[0m\u001b[0;34m.\u001b[0m\u001b[0mndim\u001b[0m \u001b[0;34m==\u001b[0m \u001b[0;36m1\u001b[0m\u001b[0;34m:\u001b[0m\u001b[0;34m\u001b[0m\u001b[0m\n\u001b[1;32m    458\u001b[0m         \u001b[0;32mdef\u001b[0m \u001b[0mfunc_wrapped\u001b[0m\u001b[0;34m(\u001b[0m\u001b[0mparams\u001b[0m\u001b[0;34m)\u001b[0m\u001b[0;34m:\u001b[0m\u001b[0;34m\u001b[0m\u001b[0m\n",
      "\u001b[0;32m<ipython-input-12-4c30110b2c35>\u001b[0m in \u001b[0;36mcdf_gauss\u001b[0;34m(x_range, mu, sig)\u001b[0m\n\u001b[1;32m      5\u001b[0m \u001b[0;34m\u001b[0m\u001b[0m\n\u001b[1;32m      6\u001b[0m     \u001b[0mx_range_adjust\u001b[0m \u001b[0;34m=\u001b[0m \u001b[0mnp\u001b[0m\u001b[0;34m.\u001b[0m\u001b[0mdivide\u001b[0m\u001b[0;34m(\u001b[0m\u001b[0mnp\u001b[0m\u001b[0;34m.\u001b[0m\u001b[0msubtract\u001b[0m\u001b[0;34m(\u001b[0m\u001b[0mx_range\u001b[0m\u001b[0;34m,\u001b[0m \u001b[0mmu\u001b[0m\u001b[0;34m)\u001b[0m\u001b[0;34m,\u001b[0m \u001b[0msig\u001b[0m\u001b[0;34m)\u001b[0m \u001b[0;31m# rescale x -> x* = (x-mu)/sig\u001b[0m\u001b[0;34m\u001b[0m\u001b[0m\n\u001b[0;32m----> 7\u001b[0;31m     \u001b[0merf_return\u001b[0m \u001b[0;34m=\u001b[0m \u001b[0mscipy\u001b[0m\u001b[0;34m.\u001b[0m\u001b[0mspecial\u001b[0m\u001b[0;34m.\u001b[0m\u001b[0merf\u001b[0m\u001b[0;34m(\u001b[0m\u001b[0mnp\u001b[0m\u001b[0;34m.\u001b[0m\u001b[0mdivide\u001b[0m\u001b[0;34m(\u001b[0m\u001b[0mx_range_adjust\u001b[0m\u001b[0;34m,\u001b[0m\u001b[0mnp\u001b[0m\u001b[0;34m.\u001b[0m\u001b[0msqrt\u001b[0m\u001b[0;34m(\u001b[0m\u001b[0;36m2\u001b[0m\u001b[0;34m)\u001b[0m\u001b[0;34m)\u001b[0m\u001b[0;34m)\u001b[0m \u001b[0;31m# erf(x*/sqrt(2))\u001b[0m\u001b[0;34m\u001b[0m\u001b[0m\n\u001b[0m\u001b[1;32m      8\u001b[0m \u001b[0;34m\u001b[0m\u001b[0m\n\u001b[1;32m      9\u001b[0m     \u001b[0;32mreturn\u001b[0m \u001b[0mnp\u001b[0m\u001b[0;34m.\u001b[0m\u001b[0mmultiply\u001b[0m\u001b[0;34m(\u001b[0m\u001b[0;36m0.5\u001b[0m\u001b[0;34m,\u001b[0m\u001b[0mnp\u001b[0m\u001b[0;34m.\u001b[0m\u001b[0madd\u001b[0m\u001b[0;34m(\u001b[0m\u001b[0;36m1.\u001b[0m\u001b[0;34m,\u001b[0m \u001b[0merf_return\u001b[0m\u001b[0;34m)\u001b[0m\u001b[0;34m)\u001b[0m \u001b[0;31m# (1/2)*(1 + erf(x*/sqrt(2)))\u001b[0m\u001b[0;34m\u001b[0m\u001b[0m\n",
      "\u001b[0;31mKeyboardInterrupt\u001b[0m: "
     ]
    },
    {
     "data": {
      "image/png": "[encoded data removed]",
      "text/plain": [
       "<Figure size 432x288 with 1 Axes>"
      ]
     },
     "metadata": {
      "needs_background": "light"
     },
     "output_type": "display_data"
    }
   ],
   "source": [
    "## ## BIG LOOP HERE FOR MAPPING\n",
    "\n",
    "# take one basis set Fe/H (discrete value only) and find what the mapped value should be \n",
    "\n",
    "for layden_feh_num in range(0,len(fake_data_1[\"star_name\"][:].unique())):\n",
    "    time_start = time.time()\n",
    "    feh_mapped_array = np.nan*np.ones(len(m_array)) # initialize array\n",
    "    \n",
    "    # get name and Layden Fe/H of star\n",
    "    name_star = fake_data_1[\"star_name\"][:].unique()[layden_feh_num] \n",
    "    feh_test = fake_data_1[\"feh_layden\"][:].unique()[layden_feh_num]\n",
    "    print(\"Star:\")\n",
    "    print(name_star)\n",
    "    print(\"Layden Fe/H:\")\n",
    "    print(feh_test)\n",
    "    \n",
    "    for sample_num in range(0,len(m_array)):\n",
    "    \n",
    "        feh_mapped_1sample = m_array[sample_num]*feh_test + b_array[sample_num]\n",
    "        feh_mapped_array[sample_num] = feh_mapped_1sample\n",
    "        \n",
    "    # take one basis set Fe/H (integral over a Gaussian) and find what the mapped value should be \n",
    "    N = 100 # number of samples to take within the Gaussian error around Layden's Fe/H value\n",
    "    gaussian_spread = 0.07\n",
    "    layden_feh = feh_test # this is the discrete value\n",
    "    feh_mapped_array = np.nan*np.ones((len(m_array),N)) # N_m_samples x N_Layden_samples\n",
    "\n",
    "    # loop over each sample within the Gaussian around Layden's Fe/H\n",
    "    for integal_piece in range(0,N):\n",
    "    \n",
    "        # set the offset (note mu=0; this is a relative offset)\n",
    "        offset = np.random.normal(loc = 0.0, scale = gaussian_spread)\n",
    "    \n",
    "        # loop over all (m,b) combinations found further above\n",
    "        for sample_num in range(0,len(m_array)):\n",
    "    \n",
    "            feh_mapped_1sample = m_array[sample_num]*layden_feh*(1. + offset) + b_array[sample_num]\n",
    "            feh_mapped_array[sample_num][integal_piece] = feh_mapped_1sample\n",
    "    \n",
    "    # make plots\n",
    "    make_hist_plot(name_star,feh_mapped_array)\n",
    "    make_cdf_plot(name_star,feh_mapped_array)\n",
    "\n",
    "    print(\"Elapsed time:\")\n",
    "    print(str(time.time() - time_start))\n",
    "    print(\"--------------------------\")"
   ]
  },
  {
   "cell_type": "markdown",
   "metadata": {},
   "source": [
    "# Step 2: Find the remapping of literature metallicities, with errors"
   ]
  },
  {
   "cell_type": "markdown",
   "metadata": {},
   "source": [
    "# Step 3: Find the calibration coefficients (a,b,c,d) with errors"
   ]
  },
  {
   "cell_type": "code",
   "execution_count": null,
   "metadata": {
    "collapsed": true
   },
   "outputs": [],
   "source": []
  }
 ],
 "metadata": {
  "kernelspec": {
   "display_name": "Python 3",
   "language": "python",
   "name": "python3"
  },
  "language_info": {
   "codemirror_mode": {
    "name": "ipython",
    "version": 3
   },
   "file_extension": ".py",
   "mimetype": "text/x-python",
   "name": "python",
   "nbconvert_exporter": "python",
   "pygments_lexer": "ipython3",
   "version": "3.5.4"
  }
 },
 "nbformat": 4,
 "nbformat_minor": 0
}
