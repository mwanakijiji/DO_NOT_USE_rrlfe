{
 "cells": [
  {
   "cell_type": "code",
   "execution_count": null,
   "id": "bottom-harvest",
   "metadata": {},
   "outputs": [],
   "source": [
    "# This reads in SDSS spectra, clips them to restrict them to the wavelength range of \n",
    "# interest, and calculates the S/N given the unnormalized flux and noise from SDSS\n",
    "\n",
    "# Created 2021 July 18 by E.S."
   ]
  },
  {
   "cell_type": "code",
   "execution_count": null,
   "id": "built-eleven",
   "metadata": {},
   "outputs": [],
   "source": [
    "# path stems"
   ]
  },
  {
   "cell_type": "code",
   "execution_count": null,
   "id": "coated-difference",
   "metadata": {},
   "outputs": [],
   "source": [
    "# read in each file, clip, find S/N"
   ]
  },
  {
   "cell_type": "code",
   "execution_count": null,
   "id": "brazilian-ticket",
   "metadata": {},
   "outputs": [],
   "source": [
    "# match S/N with the right file in the table containing Robospect data"
   ]
  },
  {
   "cell_type": "code",
   "execution_count": null,
   "id": "gentle-daily",
   "metadata": {},
   "outputs": [],
   "source": [
    "# write out"
   ]
  }
 ],
 "metadata": {
  "kernelspec": {
   "display_name": "Python 3",
   "language": "python",
   "name": "python3"
  },
  "language_info": {
   "codemirror_mode": {
    "name": "ipython",
    "version": 3
   },
   "file_extension": ".py",
   "mimetype": "text/x-python",
   "name": "python",
   "nbconvert_exporter": "python",
   "pygments_lexer": "ipython3",
   "version": "3.6.6"
  }
 },
 "nbformat": 4,
 "nbformat_minor": 5
}
