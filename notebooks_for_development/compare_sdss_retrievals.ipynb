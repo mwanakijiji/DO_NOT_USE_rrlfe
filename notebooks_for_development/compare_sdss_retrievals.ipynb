{
 "cells": [
  {
   "cell_type": "code",
   "execution_count": null,
   "id": "entire-nelson",
   "metadata": {},
   "outputs": [],
   "source": [
    "# This compares [Fe/H] as retrieved by our pipeline, and as found by nSSPP\n",
    "\n",
    "# Created 2021 Dec. 5 by E.S."
   ]
  },
  {
   "cell_type": "code",
   "execution_count": 2,
   "id": "sealed-click",
   "metadata": {},
   "outputs": [],
   "source": [
    "import matplotlib.pyplot as plt\n",
    "import pandas as pd"
   ]
  },
  {
   "cell_type": "code",
   "execution_count": 20,
   "id": "satisfied-accordance",
   "metadata": {},
   "outputs": [],
   "source": [
    "stem = \"/Users/bandari/Documents/git.repos/rrlyrae_metallicity/\"\n",
    "\n",
    "rrlfe_results_file = \"bin/retrieved_vals_test_20211203.csv\"\n",
    "nsspp_results_file = \"notebooks_for_development/data/nSSPP82.out\"\n",
    "stacy_results_file = \"notebooks_for_development/data/tloggfeoh2.dat\"\n",
    "phase_82_file = \"notebooks_for_development/data/phase82.dat\""
   ]
  },
  {
   "cell_type": "code",
   "execution_count": 25,
   "id": "tutorial-doubt",
   "metadata": {},
   "outputs": [],
   "source": [
    "df_rrlfe = pd.read_csv(stem + rrlfe_results_file)\n",
    "df_nsspp = pd.read_csv(stem + nsspp_results_file, delim_whitespace=True, \n",
    "                       names=[\"name\",\"teff\",\"logg\",\"feh_nsspp\",\"feh_beers\"])\n",
    "df_stacy = pd.read_csv(stem + stacy_results_file, delim_whitespace=True)\n",
    "df_phase_82 = pd.read_csv(stem + phase_82_file, delim_whitespace=True, \n",
    "                          names = [\"SDSSname\", \"hjd\", \"Sesar phase\", \"Sesar_cycles\", \"period\", \"g ephemeris\", \n",
    "                                   \"g amplitude\", \"Sesar type\", \"Drake phase\", \"Drake cycles\", \"Drake period\", \n",
    "                                   \"Drake V ephemeris\", \"Drake V amp\", \"Drake type\", \n",
    "                                   \"Drake2013b chart period\", \n",
    "                                   \"Drake2013b chart amp\", \n",
    "                                   \"Drake2013b chart type\", \n",
    "                                   \"Abbas2014 period\", \n",
    "                                   \"Abbas2014 amp\", \n",
    "                                   \"Abbas2014 type\", \n",
    "                                   \"Catalina DR2 chart period\", \n",
    "                                   \"Catalina DR2 chart amp\", \n",
    "                                   \"Catalina DR2 chart type\", \n",
    "                                   \"Drake MLS chart period\", \n",
    "                                   \"Drake MLS chart amp\", \n",
    "                                   \"Drake MLS chart type\"])"
   ]
  },
  {
   "cell_type": "code",
   "execution_count": 28,
   "id": "asian-digest",
   "metadata": {},
   "outputs": [
    {
     "data": {
      "text/html": [
       "<div>\n",
       "<style scoped>\n",
       "    .dataframe tbody tr th:only-of-type {\n",
       "        vertical-align: middle;\n",
       "    }\n",
       "\n",
       "    .dataframe tbody tr th {\n",
       "        vertical-align: top;\n",
       "    }\n",
       "\n",
       "    .dataframe thead th {\n",
       "        text-align: right;\n",
       "    }\n",
       "</style>\n",
       "<table border=\"1\" class=\"dataframe\">\n",
       "  <thead>\n",
       "    <tr style=\"text-align: right;\">\n",
       "      <th></th>\n",
       "      <th>name</th>\n",
       "      <th>teff</th>\n",
       "      <th>logg</th>\n",
       "      <th>feh_nsspp</th>\n",
       "      <th>feh_beers</th>\n",
       "    </tr>\n",
       "  </thead>\n",
       "  <tbody>\n",
       "    <tr>\n",
       "      <th>SDSS</th>\n",
       "      <td>spec-0371-52078-0096h001</td>\n",
       "      <td>6792</td>\n",
       "      <td>4.069</td>\n",
       "      <td>-1.406</td>\n",
       "      <td>-1.496</td>\n",
       "    </tr>\n",
       "    <tr>\n",
       "      <th>SDSS</th>\n",
       "      <td>spec-0371-52078-0096h002</td>\n",
       "      <td>6194</td>\n",
       "      <td>2.520</td>\n",
       "      <td>-1.521</td>\n",
       "      <td>-1.521</td>\n",
       "    </tr>\n",
       "    <tr>\n",
       "      <th>SDSS</th>\n",
       "      <td>spec-0371-52078-0324h001</td>\n",
       "      <td>6350</td>\n",
       "      <td>3.605</td>\n",
       "      <td>-1.328</td>\n",
       "      <td>-1.328</td>\n",
       "    </tr>\n",
       "    <tr>\n",
       "      <th>SDSS</th>\n",
       "      <td>spec-0371-52078-0324h002</td>\n",
       "      <td>7105</td>\n",
       "      <td>4.523</td>\n",
       "      <td>-1.359</td>\n",
       "      <td>-1.359</td>\n",
       "    </tr>\n",
       "    <tr>\n",
       "      <th>SDSS</th>\n",
       "      <td>spec-0371-52078-0334h001</td>\n",
       "      <td>6356</td>\n",
       "      <td>3.360</td>\n",
       "      <td>-1.260</td>\n",
       "      <td>-1.540</td>\n",
       "    </tr>\n",
       "    <tr>\n",
       "      <th>...</th>\n",
       "      <td>...</td>\n",
       "      <td>...</td>\n",
       "      <td>...</td>\n",
       "      <td>...</td>\n",
       "      <td>...</td>\n",
       "    </tr>\n",
       "    <tr>\n",
       "      <th>SDSS</th>\n",
       "      <td>spec-3143-54772-0191h002</td>\n",
       "      <td>6472</td>\n",
       "      <td>3.115</td>\n",
       "      <td>-1.646</td>\n",
       "      <td>-1.756</td>\n",
       "    </tr>\n",
       "    <tr>\n",
       "      <th>SDSS</th>\n",
       "      <td>spec-3143-54772-0191h003</td>\n",
       "      <td>6459</td>\n",
       "      <td>3.220</td>\n",
       "      <td>-1.731</td>\n",
       "      <td>-1.850</td>\n",
       "    </tr>\n",
       "    <tr>\n",
       "      <th>SDSS</th>\n",
       "      <td>spec-3143-54772-0191h004</td>\n",
       "      <td>6653</td>\n",
       "      <td>3.973</td>\n",
       "      <td>-1.462</td>\n",
       "      <td>-1.560</td>\n",
       "    </tr>\n",
       "    <tr>\n",
       "      <th>SDSS</th>\n",
       "      <td>spec-3143-54772-0191h005</td>\n",
       "      <td>7491</td>\n",
       "      <td>4.615</td>\n",
       "      <td>-1.290</td>\n",
       "      <td>-1.658</td>\n",
       "    </tr>\n",
       "    <tr>\n",
       "      <th>SDSS</th>\n",
       "      <td>spec-3143-54772-0191h006</td>\n",
       "      <td>7915</td>\n",
       "      <td>2.411</td>\n",
       "      <td>-1.716</td>\n",
       "      <td>-2.088</td>\n",
       "    </tr>\n",
       "  </tbody>\n",
       "</table>\n",
       "<p>218 rows × 5 columns</p>\n",
       "</div>"
      ],
      "text/plain": [
       "                          name  teff   logg  feh_nsspp  feh_beers\n",
       "SDSS  spec-0371-52078-0096h001  6792  4.069     -1.406     -1.496\n",
       "SDSS  spec-0371-52078-0096h002  6194  2.520     -1.521     -1.521\n",
       "SDSS  spec-0371-52078-0324h001  6350  3.605     -1.328     -1.328\n",
       "SDSS  spec-0371-52078-0324h002  7105  4.523     -1.359     -1.359\n",
       "SDSS  spec-0371-52078-0334h001  6356  3.360     -1.260     -1.540\n",
       "...                        ...   ...    ...        ...        ...\n",
       "SDSS  spec-3143-54772-0191h002  6472  3.115     -1.646     -1.756\n",
       "SDSS  spec-3143-54772-0191h003  6459  3.220     -1.731     -1.850\n",
       "SDSS  spec-3143-54772-0191h004  6653  3.973     -1.462     -1.560\n",
       "SDSS  spec-3143-54772-0191h005  7491  4.615     -1.290     -1.658\n",
       "SDSS  spec-3143-54772-0191h006  7915  2.411     -1.716     -2.088\n",
       "\n",
       "[218 rows x 5 columns]"
      ]
     },
     "execution_count": 28,
     "metadata": {},
     "output_type": "execute_result"
    }
   ],
   "source": [
    "df_nsspp[\"name\"].str.split(\"\")"
   ]
  },
  {
   "cell_type": "code",
   "execution_count": 46,
   "id": "aging-logistics",
   "metadata": {},
   "outputs": [],
   "source": [
    "# modify the right strings to compare among DataFrames\n",
    "\n",
    "df_rrlfe[\"match_name\"] = df_rrlfe[\"orig_spec_file_name\"].str.split(\".\", expand = True, n=1)[0]\n",
    "df_rrlfe[\"match_name\"] = df_rrlfe[\"match_name\"].str.replace(\"g\", \"h\")"
   ]
  },
  {
   "cell_type": "code",
   "execution_count": 70,
   "id": "wound-passport",
   "metadata": {},
   "outputs": [],
   "source": [
    "df_rrlfe = df_rrlfe.rename(columns={\"feh_retrieved\": \"rrlfe_feh_retrieved\", \n",
    "                         \"err_feh_retrieved\": \"rrlfe_err_feh_retrieved\",\n",
    "                         \"teff_retrieved\": \"rrlfe_teff_retrieved\"})\n",
    "df_nsspp = df_nsspp.rename(columns={\"teff\": \"nsspp_teff\"})"
   ]
  },
  {
   "cell_type": "code",
   "execution_count": 71,
   "id": "chemical-enemy",
   "metadata": {},
   "outputs": [],
   "source": [
    "# merge them\n",
    "\n",
    "df_merged = df_rrlfe.merge(df_nsspp, left_on=\"match_name\", right_on=\"name\")"
   ]
  },
  {
   "cell_type": "code",
   "execution_count": 72,
   "id": "fitting-finnish",
   "metadata": {},
   "outputs": [
    {
     "data": {
      "text/plain": [
       "Index(['realization_spec_file_name', 'orig_spec_file_name', 'EW_Hbeta',\n",
       "       'err_EW_Hbeta_from_robo', 'EW_Hdelta', 'err_EW_Hdelta_from_robo',\n",
       "       'EW_Hgamma', 'err_EW_Hgamma_from_robo', 'EW_Heps',\n",
       "       'err_EW_Heps_from_robo', 'EW_CaIIK', 'err_EW_CaIIK_from_robo',\n",
       "       'EW_Balmer', 'err_EW_Balmer_based_Robo',\n",
       "       'err_EW_Balmer_based_noise_churning', 'rrlfe_feh_retrieved',\n",
       "       'rrlfe_err_feh_retrieved', 'rrlfe_teff_retrieved', 'match_name', 'name',\n",
       "       'nsspp_teff', 'logg', 'feh_nsspp', 'feh_beers'],\n",
       "      dtype='object')"
      ]
     },
     "execution_count": 72,
     "metadata": {},
     "output_type": "execute_result"
    }
   ],
   "source": [
    "df_merged.keys()"
   ]
  },
  {
   "cell_type": "code",
   "execution_count": 75,
   "id": "dedicated-thong",
   "metadata": {},
   "outputs": [],
   "source": [
    "df_master = df_merged[[\"match_name\", \"rrlfe_feh_retrieved\", \"rrlfe_err_feh_retrieved\", \"rrlfe_teff_retrieved\", \"nsspp_teff\", \"feh_nsspp\"]].copy()"
   ]
  },
  {
   "cell_type": "code",
   "execution_count": 77,
   "id": "literary-microwave",
   "metadata": {},
   "outputs": [
    {
     "data": {
      "text/html": [
       "<div>\n",
       "<style scoped>\n",
       "    .dataframe tbody tr th:only-of-type {\n",
       "        vertical-align: middle;\n",
       "    }\n",
       "\n",
       "    .dataframe tbody tr th {\n",
       "        vertical-align: top;\n",
       "    }\n",
       "\n",
       "    .dataframe thead th {\n",
       "        text-align: right;\n",
       "    }\n",
       "</style>\n",
       "<table border=\"1\" class=\"dataframe\">\n",
       "  <thead>\n",
       "    <tr style=\"text-align: right;\">\n",
       "      <th></th>\n",
       "      <th>match_name</th>\n",
       "      <th>rrlfe_feh_retrieved</th>\n",
       "      <th>rrlfe_err_feh_retrieved</th>\n",
       "      <th>rrlfe_teff_retrieved</th>\n",
       "      <th>nsspp_teff</th>\n",
       "      <th>feh_nsspp</th>\n",
       "    </tr>\n",
       "  </thead>\n",
       "  <tbody>\n",
       "    <tr>\n",
       "      <th>0</th>\n",
       "      <td>spec-0371-52078-0324h002</td>\n",
       "      <td>-1.601213</td>\n",
       "      <td>0.011885</td>\n",
       "      <td>6460.040964</td>\n",
       "      <td>7105</td>\n",
       "      <td>-1.359</td>\n",
       "    </tr>\n",
       "    <tr>\n",
       "      <th>1</th>\n",
       "      <td>spec-0371-52078-0334h001</td>\n",
       "      <td>-1.606166</td>\n",
       "      <td>0.014424</td>\n",
       "      <td>6041.973515</td>\n",
       "      <td>6356</td>\n",
       "      <td>-1.260</td>\n",
       "    </tr>\n",
       "    <tr>\n",
       "      <th>2</th>\n",
       "      <td>spec-0371-52078-0334h002</td>\n",
       "      <td>-1.348249</td>\n",
       "      <td>0.015164</td>\n",
       "      <td>6015.605941</td>\n",
       "      <td>6444</td>\n",
       "      <td>-1.074</td>\n",
       "    </tr>\n",
       "    <tr>\n",
       "      <th>3</th>\n",
       "      <td>spec-0372-52173-0430h001</td>\n",
       "      <td>-1.025199</td>\n",
       "      <td>0.015774</td>\n",
       "      <td>7635.673869</td>\n",
       "      <td>7359</td>\n",
       "      <td>-1.145</td>\n",
       "    </tr>\n",
       "    <tr>\n",
       "      <th>4</th>\n",
       "      <td>spec-0374-51791-0010h001</td>\n",
       "      <td>-1.653877</td>\n",
       "      <td>0.014905</td>\n",
       "      <td>5977.241759</td>\n",
       "      <td>6166</td>\n",
       "      <td>-1.732</td>\n",
       "    </tr>\n",
       "    <tr>\n",
       "      <th>...</th>\n",
       "      <td>...</td>\n",
       "      <td>...</td>\n",
       "      <td>...</td>\n",
       "      <td>...</td>\n",
       "      <td>...</td>\n",
       "      <td>...</td>\n",
       "    </tr>\n",
       "    <tr>\n",
       "      <th>89</th>\n",
       "      <td>spec-3112-54802-0315h002</td>\n",
       "      <td>-1.921881</td>\n",
       "      <td>0.013378</td>\n",
       "      <td>6023.715049</td>\n",
       "      <td>6307</td>\n",
       "      <td>-1.619</td>\n",
       "    </tr>\n",
       "    <tr>\n",
       "      <th>90</th>\n",
       "      <td>spec-3143-54772-0191h001</td>\n",
       "      <td>-1.982607</td>\n",
       "      <td>0.012147</td>\n",
       "      <td>6181.777141</td>\n",
       "      <td>6327</td>\n",
       "      <td>-1.762</td>\n",
       "    </tr>\n",
       "    <tr>\n",
       "      <th>91</th>\n",
       "      <td>spec-3143-54772-0191h003</td>\n",
       "      <td>-1.818772</td>\n",
       "      <td>0.012084</td>\n",
       "      <td>6376.034124</td>\n",
       "      <td>6459</td>\n",
       "      <td>-1.731</td>\n",
       "    </tr>\n",
       "    <tr>\n",
       "      <th>92</th>\n",
       "      <td>spec-3143-54772-0191h004</td>\n",
       "      <td>-1.556759</td>\n",
       "      <td>0.012018</td>\n",
       "      <td>6389.425498</td>\n",
       "      <td>6653</td>\n",
       "      <td>-1.462</td>\n",
       "    </tr>\n",
       "    <tr>\n",
       "      <th>93</th>\n",
       "      <td>spec-3143-54772-0191h005</td>\n",
       "      <td>-1.209088</td>\n",
       "      <td>0.035210</td>\n",
       "      <td>7957.506156</td>\n",
       "      <td>7491</td>\n",
       "      <td>-1.290</td>\n",
       "    </tr>\n",
       "  </tbody>\n",
       "</table>\n",
       "<p>94 rows × 6 columns</p>\n",
       "</div>"
      ],
      "text/plain": [
       "                  match_name  rrlfe_feh_retrieved  rrlfe_err_feh_retrieved  \\\n",
       "0   spec-0371-52078-0324h002            -1.601213                 0.011885   \n",
       "1   spec-0371-52078-0334h001            -1.606166                 0.014424   \n",
       "2   spec-0371-52078-0334h002            -1.348249                 0.015164   \n",
       "3   spec-0372-52173-0430h001            -1.025199                 0.015774   \n",
       "4   spec-0374-51791-0010h001            -1.653877                 0.014905   \n",
       "..                       ...                  ...                      ...   \n",
       "89  spec-3112-54802-0315h002            -1.921881                 0.013378   \n",
       "90  spec-3143-54772-0191h001            -1.982607                 0.012147   \n",
       "91  spec-3143-54772-0191h003            -1.818772                 0.012084   \n",
       "92  spec-3143-54772-0191h004            -1.556759                 0.012018   \n",
       "93  spec-3143-54772-0191h005            -1.209088                 0.035210   \n",
       "\n",
       "    rrlfe_teff_retrieved  nsspp_teff  feh_nsspp  \n",
       "0            6460.040964        7105     -1.359  \n",
       "1            6041.973515        6356     -1.260  \n",
       "2            6015.605941        6444     -1.074  \n",
       "3            7635.673869        7359     -1.145  \n",
       "4            5977.241759        6166     -1.732  \n",
       "..                   ...         ...        ...  \n",
       "89           6023.715049        6307     -1.619  \n",
       "90           6181.777141        6327     -1.762  \n",
       "91           6376.034124        6459     -1.731  \n",
       "92           6389.425498        6653     -1.462  \n",
       "93           7957.506156        7491     -1.290  \n",
       "\n",
       "[94 rows x 6 columns]"
      ]
     },
     "execution_count": 77,
     "metadata": {},
     "output_type": "execute_result"
    }
   ],
   "source": [
    "df_master"
   ]
  },
  {
   "cell_type": "code",
   "execution_count": 81,
   "id": "separate-abraham",
   "metadata": {},
   "outputs": [
    {
     "data": {
      "image/png": "[encoded data removed]",
      "text/plain": [
       "<Figure size 432x288 with 1 Axes>"
      ]
     },
     "metadata": {
      "needs_background": "light"
     },
     "output_type": "display_data"
    }
   ],
   "source": [
    "plt.plot([-3,0], [-3,0], linestyle = \"--\", color=\"k\")\n",
    "plt.scatter(df_master[\"feh_nsspp\"], df_master[\"rrlfe_feh_retrieved\"])\n",
    "plt.show()"
   ]
  },
  {
   "cell_type": "code",
   "execution_count": 80,
   "id": "extraordinary-average",
   "metadata": {},
   "outputs": [
    {
     "data": {
      "image/png": "[encoded data removed]",
      "text/plain": [
       "<Figure size 432x288 with 1 Axes>"
      ]
     },
     "metadata": {
      "needs_background": "light"
     },
     "output_type": "display_data"
    }
   ],
   "source": [
    "plt.plot([6000,8000], [6000,8000], linestyle = \"--\", color=\"k\")\n",
    "plt.scatter(df_master[\"nsspp_teff\"], df_master[\"rrlfe_teff_retrieved\"])\n",
    "plt.show()"
   ]
  },
  {
   "cell_type": "code",
   "execution_count": null,
   "id": "american-depth",
   "metadata": {},
   "outputs": [],
   "source": []
  }
 ],
 "metadata": {
  "kernelspec": {
   "display_name": "Python 3",
   "language": "python",
   "name": "python3"
  },
  "language_info": {
   "codemirror_mode": {
    "name": "ipython",
    "version": 3
   },
   "file_extension": ".py",
   "mimetype": "text/x-python",
   "name": "python",
   "nbconvert_exporter": "python",
   "pygments_lexer": "ipython3",
   "version": "3.6.6"
  }
 },
 "nbformat": 4,
 "nbformat_minor": 5
}
