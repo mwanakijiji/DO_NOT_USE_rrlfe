{
 "cells": [
  {
   "cell_type": "code",
   "execution_count": 1,
   "metadata": {},
   "outputs": [],
   "source": [
    "# This tries a couple function-fitting routines to find the best-fit\n",
    "# Layden coefficients if the input data is synthetic data with no errors\n",
    "\n",
    "# Created 2020 Jan. 25 by E.S."
   ]
  },
  {
   "cell_type": "code",
   "execution_count": 27,
   "metadata": {},
   "outputs": [],
   "source": [
    "import pandas as pd\n",
    "import numpy as np\n",
    "import astropy\n",
    "from astropy import stats\n",
    "from scipy import optimize\n",
    "import matplotlib.pyplot as plt\n",
    "\n",
    "%matplotlib qt"
   ]
  },
  {
   "cell_type": "code",
   "execution_count": 2,
   "metadata": {},
   "outputs": [],
   "source": [
    "# read in data\n",
    "\n",
    "df = pd.read_csv(\"data/test_hk_data_winnowed_20200210_comparison.csv\")"
   ]
  },
  {
   "cell_type": "markdown",
   "metadata": {},
   "source": [
    "#### In the following, we plot fits in KH space and use the BIC to select the best model\n",
    "#### among variations that consider up to second-degree H (Balmer EW) and F (Fe/H). \n",
    "#### There are 7 possible combinations of coefficients beyond [a,b,c,d]: \n",
    "#### [f], [g], [h], [f,g], [f,h], [g,h], and [f,g,h] where the coefficients are defined as the best fits to\n",
    "\n",
    "#### $K = a + bH + cF + dHF + f(H^{2})F + gH(F^{2}) + h(H^{2})(F^{2})$\n",
    "\n",
    "#### N.b. The BIC is\n",
    "\n",
    "#### $BIC = kln(n) -2ln(L)$\n",
    "\n",
    "#### where \n",
    "#### $k$: number of free parameters\n",
    "#### $n$: number of data points\n",
    "#### $L$: maximized likelihood function of model"
   ]
  },
  {
   "cell_type": "code",
   "execution_count": 9,
   "metadata": {},
   "outputs": [],
   "source": [
    "# function to make the fit and save a plot\n",
    "def function_fit(fitfunc, errfunc, pinit, df_choice, plot_title):\n",
    "    out = optimize.leastsq(errfunc, pinit,\n",
    "                       args=(df_choice[\"balmer\"], df_choice[\"final_feh_center\"], \n",
    "                             df_choice[\"K\"], df_choice[\"err_K\"]), full_output=1)\n",
    "    #print(df_choice)\n",
    "    #print(out)\n",
    "\n",
    "    pfinal = out[0]\n",
    "    covar = out[1]\n",
    "    print(\"pfinal:\")\n",
    "    print(pfinal)\n",
    "    print(\"covar:\")\n",
    "    print(covar)\n",
    "\n",
    "    index = pfinal[1]\n",
    "    amp = 10.0**pfinal[0]\n",
    "\n",
    "    indexErr = np.sqrt( covar[1][1] )\n",
    "    ampErr = np.sqrt( covar[0][0] ) * amp\n",
    "\n",
    "\n",
    "    #####################\n",
    "    # calculate BIC\n",
    "    # N.b. astropy BIC assumes Gaussian distribution\n",
    "\n",
    "    # retrieved K values, using best-fit params\n",
    "    retrieved_K = fitfunc(pfinal, df_choice[\"balmer\"], df_choice[\"final_feh_center\"])\n",
    "\n",
    "    # 'sum of squared residuals between model and data'\n",
    "    ssr = np.sum(np.power(np.subtract(df_choice[\"K\"],retrieved_K),2.))\n",
    "    n_params = len(pinit) # [a,b,c,d] + ...\n",
    "    n_samples = len(df_choice[\"balmer\"])\n",
    "\n",
    "    bic = astropy.stats.bayesian_info_criterion_lsq(ssr, n_params, n_samples)\n",
    "    print(\"----------\")\n",
    "    print(\"BIC:\")\n",
    "    print(bic)\n",
    "\n",
    "    #####################\n",
    "    \n",
    "    # make some isometallicity lines for the plot\n",
    "    isometal_balmer_abcissa = np.arange(2,12,0.2)\n",
    "    retrieved_K_isometal_neg2pt5 = fitfunc(pfinal, isometal_balmer_abcissa, -2.5)\n",
    "    retrieved_K_isometal_neg2pt0 = fitfunc(pfinal, isometal_balmer_abcissa, -2.)\n",
    "    retrieved_K_isometal_neg1pt5 = fitfunc(pfinal, isometal_balmer_abcissa, -1.5)\n",
    "    retrieved_K_isometal_neg1pt0 = fitfunc(pfinal, isometal_balmer_abcissa, -1.)\n",
    "    retrieved_K_isometal_neg0pt5 = fitfunc(pfinal, isometal_balmer_abcissa, -0.5)\n",
    "    retrieved_K_isometal_pos0pt0 = fitfunc(pfinal, isometal_balmer_abcissa, -0.0)\n",
    "    retrieved_K_isometal_pos0pt2 = fitfunc(pfinal, isometal_balmer_abcissa, -0.2)\n",
    "    \n",
    "    \n",
    "    plt.clf()\n",
    "    plt.figure(figsize=(20,10))\n",
    "    \n",
    "    # underplot isometallicity lines\n",
    "    plt.plot(isometal_balmer_abcissa, retrieved_K_isometal_neg2pt5, linestyle=\"--\", label=\"Isometal, Fe/H=-2.5\")\n",
    "    plt.plot(isometal_balmer_abcissa, retrieved_K_isometal_neg2pt0, linestyle=\"--\", label=\"Isometal, Fe/H=-2.0\")\n",
    "    plt.plot(isometal_balmer_abcissa, retrieved_K_isometal_neg1pt5, linestyle=\"--\", label=\"Isometal, Fe/H=-1.5\")\n",
    "    plt.plot(isometal_balmer_abcissa, retrieved_K_isometal_neg1pt0, linestyle=\"--\", label=\"Isometal, Fe/H=-1.0\")\n",
    "    plt.plot(isometal_balmer_abcissa, retrieved_K_isometal_neg0pt5, linestyle=\"--\", label=\"Isometal, Fe/H=-0.5\")\n",
    "    plt.plot(isometal_balmer_abcissa, retrieved_K_isometal_pos0pt0, linestyle=\"--\", label=\"Isometal, Fe/H=+0.0\")\n",
    "    plt.plot(isometal_balmer_abcissa, retrieved_K_isometal_pos0pt2, linestyle=\"--\", label=\"Isometal, Fe/H=+0.2\")\n",
    "    \n",
    "    # data points\n",
    "    plt.scatter(df_choice[\"balmer\"], df_choice[\"K\"], label=\"Empirical\")\n",
    "    plt.scatter(df_choice[\"balmer\"], retrieved_K, \n",
    "            label=\"Retrieved, Modified Layden eqn\")\n",
    "    # connect the empirical-retrieved dots, using list comprehension\n",
    "    [plt.plot([df_choice[\"balmer\"][j],df_choice[\"balmer\"][j]],\n",
    "          [df_choice[\"K\"][j],retrieved_K[j]], color=\"k\") for j in range(len(df_choice[\"final_feh_center\"]))]\n",
    "    plt.ylabel(\"K EW ($\\AA$)\")\n",
    "    plt.xlabel(\"Balmer EW ($\\AA$)\")\n",
    "    plt.title(plot_title + \", BIC = \" + str(bic))\n",
    "    plt.legend()\n",
    "    plt.savefig(\"junk.pdf\")\n",
    "    plt.close()"
   ]
  },
  {
   "cell_type": "markdown",
   "metadata": {},
   "source": [
    "# 0. Original Layden equation: [a,b,c,d]"
   ]
  },
  {
   "cell_type": "code",
   "execution_count": 11,
   "metadata": {},
   "outputs": [
    {
     "name": "stdout",
     "output_type": "stream",
     "text": [
      "pfinal:\n",
      "[12.51368502 -0.78716519  3.87785117 -0.24297523]\n",
      "covar:\n",
      "[[ 0.27696558 -0.03022386  0.09594911 -0.01048706]\n",
      " [-0.03022386  0.00359208 -0.01048669  0.00125107]\n",
      " [ 0.09594911 -0.01048669  0.03393103 -0.00371694]\n",
      " [-0.01048706  0.00125107 -0.00371694  0.00044586]]\n",
      "----------\n",
      "BIC:\n",
      "245.1464970126952\n"
     ]
    },
    {
     "data": {
      "text/plain": [
       "<Figure size 432x288 with 0 Axes>"
      ]
     },
     "metadata": {},
     "output_type": "display_data"
    }
   ],
   "source": [
    "##########\n",
    "# Fitting the data -- Least Squares Method\n",
    "# Original Layden equation: K = a + b*H + c*F + d*H*F\n",
    "##########\n",
    "\n",
    "# define the fitting and error functions\n",
    "fitfunc_abcd = lambda p, H, F: p[0] + p[1]*H + p[2]*F + p[3]*H*F \n",
    "errfunc_abcd = lambda p, H, F, K, err_K: (K - fitfunc_abcd(p, H, F)) / err_K\n",
    "\n",
    "pinit_abcd = [1., 1., 1., 1.]\n",
    "\n",
    "function_fit(fitfunc=fitfunc_abcd, \n",
    "             errfunc=errfunc_abcd, \n",
    "             pinit=pinit_abcd, \n",
    "             df_choice = df,\n",
    "             plot_title=\"Original Layden equation: [a,b,c,d]\\n\")"
   ]
  },
  {
   "cell_type": "markdown",
   "metadata": {},
   "source": [
    "# 1. Modified Layden equation: [a,b,c,d] + [f]"
   ]
  },
  {
   "cell_type": "code",
   "execution_count": 4,
   "metadata": {},
   "outputs": [
    {
     "name": "stdout",
     "output_type": "stream",
     "text": [
      "pfinal:\n",
      "[ 1.27893021e+01 -8.16741810e-01  3.75737333e+00 -1.79930750e-01\n",
      " -5.13597233e-03]\n",
      "covar:\n",
      "[[ 2.81550362e-01 -3.07158569e-02  9.39450152e-02 -9.43834488e-03\n",
      "  -8.54348065e-05]\n",
      " [-3.07158569e-02  3.64487409e-03 -1.02716273e-02  1.13852874e-03\n",
      "   9.16805550e-06]\n",
      " [ 9.39450152e-02 -1.02716273e-02  3.48070584e-02 -4.17535975e-03\n",
      "   3.73452448e-05]\n",
      " [-9.43834488e-03  1.13852874e-03 -4.17535975e-03  6.85739693e-04\n",
      "  -1.95422871e-05]\n",
      " [-8.54348065e-05  9.16805550e-06  3.73452448e-05 -1.95422871e-05\n",
      "   1.59202928e-06]]\n",
      "----------\n",
      "BIC:\n",
      "245.36213036898667\n"
     ]
    },
    {
     "data": {
      "text/plain": [
       "<Figure size 432x288 with 0 Axes>"
      ]
     },
     "metadata": {},
     "output_type": "display_data"
    }
   ],
   "source": [
    "##########\n",
    "# Fitting the data -- Least Squares Method\n",
    "# Modified Layden equation: K = a + b*H + c*F + d*H*F + f*(H^2)*F\n",
    "##########\n",
    "\n",
    "### USER INPUT HERE\n",
    "df_choice = df\n",
    "\n",
    "# define the fitting and error functions\n",
    "fitfunc_abcd_f = lambda p, H, F: p[0] + p[1]*H + p[2]*F + p[3]*H*F + p[4]*np.power(H,2.)*F \n",
    "errfunc_abcd_f = lambda p, H, F, K, err_K: (K - fitfunc_abcd_f(p, H, F)) / err_K\n",
    "\n",
    "pinit_abcd_f = [1., 1., 1., 1., 1.]\n",
    "\n",
    "function_fit(fitfunc=fitfunc_abcd_f, \n",
    "             errfunc=errfunc_abcd_f, \n",
    "             pinit=pinit_abcd_f, \n",
    "             df_choice = df,\n",
    "             plot_title=\"Modified Layden equation, [a,b,c,d] + [f]\\n\")"
   ]
  },
  {
   "cell_type": "markdown",
   "metadata": {},
   "source": [
    "# 2. Modified Layden equation: [a,b,c,d] + [g]"
   ]
  },
  {
   "cell_type": "code",
   "execution_count": 4,
   "metadata": {},
   "outputs": [
    {
     "name": "stdout",
     "output_type": "stream",
     "text": [
      "pfinal:\n",
      "[12.58779237 -0.51796907  3.91462516  0.05978479  0.07298478]\n",
      "covar:\n",
      "[[ 2.77008879e-01 -3.00666439e-02  9.59705967e-02 -1.03102421e-02\n",
      "   4.26256955e-05]\n",
      " [-3.00666439e-02  4.16318165e-03 -1.04086724e-02  1.89337727e-03\n",
      "   1.54838273e-04]\n",
      " [ 9.59705967e-02 -1.04086724e-02  3.39416867e-02 -3.62920021e-03\n",
      "   2.11519614e-05]\n",
      " [-1.03102421e-02  1.89337727e-03 -3.62920021e-03  1.16825086e-03\n",
      "   1.74143814e-04]\n",
      " [ 4.26256955e-05  1.54838273e-04  2.11519614e-05  1.74143814e-04\n",
      "   4.19799392e-05]]\n",
      "----------\n",
      "BIC:\n",
      "197.42180787854656\n"
     ]
    },
    {
     "data": {
      "text/plain": [
       "<Figure size 432x288 with 0 Axes>"
      ]
     },
     "metadata": {},
     "output_type": "display_data"
    }
   ],
   "source": [
    "##########\n",
    "# Fitting the data -- Least Squares Method\n",
    "# Modified Layden equation: K = a + b*H + c*F + d*H*F + g*H*(F^2)\n",
    "##########\n",
    "\n",
    "### USER INPUT HERE\n",
    "df_choice = df\n",
    "\n",
    "# define the fitting and error functions\n",
    "fitfunc_abcd_g = lambda p, H, F: p[0] + p[1]*H + p[2]*F + p[3]*H*F + \\\n",
    "                            p[4]*H*np.power(F,2.)\n",
    "errfunc_abcd_g = lambda p, H, F, K, err_K: (K - fitfunc_abcd_g(p, H, F)) / err_K\n",
    "\n",
    "pinit_abcd_g = [1., 1., 1., 1., 1.]\n",
    "\n",
    "function_fit(fitfunc=fitfunc_abcd_g, \n",
    "             errfunc=errfunc_abcd_g, \n",
    "             pinit=pinit_abcd_g, \n",
    "             df_choice = df,\n",
    "             plot_title=\"Modified Layden equation, [a,b,c,d] + [g]\\n\")"
   ]
  },
  {
   "cell_type": "markdown",
   "metadata": {},
   "source": [
    "# 3. Modified Layden equation: [a,b,c,d] + [h]"
   ]
  },
  {
   "cell_type": "code",
   "execution_count": 4,
   "metadata": {},
   "outputs": [
    {
     "name": "stdout",
     "output_type": "stream",
     "text": [
      "pfinal:\n",
      "[ 1.23984589e+01 -6.56536094e-01  3.45340519e+00 -6.63876729e-02\n",
      "  3.19824476e-03]\n",
      "covar:\n",
      "[[ 2.77138087e-01 -3.04194202e-02  9.65845305e-02 -1.07514237e-02\n",
      "  -4.78791672e-06]\n",
      " [-3.04194202e-02  3.81377721e-03 -1.12070439e-02  1.55076584e-03\n",
      "   5.42795355e-06]\n",
      " [ 9.65845305e-02 -1.12070439e-02  3.62716390e-02 -4.69073774e-03\n",
      "  -1.76367526e-05]\n",
      " [-1.07514237e-02  1.55076584e-03 -4.69073774e-03  8.50996189e-04\n",
      "   7.33763905e-06]\n",
      " [-4.78791672e-06  5.42795355e-06 -1.76367526e-05  7.33763905e-06\n",
      "   1.32894792e-07]]\n",
      "----------\n",
      "BIC:\n",
      "226.17141772986807\n"
     ]
    },
    {
     "data": {
      "text/plain": [
       "<Figure size 432x288 with 0 Axes>"
      ]
     },
     "metadata": {},
     "output_type": "display_data"
    }
   ],
   "source": [
    "##########\n",
    "# Fitting the data -- Least Squares Method\n",
    "# Modified Layden equation: K = a + b*H + c*F + d*H*F + h*(H^2)*(F^2)\n",
    "##########\n",
    "\n",
    "### USER INPUT HERE\n",
    "df_choice = df\n",
    "\n",
    "# define the fitting and error functions\n",
    "fitfunc_abcd_h = lambda p, H, F: p[0] + p[1]*H + p[2]*F + p[3]*H*F + p[4]*np.power(H*F,2.)\n",
    "errfunc_abcd_h = lambda p, H, F, K, err_K: (K - fitfunc_abcd_h(p, H, F)) / err_K\n",
    "\n",
    "pinit_abcd_h = [1., 1., 1., 1., 1.]\n",
    "\n",
    "function_fit(fitfunc=fitfunc_abcd_h, \n",
    "             errfunc=errfunc_abcd_h, \n",
    "             pinit=pinit_abcd_h, \n",
    "             df_choice = df,\n",
    "             plot_title=\"Modified Layden equation, [a,b,c,d] + [h]\\n\")"
   ]
  },
  {
   "cell_type": "markdown",
   "metadata": {},
   "source": [
    "# 4. Modified Layden equation: [a,b,c,d] + [f,g]"
   ]
  },
  {
   "cell_type": "code",
   "execution_count": 4,
   "metadata": {},
   "outputs": [
    {
     "name": "stdout",
     "output_type": "stream",
     "text": [
      "pfinal:\n",
      "[ 1.28611965e+01 -5.47587058e-01  3.79504492e+00  1.22035564e-01\n",
      " -5.09612760e-03  7.29113430e-02]\n",
      "covar:\n",
      "[[ 2.81591159e-01 -3.05630437e-02  9.39663977e-02 -9.26690557e-03\n",
      "  -8.54120946e-05  4.13949383e-05]\n",
      " [-3.05630437e-02  4.21695677e-03 -1.01915563e-02  1.78035214e-03\n",
      "   9.25273069e-06  1.54971611e-04]\n",
      " [ 9.39663977e-02 -1.01915563e-02  3.48182645e-02 -4.08552854e-03\n",
      "   3.73571429e-05  2.16902786e-05]\n",
      " [-9.26690557e-03  1.78035214e-03 -4.08552854e-03  1.40580541e-03\n",
      "  -1.94472866e-05  1.73863603e-04]\n",
      " [-8.54120946e-05  9.25273069e-06  3.73571429e-05 -1.94472866e-05\n",
      "   1.59204225e-06  2.29405653e-08]\n",
      " [ 4.13949383e-05  1.54971611e-04  2.16902786e-05  1.73863603e-04\n",
      "   2.29405653e-08  4.19802750e-05]]\n",
      "----------\n",
      "BIC:\n",
      "196.28752773438762\n"
     ]
    },
    {
     "data": {
      "text/plain": [
       "<Figure size 432x288 with 0 Axes>"
      ]
     },
     "metadata": {},
     "output_type": "display_data"
    }
   ],
   "source": [
    "##########\n",
    "# Fitting the data -- Least Squares Method\n",
    "# Modified Layden equation: K = a + b*H + c*F + d*H*F + f*(H^2)*F + g*H*(F^2)\n",
    "##########\n",
    "\n",
    "### USER INPUT HERE\n",
    "df_choice = df\n",
    "\n",
    "# define the fitting and error functions\n",
    "fitfunc_abcd_fg = lambda p, H, F: p[0] + p[1]*H + p[2]*F + p[3]*H*F + p[4]*np.power(H,2.)*F + \\\n",
    "                            p[5]*H*np.power(F,2.)\n",
    "errfunc_abcd_fg = lambda p, H, F, K, err_K: (K - fitfunc_abcd_fg(p, H, F)) / err_K\n",
    "\n",
    "pinit_abcd_fg = [1., 1., 1., 1., 1., 1.]\n",
    "\n",
    "function_fit(fitfunc=fitfunc_abcd_fg, \n",
    "             errfunc=errfunc_abcd_fg, \n",
    "             pinit=pinit_abcd_fg, \n",
    "             df_choice = df,\n",
    "             plot_title=\"Modified Layden equation, [a,b,c,d] + [f,g]\\n\")"
   ]
  },
  {
   "cell_type": "markdown",
   "metadata": {},
   "source": [
    "# 5. Modified Layden equation: [a,b,c,d] + [f,h]"
   ]
  },
  {
   "cell_type": "code",
   "execution_count": 4,
   "metadata": {},
   "outputs": [
    {
     "name": "stdout",
     "output_type": "stream",
     "text": [
      "pfinal:\n",
      "[ 1.15880055e+01 -4.54235420e-01  3.34463488e+00 -5.38599946e-02\n",
      "  1.30084276e-02  6.31715463e-03]\n",
      "covar:\n",
      "[[ 2.96985773e-01 -3.53736854e-02  9.92482766e-02 -1.10582227e-02\n",
      "  -3.18571304e-04 -8.11688173e-05]\n",
      " [-3.53736854e-02  5.05043223e-03 -1.18719525e-02  1.62734714e-03\n",
      "   7.95199266e-05  2.44937105e-05]\n",
      " [ 9.92482766e-02 -1.18719525e-02  3.66291401e-02 -4.73191329e-03\n",
      "  -4.27552181e-05 -2.78877799e-05]\n",
      " [-1.10582227e-02  1.62734714e-03 -4.73191329e-03  8.55738628e-04\n",
      "   4.92435829e-06  8.51830750e-06]\n",
      " [-3.18571304e-04  7.95199266e-05 -4.27552181e-05  4.92435829e-06\n",
      "   5.11332509e-06  1.22597454e-06]\n",
      " [-8.11688173e-05  2.44937105e-05 -2.78877799e-05  8.51830750e-06\n",
      "   1.22597454e-06  4.26835344e-07]]\n",
      "----------\n",
      "BIC:\n",
      "226.36328694853378\n"
     ]
    },
    {
     "data": {
      "text/plain": [
       "<Figure size 432x288 with 0 Axes>"
      ]
     },
     "metadata": {},
     "output_type": "display_data"
    }
   ],
   "source": [
    "##########\n",
    "# Fitting the data -- Least Squares Method\n",
    "# Modified Layden equation: K = a + b*H + c*F + d*H*F + f*(H^2)*F + h*(H^2)*(F^2)\n",
    "##########\n",
    "\n",
    "### USER INPUT HERE\n",
    "df_choice = df\n",
    "\n",
    "# define the fitting and error functions\n",
    "fitfunc_abcd_fh = lambda p, H, F: p[0] + p[1]*H + p[2]*F + p[3]*H*F + p[4]*np.power(H,2.)*F + \\\n",
    "                            p[5]*np.power(H*F,2.)\n",
    "errfunc_abcd_fh = lambda p, H, F, K, err_K: (K - fitfunc_abcd_fh(p, H, F)) / err_K\n",
    "\n",
    "pinit_abcd_fh = [1., 1., 1., 1., 1., 1.]\n",
    "\n",
    "function_fit(fitfunc=fitfunc_abcd_fh, \n",
    "             errfunc=errfunc_abcd_fh, \n",
    "             pinit=pinit_abcd_fh, \n",
    "             df_choice = df,\n",
    "             plot_title=\"Modified Layden equation, [a,b,c,d] + [f,h]\\n\")"
   ]
  },
  {
   "cell_type": "markdown",
   "metadata": {},
   "source": [
    "# 6. Modified Layden equation: [a,b,c,d] + [g,h]"
   ]
  },
  {
   "cell_type": "code",
   "execution_count": 12,
   "metadata": {},
   "outputs": [
    {
     "name": "stdout",
     "output_type": "stream",
     "text": [
      "pfinal:\n",
      "[ 1.25256126e+01 -5.11323159e-01  3.72827614e+00  7.98216085e-02\n",
      "  5.97920771e-02  1.35407227e-03]\n",
      "covar:\n",
      "[[ 2.77409513e-01 -3.01094644e-02  9.71712473e-02 -1.04393400e-02\n",
      "   1.27626227e-04 -8.72429083e-06]\n",
      " [-3.01094644e-02  4.16775834e-03 -1.05370005e-02  1.90717550e-03\n",
      "   1.45753225e-04  9.32470833e-07]\n",
      " [ 9.71712473e-02 -1.05370005e-02  3.75399521e-02 -4.01609678e-03\n",
      "   2.75893355e-04 -2.61461496e-05]\n",
      " [-1.04393400e-02  1.90717550e-03 -4.01609678e-03  1.20985114e-03\n",
      "   1.46753237e-04  2.81131355e-06]\n",
      " [ 1.27626227e-04  1.45753225e-04  2.75893355e-04  1.46753237e-04\n",
      "   6.00145192e-05 -1.85103340e-06]\n",
      " [-8.72429083e-06  9.32470833e-07 -2.61461496e-05  2.81131355e-06\n",
      "  -1.85103340e-06  1.89986364e-07]]\n",
      "----------\n",
      "BIC:\n",
      "203.0216458555668\n"
     ]
    },
    {
     "data": {
      "text/plain": [
       "<Figure size 432x288 with 0 Axes>"
      ]
     },
     "metadata": {},
     "output_type": "display_data"
    }
   ],
   "source": [
    "##########\n",
    "# Fitting the data -- Least Squares Method\n",
    "# Modified Layden equation: K = a + b*H + c*F + d*H*F + g*H*(F^2) + h*(H^2)*(F^2)\n",
    "##########\n",
    "\n",
    "### USER INPUT HERE\n",
    "df_choice = df\n",
    "\n",
    "# define the fitting and error functions\n",
    "fitfunc_abcd_gh = lambda p, H, F: p[0] + p[1]*H + p[2]*F + p[3]*H*F +  \\\n",
    "                            p[4]*H*np.power(F,2.) + p[5]*np.power(H*F,2.)\n",
    "errfunc_abcd_gh = lambda p, H, F, K, err_K: (K - fitfunc_abcd_gh(p, H, F)) / err_K\n",
    "\n",
    "pinit_abcd_gh = [1., 1., 1., 1., 1., 1.]\n",
    "\n",
    "function_fit(fitfunc=fitfunc_abcd_gh, \n",
    "             errfunc=errfunc_abcd_gh, \n",
    "             pinit=pinit_abcd_gh, \n",
    "             df_choice = df,\n",
    "             plot_title=\"Modified Layden equation, [a,b,c,d] + [g,h]\\n\")"
   ]
  },
  {
   "cell_type": "markdown",
   "metadata": {},
   "source": [
    "# 7. Modified Layden equation: [a,b,c,d] + [f,g,h]"
   ]
  },
  {
   "cell_type": "code",
   "execution_count": 10,
   "metadata": {},
   "outputs": [
    {
     "name": "stdout",
     "output_type": "stream",
     "text": [
      "pfinal:\n",
      "[16.92437966 -0.98640101  5.2261726   0.53344007 -0.06341921  0.27027538\n",
      " -0.02034332]\n",
      "covar:\n",
      "[[ 6.77490113e-01 -7.33191736e-02  2.33409257e-01  3.08185687e-02\n",
      "  -5.76816105e-03  1.92716894e-02 -1.98216467e-03]\n",
      " [-7.33191736e-02  8.83451542e-03 -2.52510479e-02 -2.54878223e-03\n",
      "   6.22975883e-04 -1.92185371e-03  2.14068993e-04]\n",
      " [ 2.33409257e-01 -2.52510479e-02  8.39325922e-02  1.00333098e-02\n",
      "  -1.96421111e-03  6.79495219e-03 -6.98154697e-04]\n",
      " [ 3.08185687e-02 -2.54878223e-03  1.00333098e-02  5.46453091e-03\n",
      "  -5.94835738e-04  2.12096521e-03 -2.00697711e-04]\n",
      " [-5.76816105e-03  6.22975883e-04 -1.96421111e-03 -5.94835738e-04\n",
      "   8.31624422e-05 -2.76009460e-04  2.84520696e-05]\n",
      " [ 1.92716894e-02 -1.92185371e-03  6.79495219e-03  2.12096521e-03\n",
      "  -2.76009460e-04  9.76067717e-04 -9.62811645e-05]\n",
      " [-1.98216467e-03  2.14068993e-04 -6.98154697e-04 -2.00697711e-04\n",
      "   2.84520696e-05 -9.62811645e-05  9.92419144e-06]]\n",
      "----------\n",
      "BIC:\n",
      "116.29437000510694\n"
     ]
    },
    {
     "data": {
      "text/plain": [
       "<Figure size 432x288 with 0 Axes>"
      ]
     },
     "metadata": {},
     "output_type": "display_data"
    }
   ],
   "source": [
    "##########\n",
    "# Fitting the data -- Least Squares Method\n",
    "# Modified Layden equation: K = a + b*H + c*F + d*H*F + f*(H^2)*F + g*H*(F^2) + h*(H^2)*(F^2)\n",
    "##########\n",
    "\n",
    "### USER INPUT HERE\n",
    "df_choice = df\n",
    "\n",
    "# define the fitting and error functions\n",
    "fitfunc_abcd_fgh = lambda p, H, F: p[0] + p[1]*H + p[2]*F + p[3]*H*F + p[4]*np.power(H,2.)*F + \\\n",
    "                            p[5]*H*np.power(F,2.) + p[6]*np.power(H*F,2.)\n",
    "errfunc_abcd_fgh = lambda p, H, F, K, err_K: (K - fitfunc_abcd_fgh(p, H, F)) / err_K\n",
    "\n",
    "pinit_abcd_fgh = [1., 1., 1., 1., 1., 1., 1.]\n",
    "\n",
    "function_fit(fitfunc=fitfunc_abcd_fgh, \n",
    "             errfunc=errfunc_abcd_fgh, \n",
    "             pinit=pinit_abcd_fgh, \n",
    "             df_choice = df,\n",
    "             plot_title=\"Modified Layden equation, [a,b,c,d] + [f,g,h]\\n\")"
   ]
  },
  {
   "cell_type": "markdown",
   "metadata": {},
   "source": [
    "### Compare BICs"
   ]
  },
  {
   "cell_type": "code",
   "execution_count": 6,
   "metadata": {},
   "outputs": [
    {
     "name": "stdout",
     "output_type": "stream",
     "text": [
      "$\\Delta$ BIC_1_f, BIC_orig:\n",
      "0.21563335629147673\n",
      "------\n",
      "$\\Delta$ BIC_2_g, BIC_orig:\n",
      "-47.72468913414863\n",
      "------\n",
      "$\\Delta$ BIC_3_h, BIC_orig:\n",
      "-18.975079282827124\n",
      "------\n",
      "$\\Delta$ BIC_4_fg, BIC_orig:\n",
      "-48.85896927830757\n",
      "------\n",
      "$\\Delta$ BIC_5_fh, BIC_orig:\n",
      "-18.78321006416141\n",
      "------\n",
      "$\\Delta$ BIC_6_gh, BIC_orig:\n",
      "-42.124851157128404\n",
      "------\n",
      "$\\Delta$ BIC_7_fgh, BIC_orig:\n",
      "-128.85212700758825\n",
      "------\n"
     ]
    }
   ],
   "source": [
    "BIC_orig = 245.1464970126952\n",
    "BIC_1_f = 245.36213036898667\n",
    "BIC_2_g = 197.42180787854656\n",
    "BIC_3_h = 226.17141772986807\n",
    "BIC_4_fg = 196.28752773438762\n",
    "BIC_5_fh = 226.36328694853378\n",
    "BIC_6_gh = 203.0216458555668\n",
    "BIC_7_fgh = 116.29437000510694\n",
    "\n",
    "print(\"$\\Delta$ BIC_1_f, BIC_orig:\")\n",
    "print(np.subtract(BIC_1_f,BIC_orig))\n",
    "print(\"------\")\n",
    "print(\"$\\Delta$ BIC_2_g, BIC_orig:\")\n",
    "print(np.subtract(BIC_2_g,BIC_orig))\n",
    "print(\"------\")\n",
    "print(\"$\\Delta$ BIC_3_h, BIC_orig:\")\n",
    "print(np.subtract(BIC_3_h,BIC_orig))\n",
    "print(\"------\")\n",
    "print(\"$\\Delta$ BIC_4_fg, BIC_orig:\")\n",
    "print(np.subtract(BIC_4_fg,BIC_orig))\n",
    "print(\"------\")\n",
    "print(\"$\\Delta$ BIC_5_fh, BIC_orig:\")\n",
    "print(np.subtract(BIC_5_fh,BIC_orig))\n",
    "print(\"------\")\n",
    "print(\"$\\Delta$ BIC_6_gh, BIC_orig:\")\n",
    "print(np.subtract(BIC_6_gh,BIC_orig))\n",
    "print(\"------\")\n",
    "print(\"$\\Delta$ BIC_7_fgh, BIC_orig:\")\n",
    "print(np.subtract(BIC_7_fgh,BIC_orig))\n",
    "print(\"------\")"
   ]
  },
  {
   "cell_type": "code",
   "execution_count": 54,
   "metadata": {},
   "outputs": [
    {
     "name": "stderr",
     "output_type": "stream",
     "text": [
      "/Users/nyumbani/anaconda3/envs/py366/lib/python3.6/site-packages/pandas/core/series.py:679: RuntimeWarning: invalid value encountered in sqrt\n",
      "  result = getattr(ufunc, method)(*inputs, **kwargs)\n"
     ]
    }
   ],
   "source": [
    "# Find some metallicities\n",
    "\n",
    "H = df_choice[\"balmer\"]\n",
    "K = df_choice[\"K\"]\n",
    "\n",
    "## calculate retrieved Fe/H using solution with [a,b,c,d,f,g,h]\n",
    "modified_soln_7_abcdfgh = [16.92437966,-0.98640101,5.2261726,0.53344007,-0.06341921,0.27027538,-0.02034332]\n",
    "\n",
    "coeff_a = modified_soln_7_abcdfgh[0]\n",
    "coeff_b = modified_soln_7_abcdfgh[1]\n",
    "coeff_c = modified_soln_7_abcdfgh[2]\n",
    "coeff_d = modified_soln_7_abcdfgh[3]\n",
    "coeff_f = modified_soln_7_abcdfgh[4]\n",
    "coeff_g = modified_soln_7_abcdfgh[5]\n",
    "coeff_h = modified_soln_7_abcdfgh[6]\n",
    "\n",
    "A_cap = coeff_g*H + coeff_h*np.power(H,2)\n",
    "B_cap = coeff_c + coeff_d*H + coeff_f*np.power(H,2)\n",
    "C_cap = -K + coeff_a + coeff_b*H\n",
    "\n",
    "F_pos = np.divide(-B_cap + np.sqrt(np.power(B_cap,2.)-4*A_cap*C_cap),2*A_cap)\n",
    "F_neg = np.divide(-B_cap - np.sqrt(np.power(B_cap,2.)-4*A_cap*C_cap),2*A_cap)\n",
    "\n",
    "\n",
    "## and calculate retrieved Fe/H using just [a,b,c,d] (the Layden fit, but with our best-fit values)\n",
    "original_layden_our_fit_soln_0_abcd = [12.51368502,-0.78716519,3.87785117,-0.24297523]\n",
    "coeff_a_original = original_layden_our_fit_soln_0_abcd[0]\n",
    "coeff_b_original = original_layden_our_fit_soln_0_abcd[1]\n",
    "coeff_c_original = original_layden_our_fit_soln_0_abcd[2]\n",
    "coeff_d_original = original_layden_our_fit_soln_0_abcd[3]\n",
    "F_original_our_fit = np.divide(K-coeff_a_original-coeff_b_original*H,coeff_c_original+coeff_d_original*H)\n",
    "\n",
    "plt.clf()\n",
    "plt.scatter(df_choice[\"final_feh_center\"],F_original_our_fit,facecolors=\"none\",\n",
    "            edgecolors=\"k\",label=\"Layden-style abcd\")\n",
    "plt.scatter(df_choice[\"final_feh_center\"],F_pos,facecolors=\"orange\",edgecolors=\"r\",\n",
    "            label=\"Modified abcdfgh: positive soln\")\n",
    "for i in range(0,len(df)):\n",
    "    plt.annotate(df[\"original_spec_file_name\"].iloc[i], \n",
    "                 xy=(df[\"final_feh_center\"].iloc[i],F_pos.iloc[i]), \n",
    "                 xytext=(df[\"final_feh_center\"].iloc[i],F_pos.iloc[i]))\n",
    "plt.scatter(df_choice[\"final_feh_center\"],F_neg,label=\"Modified abcdfgh: negative soln\")\n",
    "plt.plot([-3,2],[-3,2],linestyle=\"--\")\n",
    "plt.xlabel(\"Injected Fe/H\")\n",
    "plt.ylabel(\"Retrieved Fe/H\")\n",
    "plt.legend()\n",
    "plt.show()"
   ]
  },
  {
   "cell_type": "code",
   "execution_count": 49,
   "metadata": {},
   "outputs": [
    {
     "data": {
      "text/plain": [
       "nan"
      ]
     },
     "execution_count": 49,
     "metadata": {},
     "output_type": "execute_result"
    }
   ],
   "source": [
    "F_pos.iloc[-19]"
   ]
  },
  {
   "cell_type": "code",
   "execution_count": 50,
   "metadata": {},
   "outputs": [
    {
     "data": {
      "text/plain": [
       "-3.0"
      ]
     },
     "execution_count": 50,
     "metadata": {},
     "output_type": "execute_result"
    }
   ],
   "source": [
    "df_choice[\"final_feh_center\"].iloc[-19]"
   ]
  },
  {
   "cell_type": "code",
   "execution_count": 52,
   "metadata": {},
   "outputs": [
    {
     "data": {
      "text/plain": [
       "array([-3. , -3. , -3. , -3. , -3. , -3. , -3. , -3. , -3. , -3. , -3. ,\n",
       "       -3. , -3. , -3. , -2.5, -2.5, -2.5, -2.5, -2.5, -2.5, -2.5, -2.5,\n",
       "       -2.5, -2.5, -2.5, -2.5, -2.5, -2.5, -2. , -2. , -2. , -2. , -2. ,\n",
       "       -2. , -2. , -2. , -2. , -2. , -2. , -2. , -2. , -2. , -1.5, -1.5,\n",
       "       -1.5, -1.5, -1.5, -1.5, -1.5, -1.5, -1.5, -1.5, -1.5, -1.5, -1.5,\n",
       "       -1.5, -1. , -1. , -1. , -1. , -1. , -1. , -1. , -1. , -1. , -1. ,\n",
       "       -1. , -1. , -1. , -1. , -0.5, -0.5, -0.5, -0.5, -0.5, -0.5, -0.5,\n",
       "       -0.5, -0.5, -0.5, -0.5, -0.5, -0.5, -0.5,  0. ,  0. ,  0. ,  0. ,\n",
       "        0. ,  0. ,  0. ,  0. ,  0. ,  0. ,  0. ,  0. ,  0. ,  0. ,  0.2,\n",
       "        0.2,  0.2,  0.2,  0.2,  0.2,  0.2,  0.2,  0.2,  0.2,  0.2,  0.2,\n",
       "        0.2])"
      ]
     },
     "execution_count": 52,
     "metadata": {},
     "output_type": "execute_result"
    }
   ],
   "source": [
    "np.sort(df_choice[\"final_feh_center\"])"
   ]
  },
  {
   "cell_type": "code",
   "execution_count": null,
   "metadata": {},
   "outputs": [],
   "source": []
  }
 ],
 "metadata": {
  "kernelspec": {
   "display_name": "Python 3",
   "language": "python",
   "name": "python3"
  },
  "language_info": {
   "codemirror_mode": {
    "name": "ipython",
    "version": 3
   },
   "file_extension": ".py",
   "mimetype": "text/x-python",
   "name": "python",
   "nbconvert_exporter": "python",
   "pygments_lexer": "ipython3",
   "version": "3.6.6"
  }
 },
 "nbformat": 4,
 "nbformat_minor": 2
}
