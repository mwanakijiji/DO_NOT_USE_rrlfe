{
 "cells": [
  {
   "cell_type": "code",
   "execution_count": 1,
   "metadata": {},
   "outputs": [],
   "source": [
    "# Reads in photometry from different sources, normalizes them, and puts them\n",
    "# onto a BJD time scale\n",
    "\n",
    "# Created 2021 Dec. 28 by E.S."
   ]
  },
  {
   "cell_type": "code",
   "execution_count": 1,
   "metadata": {},
   "outputs": [],
   "source": [
    "import numpy as np\n",
    "import pandas as pd\n",
    "from astropy.time import Time\n",
    "import matplotlib.pyplot as plt\n",
    "from sklearn.preprocessing import MinMaxScaler\n",
    "\n",
    "%matplotlib qt"
   ]
  },
  {
   "cell_type": "code",
   "execution_count": 2,
   "metadata": {},
   "outputs": [],
   "source": [
    "## USER INPUTS\n",
    "\n",
    "photometry_source_file = \"bh_peg_aavso_prepolished.txt\"\n",
    "epoch_writeout_file = \"junk_jds_bh_peg_aavso.csv\" # generated as-we-go\n",
    "bjd_file = \"bh_peg_aavso_bjd.csv\" # to be read in after manual correction\n",
    "writeout_polished_file = \"bh_peg_aavso_polished.txt\""
   ]
  },
  {
   "cell_type": "code",
   "execution_count": 3,
   "metadata": {},
   "outputs": [],
   "source": [
    "stem_super = \"/Users/bandari/Documents/git.repos/rrlyrae_metallicity/notebooks_for_development/\"\n",
    "stem_moore_macadam = stem_super + \"polished_macadam_moore_photometry/\"\n",
    "stem_public_sources = stem_super + \"all_photometry_program_stars/polished/\"\n",
    "bjd_sources = stem_super + \"all_photometry_program_stars/bjds/\""
   ]
  },
  {
   "cell_type": "code",
   "execution_count": 4,
   "metadata": {},
   "outputs": [],
   "source": [
    "# read in photometry\n",
    "\n",
    "df = pd.read_csv(stem_public_sources + photometry_source_file)\n",
    "#df = pd.read_csv(stem_public_sources + photometry_source_file, delim_whitespace=True)"
   ]
  },
  {
   "cell_type": "code",
   "execution_count": 5,
   "metadata": {},
   "outputs": [],
   "source": [
    "# if there's a bunch of too-old stuff, remove it\n",
    "#df = df.where(np.logical_and(df[\"JD\"]>2456474-400,df[\"JD\"]<2456474+400)).dropna(how=\"all\").reset_index()\n",
    "#df = df.where(df[\"JD\"]<=2459238.567486600).dropna(how=\"all\").reset_index()"
   ]
  },
  {
   "cell_type": "code",
   "execution_count": 6,
   "metadata": {},
   "outputs": [
    {
     "data": {
      "text/plain": [
       "Index(['JD', 'Magnitude', 'Uncertainty', 'HQuncertainty', 'Band',\n",
       "       'Observer Code', 'Comment Code(s)', 'Comp Star 1', 'Comp Star 2',\n",
       "       'Charts', 'Comments', 'Transfomed', 'Airmass', 'Validation Flag',\n",
       "       'Cmag', 'Kmag', 'HJD', 'Star Name', 'Observer Affiliation',\n",
       "       'Measurement Method', 'Grouping Method', 'ADS Reference', 'Digitizer',\n",
       "       'Credit'],\n",
       "      dtype='object')"
      ]
     },
     "execution_count": 6,
     "metadata": {},
     "output_type": "execute_result"
    }
   ],
   "source": [
    "df.keys()"
   ]
  },
  {
   "cell_type": "code",
   "execution_count": 7,
   "metadata": {},
   "outputs": [],
   "source": [
    "# if HJD minus the 245 in front\n",
    "#df[\"HJD\"] = np.add(2450000,df[\"HJD\"])"
   ]
  },
  {
   "cell_type": "code",
   "execution_count": 8,
   "metadata": {},
   "outputs": [
    {
     "name": "stdout",
     "output_type": "stream",
     "text": [
      "junk_jds_bh_peg_aavso.csv\n"
     ]
    }
   ],
   "source": [
    "# write out only JD, for conversion\n",
    "\n",
    "#df[\"JD\"] = np.add(df[\"obsmjd\"],2400000.5)\n",
    "df[\"JD\"].to_csv(epoch_writeout_file, header=False, index=False)\n",
    "#df[\"HJD\"].to_csv(epoch_writeout_file, header=False, index=False)\n",
    "print(epoch_writeout_file)"
   ]
  },
  {
   "cell_type": "markdown",
   "metadata": {},
   "source": [
    "# at this point, do conversion step manually online"
   ]
  },
  {
   "cell_type": "code",
   "execution_count": 9,
   "metadata": {},
   "outputs": [
    {
     "data": {
      "text/plain": [
       "'\\nlat_wichita = 37.688889\\nlon_wichita = -97.336111\\n'"
      ]
     },
     "execution_count": 9,
     "metadata": {},
     "output_type": "execute_result"
    }
   ],
   "source": [
    "# FYI: location of Wichita (approx. center of U.S.)\n",
    "\n",
    "'''\n",
    "lat_wichita = 37.688889\n",
    "lon_wichita = -97.336111\n",
    "'''"
   ]
  },
  {
   "cell_type": "code",
   "execution_count": 11,
   "metadata": {},
   "outputs": [
    {
     "data": {
      "text/plain": [
       "29428"
      ]
     },
     "execution_count": 11,
     "metadata": {},
     "output_type": "execute_result"
    }
   ],
   "source": [
    "len(intermed_bjd)"
   ]
  },
  {
   "cell_type": "markdown",
   "metadata": {},
   "source": [
    "# read bjds back in and tack onto the dataframe"
   ]
  },
  {
   "cell_type": "code",
   "execution_count": 9,
   "metadata": {},
   "outputs": [
    {
     "name": "stdout",
     "output_type": "stream",
     "text": [
      "/Users/bandari/Documents/git.repos/rrlyrae_metallicity/notebooks_for_development/all_photometry_program_stars/bjds/bh_peg_aavso_bjd.csv\n"
     ]
    }
   ],
   "source": [
    "intermed_bjd = pd.read_csv(bjd_sources + bjd_file, names=[\"BJD\"])\n",
    "print(bjd_sources + bjd_file)\n",
    "\n",
    "df[\"BJD\"] = intermed_bjd.values\n",
    "\n",
    "#df = df.join(intermed_bjd[\"BJD\"])"
   ]
  },
  {
   "cell_type": "code",
   "execution_count": 10,
   "metadata": {},
   "outputs": [
    {
     "data": {
      "text/plain": [
       "7384"
      ]
     },
     "execution_count": 10,
     "metadata": {},
     "output_type": "execute_result"
    }
   ],
   "source": [
    "len(df)"
   ]
  },
  {
   "cell_type": "code",
   "execution_count": 11,
   "metadata": {},
   "outputs": [
    {
     "data": {
      "text/html": [
       "<div>\n",
       "<style scoped>\n",
       "    .dataframe tbody tr th:only-of-type {\n",
       "        vertical-align: middle;\n",
       "    }\n",
       "\n",
       "    .dataframe tbody tr th {\n",
       "        vertical-align: top;\n",
       "    }\n",
       "\n",
       "    .dataframe thead th {\n",
       "        text-align: right;\n",
       "    }\n",
       "</style>\n",
       "<table border=\"1\" class=\"dataframe\">\n",
       "  <thead>\n",
       "    <tr style=\"text-align: right;\">\n",
       "      <th></th>\n",
       "      <th>JD</th>\n",
       "      <th>Magnitude</th>\n",
       "      <th>Uncertainty</th>\n",
       "      <th>HQuncertainty</th>\n",
       "      <th>Band</th>\n",
       "      <th>Observer Code</th>\n",
       "      <th>Comment Code(s)</th>\n",
       "      <th>Comp Star 1</th>\n",
       "      <th>Comp Star 2</th>\n",
       "      <th>Charts</th>\n",
       "      <th>...</th>\n",
       "      <th>Kmag</th>\n",
       "      <th>HJD</th>\n",
       "      <th>Star Name</th>\n",
       "      <th>Observer Affiliation</th>\n",
       "      <th>Measurement Method</th>\n",
       "      <th>Grouping Method</th>\n",
       "      <th>ADS Reference</th>\n",
       "      <th>Digitizer</th>\n",
       "      <th>Credit</th>\n",
       "      <th>BJD</th>\n",
       "    </tr>\n",
       "  </thead>\n",
       "  <tbody>\n",
       "    <tr>\n",
       "      <th>0</th>\n",
       "      <td>2.453539e+06</td>\n",
       "      <td>9.696</td>\n",
       "      <td>0.008</td>\n",
       "      <td>NaN</td>\n",
       "      <td>V</td>\n",
       "      <td>DKS</td>\n",
       "      <td>G</td>\n",
       "      <td>106</td>\n",
       "      <td>NaN</td>\n",
       "      <td>GSC</td>\n",
       "      <td>...</td>\n",
       "      <td>NaN</td>\n",
       "      <td>NaN</td>\n",
       "      <td>BH PEG</td>\n",
       "      <td>NaN</td>\n",
       "      <td>STD</td>\n",
       "      <td>NaN</td>\n",
       "      <td>NaN</td>\n",
       "      <td>NaN</td>\n",
       "      <td>NaN</td>\n",
       "      <td>2.453539e+06</td>\n",
       "    </tr>\n",
       "    <tr>\n",
       "      <th>1</th>\n",
       "      <td>2.453539e+06</td>\n",
       "      <td>9.688</td>\n",
       "      <td>0.008</td>\n",
       "      <td>NaN</td>\n",
       "      <td>V</td>\n",
       "      <td>DKS</td>\n",
       "      <td>G</td>\n",
       "      <td>106</td>\n",
       "      <td>NaN</td>\n",
       "      <td>GSC</td>\n",
       "      <td>...</td>\n",
       "      <td>NaN</td>\n",
       "      <td>NaN</td>\n",
       "      <td>BH PEG</td>\n",
       "      <td>NaN</td>\n",
       "      <td>STD</td>\n",
       "      <td>NaN</td>\n",
       "      <td>NaN</td>\n",
       "      <td>NaN</td>\n",
       "      <td>NaN</td>\n",
       "      <td>2.453539e+06</td>\n",
       "    </tr>\n",
       "    <tr>\n",
       "      <th>2</th>\n",
       "      <td>2.453539e+06</td>\n",
       "      <td>9.673</td>\n",
       "      <td>0.008</td>\n",
       "      <td>NaN</td>\n",
       "      <td>V</td>\n",
       "      <td>DKS</td>\n",
       "      <td>G</td>\n",
       "      <td>106</td>\n",
       "      <td>NaN</td>\n",
       "      <td>GSC</td>\n",
       "      <td>...</td>\n",
       "      <td>NaN</td>\n",
       "      <td>NaN</td>\n",
       "      <td>BH PEG</td>\n",
       "      <td>NaN</td>\n",
       "      <td>STD</td>\n",
       "      <td>NaN</td>\n",
       "      <td>NaN</td>\n",
       "      <td>NaN</td>\n",
       "      <td>NaN</td>\n",
       "      <td>2.453539e+06</td>\n",
       "    </tr>\n",
       "    <tr>\n",
       "      <th>3</th>\n",
       "      <td>2.453539e+06</td>\n",
       "      <td>9.662</td>\n",
       "      <td>0.008</td>\n",
       "      <td>NaN</td>\n",
       "      <td>V</td>\n",
       "      <td>DKS</td>\n",
       "      <td>G</td>\n",
       "      <td>106</td>\n",
       "      <td>NaN</td>\n",
       "      <td>GSC</td>\n",
       "      <td>...</td>\n",
       "      <td>NaN</td>\n",
       "      <td>NaN</td>\n",
       "      <td>BH PEG</td>\n",
       "      <td>NaN</td>\n",
       "      <td>STD</td>\n",
       "      <td>NaN</td>\n",
       "      <td>NaN</td>\n",
       "      <td>NaN</td>\n",
       "      <td>NaN</td>\n",
       "      <td>2.453539e+06</td>\n",
       "    </tr>\n",
       "    <tr>\n",
       "      <th>4</th>\n",
       "      <td>2.453539e+06</td>\n",
       "      <td>9.654</td>\n",
       "      <td>0.008</td>\n",
       "      <td>NaN</td>\n",
       "      <td>V</td>\n",
       "      <td>DKS</td>\n",
       "      <td>G</td>\n",
       "      <td>106</td>\n",
       "      <td>NaN</td>\n",
       "      <td>GSC</td>\n",
       "      <td>...</td>\n",
       "      <td>NaN</td>\n",
       "      <td>NaN</td>\n",
       "      <td>BH PEG</td>\n",
       "      <td>NaN</td>\n",
       "      <td>STD</td>\n",
       "      <td>NaN</td>\n",
       "      <td>NaN</td>\n",
       "      <td>NaN</td>\n",
       "      <td>NaN</td>\n",
       "      <td>2.453539e+06</td>\n",
       "    </tr>\n",
       "    <tr>\n",
       "      <th>...</th>\n",
       "      <td>...</td>\n",
       "      <td>...</td>\n",
       "      <td>...</td>\n",
       "      <td>...</td>\n",
       "      <td>...</td>\n",
       "      <td>...</td>\n",
       "      <td>...</td>\n",
       "      <td>...</td>\n",
       "      <td>...</td>\n",
       "      <td>...</td>\n",
       "      <td>...</td>\n",
       "      <td>...</td>\n",
       "      <td>...</td>\n",
       "      <td>...</td>\n",
       "      <td>...</td>\n",
       "      <td>...</td>\n",
       "      <td>...</td>\n",
       "      <td>...</td>\n",
       "      <td>...</td>\n",
       "      <td>...</td>\n",
       "      <td>...</td>\n",
       "    </tr>\n",
       "    <tr>\n",
       "      <th>7379</th>\n",
       "      <td>2.459463e+06</td>\n",
       "      <td>10.271</td>\n",
       "      <td>0.005</td>\n",
       "      <td>NaN</td>\n",
       "      <td>V</td>\n",
       "      <td>SAH</td>\n",
       "      <td>NaN</td>\n",
       "      <td>ENSEMBLE</td>\n",
       "      <td>NaN</td>\n",
       "      <td>X23184FNT</td>\n",
       "      <td>...</td>\n",
       "      <td>NaN</td>\n",
       "      <td>NaN</td>\n",
       "      <td>BH PEG</td>\n",
       "      <td>AAVSO</td>\n",
       "      <td>STD</td>\n",
       "      <td>NaN</td>\n",
       "      <td>NaN</td>\n",
       "      <td>NaN</td>\n",
       "      <td>NaN</td>\n",
       "      <td>2.459463e+06</td>\n",
       "    </tr>\n",
       "    <tr>\n",
       "      <th>7380</th>\n",
       "      <td>2.459463e+06</td>\n",
       "      <td>10.273</td>\n",
       "      <td>0.004</td>\n",
       "      <td>NaN</td>\n",
       "      <td>V</td>\n",
       "      <td>SAH</td>\n",
       "      <td>NaN</td>\n",
       "      <td>ENSEMBLE</td>\n",
       "      <td>NaN</td>\n",
       "      <td>X23184FNT</td>\n",
       "      <td>...</td>\n",
       "      <td>NaN</td>\n",
       "      <td>NaN</td>\n",
       "      <td>BH PEG</td>\n",
       "      <td>AAVSO</td>\n",
       "      <td>STD</td>\n",
       "      <td>NaN</td>\n",
       "      <td>NaN</td>\n",
       "      <td>NaN</td>\n",
       "      <td>NaN</td>\n",
       "      <td>2.459463e+06</td>\n",
       "    </tr>\n",
       "    <tr>\n",
       "      <th>7381</th>\n",
       "      <td>2.459463e+06</td>\n",
       "      <td>10.257</td>\n",
       "      <td>0.006</td>\n",
       "      <td>NaN</td>\n",
       "      <td>V</td>\n",
       "      <td>SAH</td>\n",
       "      <td>NaN</td>\n",
       "      <td>ENSEMBLE</td>\n",
       "      <td>NaN</td>\n",
       "      <td>X23184FNT</td>\n",
       "      <td>...</td>\n",
       "      <td>NaN</td>\n",
       "      <td>NaN</td>\n",
       "      <td>BH PEG</td>\n",
       "      <td>AAVSO</td>\n",
       "      <td>STD</td>\n",
       "      <td>NaN</td>\n",
       "      <td>NaN</td>\n",
       "      <td>NaN</td>\n",
       "      <td>NaN</td>\n",
       "      <td>2.459463e+06</td>\n",
       "    </tr>\n",
       "    <tr>\n",
       "      <th>7382</th>\n",
       "      <td>2.459463e+06</td>\n",
       "      <td>10.281</td>\n",
       "      <td>0.004</td>\n",
       "      <td>NaN</td>\n",
       "      <td>V</td>\n",
       "      <td>SAH</td>\n",
       "      <td>NaN</td>\n",
       "      <td>ENSEMBLE</td>\n",
       "      <td>NaN</td>\n",
       "      <td>X23184FNT</td>\n",
       "      <td>...</td>\n",
       "      <td>NaN</td>\n",
       "      <td>NaN</td>\n",
       "      <td>BH PEG</td>\n",
       "      <td>AAVSO</td>\n",
       "      <td>STD</td>\n",
       "      <td>NaN</td>\n",
       "      <td>NaN</td>\n",
       "      <td>NaN</td>\n",
       "      <td>NaN</td>\n",
       "      <td>2.459463e+06</td>\n",
       "    </tr>\n",
       "    <tr>\n",
       "      <th>7383</th>\n",
       "      <td>2.459463e+06</td>\n",
       "      <td>10.271</td>\n",
       "      <td>0.005</td>\n",
       "      <td>NaN</td>\n",
       "      <td>V</td>\n",
       "      <td>SAH</td>\n",
       "      <td>NaN</td>\n",
       "      <td>ENSEMBLE</td>\n",
       "      <td>NaN</td>\n",
       "      <td>X23184FNT</td>\n",
       "      <td>...</td>\n",
       "      <td>NaN</td>\n",
       "      <td>NaN</td>\n",
       "      <td>BH PEG</td>\n",
       "      <td>AAVSO</td>\n",
       "      <td>STD</td>\n",
       "      <td>NaN</td>\n",
       "      <td>NaN</td>\n",
       "      <td>NaN</td>\n",
       "      <td>NaN</td>\n",
       "      <td>2.459463e+06</td>\n",
       "    </tr>\n",
       "  </tbody>\n",
       "</table>\n",
       "<p>7384 rows × 25 columns</p>\n",
       "</div>"
      ],
      "text/plain": [
       "                JD  Magnitude  Uncertainty  HQuncertainty Band Observer Code  \\\n",
       "0     2.453539e+06      9.696        0.008            NaN    V           DKS   \n",
       "1     2.453539e+06      9.688        0.008            NaN    V           DKS   \n",
       "2     2.453539e+06      9.673        0.008            NaN    V           DKS   \n",
       "3     2.453539e+06      9.662        0.008            NaN    V           DKS   \n",
       "4     2.453539e+06      9.654        0.008            NaN    V           DKS   \n",
       "...            ...        ...          ...            ...  ...           ...   \n",
       "7379  2.459463e+06     10.271        0.005            NaN    V           SAH   \n",
       "7380  2.459463e+06     10.273        0.004            NaN    V           SAH   \n",
       "7381  2.459463e+06     10.257        0.006            NaN    V           SAH   \n",
       "7382  2.459463e+06     10.281        0.004            NaN    V           SAH   \n",
       "7383  2.459463e+06     10.271        0.005            NaN    V           SAH   \n",
       "\n",
       "     Comment Code(s) Comp Star 1 Comp Star 2     Charts  ... Kmag  HJD  \\\n",
       "0                  G         106         NaN        GSC  ...  NaN  NaN   \n",
       "1                  G         106         NaN        GSC  ...  NaN  NaN   \n",
       "2                  G         106         NaN        GSC  ...  NaN  NaN   \n",
       "3                  G         106         NaN        GSC  ...  NaN  NaN   \n",
       "4                  G         106         NaN        GSC  ...  NaN  NaN   \n",
       "...              ...         ...         ...        ...  ...  ...  ...   \n",
       "7379             NaN    ENSEMBLE         NaN  X23184FNT  ...  NaN  NaN   \n",
       "7380             NaN    ENSEMBLE         NaN  X23184FNT  ...  NaN  NaN   \n",
       "7381             NaN    ENSEMBLE         NaN  X23184FNT  ...  NaN  NaN   \n",
       "7382             NaN    ENSEMBLE         NaN  X23184FNT  ...  NaN  NaN   \n",
       "7383             NaN    ENSEMBLE         NaN  X23184FNT  ...  NaN  NaN   \n",
       "\n",
       "      Star Name Observer Affiliation  Measurement Method  Grouping Method  \\\n",
       "0        BH PEG                  NaN                 STD              NaN   \n",
       "1        BH PEG                  NaN                 STD              NaN   \n",
       "2        BH PEG                  NaN                 STD              NaN   \n",
       "3        BH PEG                  NaN                 STD              NaN   \n",
       "4        BH PEG                  NaN                 STD              NaN   \n",
       "...         ...                  ...                 ...              ...   \n",
       "7379     BH PEG                AAVSO                 STD              NaN   \n",
       "7380     BH PEG                AAVSO                 STD              NaN   \n",
       "7381     BH PEG                AAVSO                 STD              NaN   \n",
       "7382     BH PEG                AAVSO                 STD              NaN   \n",
       "7383     BH PEG                AAVSO                 STD              NaN   \n",
       "\n",
       "      ADS Reference Digitizer Credit           BJD  \n",
       "0               NaN       NaN    NaN  2.453539e+06  \n",
       "1               NaN       NaN    NaN  2.453539e+06  \n",
       "2               NaN       NaN    NaN  2.453539e+06  \n",
       "3               NaN       NaN    NaN  2.453539e+06  \n",
       "4               NaN       NaN    NaN  2.453539e+06  \n",
       "...             ...       ...    ...           ...  \n",
       "7379            NaN       NaN    NaN  2.459463e+06  \n",
       "7380            NaN       NaN    NaN  2.459463e+06  \n",
       "7381            NaN       NaN    NaN  2.459463e+06  \n",
       "7382            NaN       NaN    NaN  2.459463e+06  \n",
       "7383            NaN       NaN    NaN  2.459463e+06  \n",
       "\n",
       "[7384 rows x 25 columns]"
      ]
     },
     "execution_count": 11,
     "metadata": {},
     "output_type": "execute_result"
    }
   ],
   "source": [
    "df"
   ]
  },
  {
   "cell_type": "code",
   "execution_count": 14,
   "metadata": {},
   "outputs": [],
   "source": [
    "# in case of weird naming conventions\n",
    "\n",
    "df[\"Magnitude\"] = df[\"MAG_0\"]\n",
    "df[\"Uncertainty\"] = df[\"MER_0\"]\n"
   ]
  },
  {
   "cell_type": "markdown",
   "metadata": {},
   "source": [
    "# look at the data, choose what we want"
   ]
  },
  {
   "cell_type": "code",
   "execution_count": 12,
   "metadata": {},
   "outputs": [],
   "source": [
    "plt.clf()\n",
    "plt.scatter(df[\"BJD\"],\n",
    "            df[\"Magnitude\"])\n",
    "plt.show()"
   ]
  },
  {
   "cell_type": "code",
   "execution_count": 11,
   "metadata": {},
   "outputs": [],
   "source": [
    "plt.clf()\n",
    "plt.scatter(df[\"BJD\"],\n",
    "            df[\"MAG_0\"])\n",
    "plt.scatter(df[\"BJD\"],\n",
    "            df[\"MAG_1\"])\n",
    "plt.scatter(df[\"BJD\"],\n",
    "            df[\"MAG_2\"])\n",
    "plt.scatter(df[\"BJD\"],\n",
    "            df[\"MAG_3\"])\n",
    "plt.scatter(df[\"BJD\"],\n",
    "            df[\"MAG_4\"])\n",
    "plt.show()"
   ]
  },
  {
   "cell_type": "code",
   "execution_count": 14,
   "metadata": {},
   "outputs": [],
   "source": [
    "plt.clf()\n",
    "plt.scatter(df[\"BJD\"],\n",
    "            df[\"mag_autocorr\"])\n",
    "plt.show()"
   ]
  },
  {
   "cell_type": "code",
   "execution_count": 15,
   "metadata": {},
   "outputs": [],
   "source": [
    "plt.clf()\n",
    "plt.scatter(df[\"JD\"].where(df[\"Band\"] == \"V\"),\n",
    "            df[\"Magnitude\"].where(df[\"Band\"] == \"V\"), color=\"k\")\n",
    "plt.scatter(df[\"BJD\"].where(df[\"Band\"] == \"V\"),\n",
    "            df[\"Magnitude\"].where(df[\"Band\"] == \"V\"), color=\"b\")\n",
    "plt.show()"
   ]
  },
  {
   "cell_type": "code",
   "execution_count": 15,
   "metadata": {},
   "outputs": [],
   "source": [
    "plt.clf()\n",
    "plt.scatter(df[\"JD\"].where(df[\"Band\"] == \"V\"),\n",
    "            df[\"Magnitude\"].where(np.logical_and(df[\"Observer Code\"] == \"SAH\",df[\"Band\"] == \"V\")), color=\"k\")\n",
    "plt.scatter(df[\"BJD\"].where(df[\"Band\"] == \"V\"),\n",
    "            df[\"Magnitude\"].where(np.logical_and(df[\"Observer Code\"] == \"SAH\",df[\"Band\"] == \"V\")), color=\"b\")\n",
    "plt.show()"
   ]
  },
  {
   "cell_type": "code",
   "execution_count": 18,
   "metadata": {},
   "outputs": [],
   "source": [
    "plt.clf()\n",
    "plt.scatter(df[\"BJD\"].where(df[\"Observer Code\"] == \"SAH\"),\n",
    "            df[\"Magnitude\"].where(df[\"Observer Code\"] == \"SAH\"), color=\"k\")\n",
    "plt.show()"
   ]
  },
  {
   "cell_type": "code",
   "execution_count": 13,
   "metadata": {},
   "outputs": [
    {
     "data": {
      "text/plain": [
       "Index(['JD', 'Magnitude', 'Uncertainty', 'HQuncertainty', 'Band',\n",
       "       'Observer Code', 'Comment Code(s)', 'Comp Star 1', 'Comp Star 2',\n",
       "       'Charts', 'Comments', 'Transfomed', 'Airmass', 'Validation Flag',\n",
       "       'Cmag', 'Kmag', 'HJD', 'Star Name', 'Observer Affiliation',\n",
       "       'Measurement Method', 'Grouping Method', 'ADS Reference', 'Digitizer',\n",
       "       'Credit', 'BJD'],\n",
       "      dtype='object')"
      ]
     },
     "execution_count": 13,
     "metadata": {},
     "output_type": "execute_result"
    }
   ],
   "source": [
    "df.keys()"
   ]
  },
  {
   "cell_type": "code",
   "execution_count": 12,
   "metadata": {},
   "outputs": [
    {
     "name": "stdout",
     "output_type": "stream",
     "text": [
      "2439144.571\n",
      "2459546.39706\n"
     ]
    }
   ],
   "source": [
    "print(np.min(df[\"JD\"]))\n",
    "print(np.max(df[\"JD\"]))"
   ]
  },
  {
   "cell_type": "code",
   "execution_count": 11,
   "metadata": {},
   "outputs": [
    {
     "data": {
      "text/plain": [
       "30529"
      ]
     },
     "execution_count": 11,
     "metadata": {},
     "output_type": "execute_result"
    }
   ],
   "source": [
    "len(df)"
   ]
  },
  {
   "cell_type": "code",
   "execution_count": 13,
   "metadata": {},
   "outputs": [
    {
     "data": {
      "text/plain": [
       "V     6879\n",
       "TG     504\n",
       "TB       1\n",
       "Name: Band, dtype: int64"
      ]
     },
     "execution_count": 13,
     "metadata": {},
     "output_type": "execute_result"
    }
   ],
   "source": [
    "df[\"Band\"].value_counts()"
   ]
  },
  {
   "cell_type": "code",
   "execution_count": 14,
   "metadata": {},
   "outputs": [
    {
     "data": {
      "text/plain": [
       "SAH     2464\n",
       "DKS     1993\n",
       "SRIC    1981\n",
       "PLN      393\n",
       "MZK      290\n",
       "PTOB     134\n",
       "CGRD      88\n",
       "KCSB      22\n",
       "TRE       16\n",
       "JPG        2\n",
       "SMRC       1\n",
       "Name: Observer Code, dtype: int64"
      ]
     },
     "execution_count": 14,
     "metadata": {},
     "output_type": "execute_result"
    }
   ],
   "source": [
    "df[\"Observer Code\"].value_counts()"
   ]
  },
  {
   "cell_type": "code",
   "execution_count": 16,
   "metadata": {},
   "outputs": [],
   "source": [
    "# choose photometric subset\n",
    "\n",
    "#df_subset_photo = df\n",
    "#df_subset_photo = df.where(np.logical_and(df[\"BJD\"] > 2452456,df[\"Band\"] == \"V\"))\n",
    "#df_subset_photo = df.where(np.logical_or(df[\"BJD\"] < 2455109,df[\"BJD\"] > 2455535))\n",
    "#df_subset_photo = df.where(np.logical_or(df[\"BJD\"] < 2457764,df[\"BJD\"] > 2457887))\n",
    "df_subset_photo = df.where(np.logical_and(df[\"Band\"] == \"V\",df[\"Observer Code\"] == \"SAH\"))\n",
    "#df_subset_photo = df.where(df[\"Band\"] == \"V\")\n",
    "#df_subset_photo = df.where(df[\"MAG_0\"] < 20)\n",
    "#df_subset = df[[\"JD\", \"sdf\"]]"
   ]
  },
  {
   "cell_type": "code",
   "execution_count": 17,
   "metadata": {},
   "outputs": [],
   "source": [
    "# additional winnowing\n",
    "\n",
    "df_subset_photo = df_subset_photo.where(df_subset_photo[\"BJD\"] > 2456024)"
   ]
  },
  {
   "cell_type": "code",
   "execution_count": 18,
   "metadata": {},
   "outputs": [],
   "source": [
    "# check to confirm\n",
    "plt.clf()\n",
    "plt.scatter(df_subset_photo[\"BJD\"],df_subset_photo[\"Magnitude\"])\n",
    "#plt.scatter(df_subset_photo[\"BJD\"],df_subset_photo[\"MAG_0\"])\n",
    "plt.show()"
   ]
  },
  {
   "cell_type": "code",
   "execution_count": 18,
   "metadata": {},
   "outputs": [
    {
     "data": {
      "text/plain": [
       "30529"
      ]
     },
     "execution_count": 18,
     "metadata": {},
     "output_type": "execute_result"
    }
   ],
   "source": [
    "len(df_subset_photo)"
   ]
  },
  {
   "cell_type": "code",
   "execution_count": 18,
   "metadata": {},
   "outputs": [
    {
     "data": {
      "text/plain": [
       "2455167.640255"
      ]
     },
     "execution_count": 18,
     "metadata": {},
     "output_type": "execute_result"
    }
   ],
   "source": [
    "np.max(df_subset_photo[\"BJD\"])"
   ]
  },
  {
   "cell_type": "code",
   "execution_count": 19,
   "metadata": {},
   "outputs": [
    {
     "data": {
      "text/plain": [
       "Index(['HJD', 'MAG_3', 'MAG_0', 'MAG_1', 'MAG_2', 'MAG_4', 'MER_3', 'MER_0',\n",
       "       'MER_1', 'MER_2', 'MER_4', 'GRADE', 'FRAME', 'BJD', 'Magnitude',\n",
       "       'Uncertainty'],\n",
       "      dtype='object')"
      ]
     },
     "execution_count": 19,
     "metadata": {},
     "output_type": "execute_result"
    }
   ],
   "source": [
    "df_subset_photo.keys()"
   ]
  },
  {
   "cell_type": "markdown",
   "metadata": {},
   "source": [
    "# feature scale the photometry"
   ]
  },
  {
   "cell_type": "markdown",
   "metadata": {},
   "source": [
    "### wait! scaling of error bars won't be the same, since an offset is being subtracted off"
   ]
  },
  {
   "cell_type": "code",
   "execution_count": 29,
   "metadata": {},
   "outputs": [],
   "source": [
    "'''\n",
    "scaler = MinMaxScaler() # min-max mapped to 0-to-1\n",
    "df_subset_photo[['mag_scaled']] = scaler.fit_transform(df_subset_photo[['Magnitude']])\n",
    "# df_subset_photo[['error_scaled']] = scaler.transform(df_subset_photo[['Uncertainty']])\n",
    "'''"
   ]
  },
  {
   "cell_type": "code",
   "execution_count": 21,
   "metadata": {},
   "outputs": [],
   "source": [
    "'''\n",
    "plt.scatter(df_subset_photo[\"BJD\"],df_subset_photo[\"mag_scaled\"])\n",
    "plt.show()\n",
    "'''"
   ]
  },
  {
   "cell_type": "markdown",
   "metadata": {},
   "source": [
    "# write out as 'polished' photometry"
   ]
  },
  {
   "cell_type": "code",
   "execution_count": null,
   "metadata": {},
   "outputs": [],
   "source": [
    "# cols BJD, mag, error"
   ]
  },
  {
   "cell_type": "code",
   "execution_count": 22,
   "metadata": {},
   "outputs": [],
   "source": [
    "# remove rows of all NaNs\n",
    "\n",
    "df_subset_photo_dropna = df_subset_photo.dropna(axis=0, how='all')"
   ]
  },
  {
   "cell_type": "code",
   "execution_count": 23,
   "metadata": {},
   "outputs": [
    {
     "name": "stdout",
     "output_type": "stream",
     "text": [
      "/Users/bandari/Documents/git.repos/rrlyrae_metallicity/notebooks_for_development/all_photometry_program_stars/polished/av_peg_aavso_polished.txt\n"
     ]
    }
   ],
   "source": [
    "# write out only the relevant cols\n",
    "\n",
    "df_subset_photo_dropna.to_csv(stem_public_sources + writeout_polished_file, \n",
    "                              columns=[\"BJD\",\"Magnitude\",\"Uncertainty\"], index=False)\n",
    "print(stem_public_sources + writeout_polished_file)"
   ]
  },
  {
   "cell_type": "code",
   "execution_count": null,
   "metadata": {},
   "outputs": [],
   "source": []
  }
 ],
 "metadata": {
  "kernelspec": {
   "display_name": "Python 3",
   "language": "python",
   "name": "python3"
  },
  "language_info": {
   "codemirror_mode": {
    "name": "ipython",
    "version": 3
   },
   "file_extension": ".py",
   "mimetype": "text/x-python",
   "name": "python",
   "nbconvert_exporter": "python",
   "pygments_lexer": "ipython3",
   "version": "3.6.6"
  }
 },
 "nbformat": 4,
 "nbformat_minor": 4
}
