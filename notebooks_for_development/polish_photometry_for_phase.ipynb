{
 "cells": [
  {
   "cell_type": "code",
   "execution_count": null,
   "metadata": {},
   "outputs": [],
   "source": [
    "# Reads in photometry from different sources, normalizes them, and puts them\n",
    "# onto a BJD time scale\n",
    "\n",
    "# Created 2021 Dec. 28 by E.S."
   ]
  },
  {
   "cell_type": "code",
   "execution_count": 1,
   "metadata": {},
   "outputs": [],
   "source": [
    "import numpy as np\n",
    "import pandas as pd\n",
    "from astropy.time import Time\n",
    "import matplotlib.pyplot as plt\n",
    "from sklearn.preprocessing import MinMaxScaler\n",
    "\n",
    "%matplotlib qt"
   ]
  },
  {
   "cell_type": "code",
   "execution_count": 2,
   "metadata": {},
   "outputs": [],
   "source": [
    "## USER INPUTS\n",
    "\n",
    "photometry_source_file = \"av_peg_aavso_prepolished.txt\"\n",
    "bjd_file = \"av_peg_bjd.csv\" # generated as-we-go\n",
    "writeout_polished_file = \"av_peg_aavso_polished.txt\""
   ]
  },
  {
   "cell_type": "code",
   "execution_count": 3,
   "metadata": {},
   "outputs": [],
   "source": [
    "stem_super = \"/Users/bandari/Documents/git.repos/rrlyrae_metallicity/notebooks_for_development/\"\n",
    "stem_moore_macadam = stem_super + \"polished_macadam_moore_photometry/\"\n",
    "stem_public_sources = stem_super + \"all_photometry_program_stars/polished/\"\n",
    "bjd_sources = stem_super + \"all_photometry_program_stars/bjds/\""
   ]
  },
  {
   "cell_type": "code",
   "execution_count": 4,
   "metadata": {},
   "outputs": [],
   "source": [
    "# read in photometry\n",
    "\n",
    "df = pd.read_csv(stem_public_sources + photometry_source_file)"
   ]
  },
  {
   "cell_type": "code",
   "execution_count": 5,
   "metadata": {},
   "outputs": [],
   "source": [
    "# if there's a bunch of too-old stuff, remove it\n",
    "df = df.where(np.logical_and(df[\"JD\"]>2456474-400,df[\"JD\"]<2456474+400)).dropna(how=\"all\").reset_index()"
   ]
  },
  {
   "cell_type": "code",
   "execution_count": 28,
   "metadata": {},
   "outputs": [],
   "source": [
    "# write out only JD, for conversion\n",
    "\n",
    "df[\"JD\"].to_csv(\"junk_jds.csv\", header=False, index=False)"
   ]
  },
  {
   "cell_type": "markdown",
   "metadata": {},
   "source": [
    "# at this point, do conversion step manually online"
   ]
  },
  {
   "cell_type": "code",
   "execution_count": null,
   "metadata": {},
   "outputs": [],
   "source": [
    "# FYI: location of Wichita (approx. center of U.S.)\n",
    "\n",
    "'''\n",
    "lat_wichita = 37.688889\n",
    "lon_wichita = -97.336111\n",
    "'''"
   ]
  },
  {
   "cell_type": "markdown",
   "metadata": {},
   "source": [
    "# read bjds back in and tack onto the dataframe"
   ]
  },
  {
   "cell_type": "code",
   "execution_count": 6,
   "metadata": {},
   "outputs": [
    {
     "name": "stdout",
     "output_type": "stream",
     "text": [
      "/Users/bandari/Documents/git.repos/rrlyrae_metallicity/notebooks_for_development/all_photometry_program_stars/bjds/av_peg_bjd.csv\n"
     ]
    }
   ],
   "source": [
    "intermed_bjd = pd.read_csv(bjd_sources + bjd_file, names=[\"BJD\"])\n",
    "print(bjd_sources + bjd_file)\n",
    "\n",
    "df[\"BJD\"] = intermed_bjd.values\n",
    "\n",
    "#df = df.join(intermed_bjd[\"BJD\"])"
   ]
  },
  {
   "cell_type": "code",
   "execution_count": 8,
   "metadata": {},
   "outputs": [
    {
     "data": {
      "text/html": [
       "<div>\n",
       "<style scoped>\n",
       "    .dataframe tbody tr th:only-of-type {\n",
       "        vertical-align: middle;\n",
       "    }\n",
       "\n",
       "    .dataframe tbody tr th {\n",
       "        vertical-align: top;\n",
       "    }\n",
       "\n",
       "    .dataframe thead th {\n",
       "        text-align: right;\n",
       "    }\n",
       "</style>\n",
       "<table border=\"1\" class=\"dataframe\">\n",
       "  <thead>\n",
       "    <tr style=\"text-align: right;\">\n",
       "      <th></th>\n",
       "      <th>index</th>\n",
       "      <th>JD</th>\n",
       "      <th>Magnitude</th>\n",
       "      <th>Uncertainty</th>\n",
       "      <th>HQuncertainty</th>\n",
       "      <th>Band</th>\n",
       "      <th>Observer Code</th>\n",
       "      <th>Comment Code(s)</th>\n",
       "      <th>Comp Star 1</th>\n",
       "      <th>Comp Star 2</th>\n",
       "      <th>...</th>\n",
       "      <th>Kmag</th>\n",
       "      <th>HJD</th>\n",
       "      <th>Star Name</th>\n",
       "      <th>Observer Affiliation</th>\n",
       "      <th>Measurement Method</th>\n",
       "      <th>Grouping Method</th>\n",
       "      <th>ADS Reference</th>\n",
       "      <th>Digitizer</th>\n",
       "      <th>Credit</th>\n",
       "      <th>BJD</th>\n",
       "    </tr>\n",
       "  </thead>\n",
       "  <tbody>\n",
       "    <tr>\n",
       "      <th>0</th>\n",
       "      <td>7840</td>\n",
       "      <td>2.456103e+06</td>\n",
       "      <td>10.882</td>\n",
       "      <td>0.005</td>\n",
       "      <td>NaN</td>\n",
       "      <td>V</td>\n",
       "      <td>SRIC</td>\n",
       "      <td>NaN</td>\n",
       "      <td>107</td>\n",
       "      <td>104</td>\n",
       "      <td>...</td>\n",
       "      <td>12.158</td>\n",
       "      <td>NaN</td>\n",
       "      <td>AV PEG</td>\n",
       "      <td>AAVSO</td>\n",
       "      <td>STD</td>\n",
       "      <td>NaN</td>\n",
       "      <td>NaN</td>\n",
       "      <td>NaN</td>\n",
       "      <td>NaN</td>\n",
       "      <td>2.456103e+06</td>\n",
       "    </tr>\n",
       "    <tr>\n",
       "      <th>1</th>\n",
       "      <td>7841</td>\n",
       "      <td>2.456103e+06</td>\n",
       "      <td>10.896</td>\n",
       "      <td>0.005</td>\n",
       "      <td>NaN</td>\n",
       "      <td>V</td>\n",
       "      <td>SRIC</td>\n",
       "      <td>NaN</td>\n",
       "      <td>107</td>\n",
       "      <td>104</td>\n",
       "      <td>...</td>\n",
       "      <td>12.160</td>\n",
       "      <td>NaN</td>\n",
       "      <td>AV PEG</td>\n",
       "      <td>AAVSO</td>\n",
       "      <td>STD</td>\n",
       "      <td>NaN</td>\n",
       "      <td>NaN</td>\n",
       "      <td>NaN</td>\n",
       "      <td>NaN</td>\n",
       "      <td>2.456103e+06</td>\n",
       "    </tr>\n",
       "    <tr>\n",
       "      <th>2</th>\n",
       "      <td>7842</td>\n",
       "      <td>2.456103e+06</td>\n",
       "      <td>10.867</td>\n",
       "      <td>0.005</td>\n",
       "      <td>NaN</td>\n",
       "      <td>V</td>\n",
       "      <td>SRIC</td>\n",
       "      <td>NaN</td>\n",
       "      <td>107</td>\n",
       "      <td>104</td>\n",
       "      <td>...</td>\n",
       "      <td>12.147</td>\n",
       "      <td>NaN</td>\n",
       "      <td>AV PEG</td>\n",
       "      <td>AAVSO</td>\n",
       "      <td>STD</td>\n",
       "      <td>NaN</td>\n",
       "      <td>NaN</td>\n",
       "      <td>NaN</td>\n",
       "      <td>NaN</td>\n",
       "      <td>2.456103e+06</td>\n",
       "    </tr>\n",
       "    <tr>\n",
       "      <th>3</th>\n",
       "      <td>7843</td>\n",
       "      <td>2.456103e+06</td>\n",
       "      <td>10.889</td>\n",
       "      <td>0.005</td>\n",
       "      <td>NaN</td>\n",
       "      <td>V</td>\n",
       "      <td>SRIC</td>\n",
       "      <td>NaN</td>\n",
       "      <td>107</td>\n",
       "      <td>104</td>\n",
       "      <td>...</td>\n",
       "      <td>12.141</td>\n",
       "      <td>NaN</td>\n",
       "      <td>AV PEG</td>\n",
       "      <td>AAVSO</td>\n",
       "      <td>STD</td>\n",
       "      <td>NaN</td>\n",
       "      <td>NaN</td>\n",
       "      <td>NaN</td>\n",
       "      <td>NaN</td>\n",
       "      <td>2.456103e+06</td>\n",
       "    </tr>\n",
       "    <tr>\n",
       "      <th>4</th>\n",
       "      <td>7844</td>\n",
       "      <td>2.456103e+06</td>\n",
       "      <td>10.891</td>\n",
       "      <td>0.005</td>\n",
       "      <td>NaN</td>\n",
       "      <td>V</td>\n",
       "      <td>SRIC</td>\n",
       "      <td>NaN</td>\n",
       "      <td>107</td>\n",
       "      <td>104</td>\n",
       "      <td>...</td>\n",
       "      <td>12.148</td>\n",
       "      <td>NaN</td>\n",
       "      <td>AV PEG</td>\n",
       "      <td>AAVSO</td>\n",
       "      <td>STD</td>\n",
       "      <td>NaN</td>\n",
       "      <td>NaN</td>\n",
       "      <td>NaN</td>\n",
       "      <td>NaN</td>\n",
       "      <td>2.456103e+06</td>\n",
       "    </tr>\n",
       "    <tr>\n",
       "      <th>...</th>\n",
       "      <td>...</td>\n",
       "      <td>...</td>\n",
       "      <td>...</td>\n",
       "      <td>...</td>\n",
       "      <td>...</td>\n",
       "      <td>...</td>\n",
       "      <td>...</td>\n",
       "      <td>...</td>\n",
       "      <td>...</td>\n",
       "      <td>...</td>\n",
       "      <td>...</td>\n",
       "      <td>...</td>\n",
       "      <td>...</td>\n",
       "      <td>...</td>\n",
       "      <td>...</td>\n",
       "      <td>...</td>\n",
       "      <td>...</td>\n",
       "      <td>...</td>\n",
       "      <td>...</td>\n",
       "      <td>...</td>\n",
       "      <td>...</td>\n",
       "    </tr>\n",
       "    <tr>\n",
       "      <th>4867</th>\n",
       "      <td>12707</td>\n",
       "      <td>2.456808e+06</td>\n",
       "      <td>9.895</td>\n",
       "      <td>0.006</td>\n",
       "      <td>NaN</td>\n",
       "      <td>V</td>\n",
       "      <td>SRIC</td>\n",
       "      <td>NaN</td>\n",
       "      <td>107</td>\n",
       "      <td>104</td>\n",
       "      <td>...</td>\n",
       "      <td>11.593</td>\n",
       "      <td>NaN</td>\n",
       "      <td>AV PEG</td>\n",
       "      <td>AAVSO</td>\n",
       "      <td>STD</td>\n",
       "      <td>NaN</td>\n",
       "      <td>NaN</td>\n",
       "      <td>NaN</td>\n",
       "      <td>NaN</td>\n",
       "      <td>2.456808e+06</td>\n",
       "    </tr>\n",
       "    <tr>\n",
       "      <th>4868</th>\n",
       "      <td>12708</td>\n",
       "      <td>2.456808e+06</td>\n",
       "      <td>9.902</td>\n",
       "      <td>0.006</td>\n",
       "      <td>NaN</td>\n",
       "      <td>V</td>\n",
       "      <td>SRIC</td>\n",
       "      <td>NaN</td>\n",
       "      <td>107</td>\n",
       "      <td>104</td>\n",
       "      <td>...</td>\n",
       "      <td>11.664</td>\n",
       "      <td>NaN</td>\n",
       "      <td>AV PEG</td>\n",
       "      <td>AAVSO</td>\n",
       "      <td>STD</td>\n",
       "      <td>NaN</td>\n",
       "      <td>NaN</td>\n",
       "      <td>NaN</td>\n",
       "      <td>NaN</td>\n",
       "      <td>2.456808e+06</td>\n",
       "    </tr>\n",
       "    <tr>\n",
       "      <th>4869</th>\n",
       "      <td>12709</td>\n",
       "      <td>2.456808e+06</td>\n",
       "      <td>9.894</td>\n",
       "      <td>0.005</td>\n",
       "      <td>NaN</td>\n",
       "      <td>V</td>\n",
       "      <td>SRIC</td>\n",
       "      <td>NaN</td>\n",
       "      <td>107</td>\n",
       "      <td>104</td>\n",
       "      <td>...</td>\n",
       "      <td>11.472</td>\n",
       "      <td>NaN</td>\n",
       "      <td>AV PEG</td>\n",
       "      <td>AAVSO</td>\n",
       "      <td>STD</td>\n",
       "      <td>NaN</td>\n",
       "      <td>NaN</td>\n",
       "      <td>NaN</td>\n",
       "      <td>NaN</td>\n",
       "      <td>2.456808e+06</td>\n",
       "    </tr>\n",
       "    <tr>\n",
       "      <th>4870</th>\n",
       "      <td>12710</td>\n",
       "      <td>2.456808e+06</td>\n",
       "      <td>9.916</td>\n",
       "      <td>0.005</td>\n",
       "      <td>NaN</td>\n",
       "      <td>V</td>\n",
       "      <td>SRIC</td>\n",
       "      <td>NaN</td>\n",
       "      <td>107</td>\n",
       "      <td>104</td>\n",
       "      <td>...</td>\n",
       "      <td>11.393</td>\n",
       "      <td>NaN</td>\n",
       "      <td>AV PEG</td>\n",
       "      <td>AAVSO</td>\n",
       "      <td>STD</td>\n",
       "      <td>NaN</td>\n",
       "      <td>NaN</td>\n",
       "      <td>NaN</td>\n",
       "      <td>NaN</td>\n",
       "      <td>2.456808e+06</td>\n",
       "    </tr>\n",
       "    <tr>\n",
       "      <th>4871</th>\n",
       "      <td>12711</td>\n",
       "      <td>2.456809e+06</td>\n",
       "      <td>11.000</td>\n",
       "      <td>NaN</td>\n",
       "      <td>NaN</td>\n",
       "      <td>Vis.</td>\n",
       "      <td>BJFA</td>\n",
       "      <td>NaN</td>\n",
       "      <td>107</td>\n",
       "      <td>117</td>\n",
       "      <td>...</td>\n",
       "      <td>NaN</td>\n",
       "      <td>NaN</td>\n",
       "      <td>AV PEG</td>\n",
       "      <td>AAVSO</td>\n",
       "      <td>STD</td>\n",
       "      <td>NaN</td>\n",
       "      <td>NaN</td>\n",
       "      <td>NaN</td>\n",
       "      <td>NaN</td>\n",
       "      <td>2.456809e+06</td>\n",
       "    </tr>\n",
       "  </tbody>\n",
       "</table>\n",
       "<p>4872 rows × 26 columns</p>\n",
       "</div>"
      ],
      "text/plain": [
       "      index            JD  Magnitude  Uncertainty  HQuncertainty  Band  \\\n",
       "0      7840  2.456103e+06     10.882        0.005            NaN     V   \n",
       "1      7841  2.456103e+06     10.896        0.005            NaN     V   \n",
       "2      7842  2.456103e+06     10.867        0.005            NaN     V   \n",
       "3      7843  2.456103e+06     10.889        0.005            NaN     V   \n",
       "4      7844  2.456103e+06     10.891        0.005            NaN     V   \n",
       "...     ...           ...        ...          ...            ...   ...   \n",
       "4867  12707  2.456808e+06      9.895        0.006            NaN     V   \n",
       "4868  12708  2.456808e+06      9.902        0.006            NaN     V   \n",
       "4869  12709  2.456808e+06      9.894        0.005            NaN     V   \n",
       "4870  12710  2.456808e+06      9.916        0.005            NaN     V   \n",
       "4871  12711  2.456809e+06     11.000          NaN            NaN  Vis.   \n",
       "\n",
       "     Observer Code Comment Code(s) Comp Star 1 Comp Star 2  ...    Kmag HJD  \\\n",
       "0             SRIC             NaN         107         104  ...  12.158 NaN   \n",
       "1             SRIC             NaN         107         104  ...  12.160 NaN   \n",
       "2             SRIC             NaN         107         104  ...  12.147 NaN   \n",
       "3             SRIC             NaN         107         104  ...  12.141 NaN   \n",
       "4             SRIC             NaN         107         104  ...  12.148 NaN   \n",
       "...            ...             ...         ...         ...  ...     ...  ..   \n",
       "4867          SRIC             NaN         107         104  ...  11.593 NaN   \n",
       "4868          SRIC             NaN         107         104  ...  11.664 NaN   \n",
       "4869          SRIC             NaN         107         104  ...  11.472 NaN   \n",
       "4870          SRIC             NaN         107         104  ...  11.393 NaN   \n",
       "4871          BJFA             NaN         107         117  ...     NaN NaN   \n",
       "\n",
       "      Star Name  Observer Affiliation Measurement Method  Grouping Method  \\\n",
       "0        AV PEG                 AAVSO                STD              NaN   \n",
       "1        AV PEG                 AAVSO                STD              NaN   \n",
       "2        AV PEG                 AAVSO                STD              NaN   \n",
       "3        AV PEG                 AAVSO                STD              NaN   \n",
       "4        AV PEG                 AAVSO                STD              NaN   \n",
       "...         ...                   ...                ...              ...   \n",
       "4867     AV PEG                 AAVSO                STD              NaN   \n",
       "4868     AV PEG                 AAVSO                STD              NaN   \n",
       "4869     AV PEG                 AAVSO                STD              NaN   \n",
       "4870     AV PEG                 AAVSO                STD              NaN   \n",
       "4871     AV PEG                 AAVSO                STD              NaN   \n",
       "\n",
       "      ADS Reference  Digitizer Credit           BJD  \n",
       "0               NaN        NaN    NaN  2.456103e+06  \n",
       "1               NaN        NaN    NaN  2.456103e+06  \n",
       "2               NaN        NaN    NaN  2.456103e+06  \n",
       "3               NaN        NaN    NaN  2.456103e+06  \n",
       "4               NaN        NaN    NaN  2.456103e+06  \n",
       "...             ...        ...    ...           ...  \n",
       "4867            NaN        NaN    NaN  2.456808e+06  \n",
       "4868            NaN        NaN    NaN  2.456808e+06  \n",
       "4869            NaN        NaN    NaN  2.456808e+06  \n",
       "4870            NaN        NaN    NaN  2.456808e+06  \n",
       "4871            NaN        NaN    NaN  2.456809e+06  \n",
       "\n",
       "[4872 rows x 26 columns]"
      ]
     },
     "execution_count": 8,
     "metadata": {},
     "output_type": "execute_result"
    }
   ],
   "source": [
    "df"
   ]
  },
  {
   "cell_type": "code",
   "execution_count": 10,
   "metadata": {},
   "outputs": [
    {
     "data": {
      "text/html": [
       "<div>\n",
       "<style scoped>\n",
       "    .dataframe tbody tr th:only-of-type {\n",
       "        vertical-align: middle;\n",
       "    }\n",
       "\n",
       "    .dataframe tbody tr th {\n",
       "        vertical-align: top;\n",
       "    }\n",
       "\n",
       "    .dataframe thead th {\n",
       "        text-align: right;\n",
       "    }\n",
       "</style>\n",
       "<table border=\"1\" class=\"dataframe\">\n",
       "  <thead>\n",
       "    <tr style=\"text-align: right;\">\n",
       "      <th></th>\n",
       "      <th>2456102.797595744</th>\n",
       "    </tr>\n",
       "  </thead>\n",
       "  <tbody>\n",
       "    <tr>\n",
       "      <th>0</th>\n",
       "      <td>2.456103e+06</td>\n",
       "    </tr>\n",
       "    <tr>\n",
       "      <th>1</th>\n",
       "      <td>2.456103e+06</td>\n",
       "    </tr>\n",
       "    <tr>\n",
       "      <th>2</th>\n",
       "      <td>2.456103e+06</td>\n",
       "    </tr>\n",
       "    <tr>\n",
       "      <th>3</th>\n",
       "      <td>2.456103e+06</td>\n",
       "    </tr>\n",
       "    <tr>\n",
       "      <th>4</th>\n",
       "      <td>2.456103e+06</td>\n",
       "    </tr>\n",
       "    <tr>\n",
       "      <th>...</th>\n",
       "      <td>...</td>\n",
       "    </tr>\n",
       "    <tr>\n",
       "      <th>4866</th>\n",
       "      <td>2.456808e+06</td>\n",
       "    </tr>\n",
       "    <tr>\n",
       "      <th>4867</th>\n",
       "      <td>2.456808e+06</td>\n",
       "    </tr>\n",
       "    <tr>\n",
       "      <th>4868</th>\n",
       "      <td>2.456808e+06</td>\n",
       "    </tr>\n",
       "    <tr>\n",
       "      <th>4869</th>\n",
       "      <td>2.456808e+06</td>\n",
       "    </tr>\n",
       "    <tr>\n",
       "      <th>4870</th>\n",
       "      <td>2.456809e+06</td>\n",
       "    </tr>\n",
       "  </tbody>\n",
       "</table>\n",
       "<p>4871 rows × 1 columns</p>\n",
       "</div>"
      ],
      "text/plain": [
       "      2456102.797595744\n",
       "0          2.456103e+06\n",
       "1          2.456103e+06\n",
       "2          2.456103e+06\n",
       "3          2.456103e+06\n",
       "4          2.456103e+06\n",
       "...                 ...\n",
       "4866       2.456808e+06\n",
       "4867       2.456808e+06\n",
       "4868       2.456808e+06\n",
       "4869       2.456808e+06\n",
       "4870       2.456809e+06\n",
       "\n",
       "[4871 rows x 1 columns]"
      ]
     },
     "execution_count": 10,
     "metadata": {},
     "output_type": "execute_result"
    }
   ],
   "source": [
    "test"
   ]
  },
  {
   "cell_type": "markdown",
   "metadata": {},
   "source": [
    "# look at the data, choose what we want"
   ]
  },
  {
   "cell_type": "code",
   "execution_count": 9,
   "metadata": {},
   "outputs": [],
   "source": [
    "plt.clf()\n",
    "plt.scatter(df[\"BJD\"],\n",
    "            df[\"Magnitude\"])\n",
    "plt.show()"
   ]
  },
  {
   "cell_type": "code",
   "execution_count": 10,
   "metadata": {},
   "outputs": [],
   "source": [
    "plt.clf()\n",
    "plt.scatter(df[\"JD\"].where(df[\"Band\"] == \"V\"),\n",
    "            df[\"Magnitude\"].where(df[\"Band\"] == \"V\"), color=\"k\")\n",
    "plt.scatter(df[\"BJD\"].where(df[\"Band\"] == \"V\"),\n",
    "            df[\"Magnitude\"].where(df[\"Band\"] == \"V\"), color=\"b\")\n",
    "plt.show()"
   ]
  },
  {
   "cell_type": "code",
   "execution_count": 18,
   "metadata": {},
   "outputs": [],
   "source": [
    "plt.clf()\n",
    "plt.scatter(df[\"BJD\"].where(df[\"Observer Code\"] == \"SAH\"),\n",
    "            df[\"Magnitude\"].where(df[\"Observer Code\"] == \"SAH\"), color=\"k\")\n",
    "plt.show()"
   ]
  },
  {
   "cell_type": "code",
   "execution_count": 13,
   "metadata": {},
   "outputs": [
    {
     "data": {
      "text/plain": [
       "Index(['JD', 'Magnitude', 'Uncertainty', 'HQuncertainty', 'Band',\n",
       "       'Observer Code', 'Comment Code(s)', 'Comp Star 1', 'Comp Star 2',\n",
       "       'Charts', 'Comments', 'Transfomed', 'Airmass', 'Validation Flag',\n",
       "       'Cmag', 'Kmag', 'HJD', 'Star Name', 'Observer Affiliation',\n",
       "       'Measurement Method', 'Grouping Method', 'ADS Reference', 'Digitizer',\n",
       "       'Credit', 'BJD'],\n",
       "      dtype='object')"
      ]
     },
     "execution_count": 13,
     "metadata": {},
     "output_type": "execute_result"
    }
   ],
   "source": [
    "df.keys()"
   ]
  },
  {
   "cell_type": "code",
   "execution_count": 14,
   "metadata": {},
   "outputs": [
    {
     "name": "stdout",
     "output_type": "stream",
     "text": [
      "2440130.641\n",
      "2459517.3388900002\n"
     ]
    }
   ],
   "source": [
    "print(np.min(df[\"JD\"]))\n",
    "print(np.max(df[\"JD\"]))"
   ]
  },
  {
   "cell_type": "code",
   "execution_count": 7,
   "metadata": {},
   "outputs": [
    {
     "data": {
      "text/plain": [
       "V       26048\n",
       "Vis.     1462\n",
       "R         587\n",
       "B         541\n",
       "TG        209\n",
       "I         124\n",
       "CV         81\n",
       "Name: Band, dtype: int64"
      ]
     },
     "execution_count": 7,
     "metadata": {},
     "output_type": "execute_result"
    }
   ],
   "source": [
    "df[\"Band\"].value_counts()"
   ]
  },
  {
   "cell_type": "code",
   "execution_count": 8,
   "metadata": {},
   "outputs": [
    {
     "data": {
      "text/plain": [
       "ATE     14692\n",
       "SRIC     5284\n",
       "SAH      1967\n",
       "MZK       883\n",
       "BSEC      868\n",
       "BM        862\n",
       "MMN       837\n",
       "DKS       684\n",
       "BIW       457\n",
       "MZR       416\n",
       "TLEB      349\n",
       "BANG      217\n",
       "BEB       213\n",
       "CLZ       183\n",
       "SNE       175\n",
       "RWA       156\n",
       "HEF       136\n",
       "CGRD       95\n",
       "SWU        82\n",
       "VJA        81\n",
       "RIZ        75\n",
       "AALB       68\n",
       "NCH        61\n",
       "SYP        57\n",
       "AAM        44\n",
       "SSW        41\n",
       "HZL        34\n",
       "KCSB       32\n",
       "SJAT       30\n",
       "CDZ        30\n",
       "HRI        23\n",
       "COO        22\n",
       "BJFA       17\n",
       "WNB        12\n",
       "CMAE        6\n",
       "CUA         3\n",
       "CXR         3\n",
       "HK          2\n",
       "LTO         2\n",
       "BWU         2\n",
       "MBT         1\n",
       "TPS         1\n",
       "PTFA        1\n",
       "LCLA        1\n",
       "WTHB        1\n",
       "BSCC        1\n",
       "TBD         1\n",
       "Name: Observer Code, dtype: int64"
      ]
     },
     "execution_count": 8,
     "metadata": {},
     "output_type": "execute_result"
    }
   ],
   "source": [
    "df[\"Observer Code\"].value_counts()"
   ]
  },
  {
   "cell_type": "code",
   "execution_count": 11,
   "metadata": {},
   "outputs": [],
   "source": [
    "# choose photometric subset\n",
    "\n",
    "df_subset_photo = df\n",
    "\n",
    "#df_subset_photo = df.where(np.logical_or(df[\"BJD\"] < 2455109,df[\"BJD\"] > 2455535))\n",
    "#df_subset_photo = df.where(df[\"Band\"] == \"V\")\n",
    "#df_subset = df[[\"JD\", \"sdf\"]]"
   ]
  },
  {
   "cell_type": "code",
   "execution_count": 12,
   "metadata": {},
   "outputs": [],
   "source": [
    "# check to confirm\n",
    "\n",
    "plt.scatter(df_subset_photo[\"BJD\"],df_subset_photo[\"Magnitude\"])\n",
    "plt.show()"
   ]
  },
  {
   "cell_type": "code",
   "execution_count": 13,
   "metadata": {},
   "outputs": [
    {
     "data": {
      "text/plain": [
       "2456809.3022545683"
      ]
     },
     "execution_count": 13,
     "metadata": {},
     "output_type": "execute_result"
    }
   ],
   "source": [
    "np.max(df_subset_photo[\"BJD\"])"
   ]
  },
  {
   "cell_type": "code",
   "execution_count": 14,
   "metadata": {},
   "outputs": [
    {
     "data": {
      "text/plain": [
       "Index(['index', 'JD', 'Magnitude', 'Uncertainty', 'HQuncertainty', 'Band',\n",
       "       'Observer Code', 'Comment Code(s)', 'Comp Star 1', 'Comp Star 2',\n",
       "       'Charts', 'Comments', 'Transfomed', 'Airmass', 'Validation Flag',\n",
       "       'Cmag', 'Kmag', 'HJD', 'Star Name', 'Observer Affiliation',\n",
       "       'Measurement Method', 'Grouping Method', 'ADS Reference', 'Digitizer',\n",
       "       'Credit', 'BJD'],\n",
       "      dtype='object')"
      ]
     },
     "execution_count": 14,
     "metadata": {},
     "output_type": "execute_result"
    }
   ],
   "source": [
    "df_subset_photo.keys()"
   ]
  },
  {
   "cell_type": "markdown",
   "metadata": {},
   "source": [
    "# feature scale the photometry"
   ]
  },
  {
   "cell_type": "markdown",
   "metadata": {},
   "source": [
    "### wait! scaling of error bars won't be the same, since an offset is being subtracted off"
   ]
  },
  {
   "cell_type": "code",
   "execution_count": 29,
   "metadata": {},
   "outputs": [],
   "source": [
    "'''\n",
    "scaler = MinMaxScaler() # min-max mapped to 0-to-1\n",
    "df_subset_photo[['mag_scaled']] = scaler.fit_transform(df_subset_photo[['Magnitude']])\n",
    "# df_subset_photo[['error_scaled']] = scaler.transform(df_subset_photo[['Uncertainty']])\n",
    "'''"
   ]
  },
  {
   "cell_type": "code",
   "execution_count": 21,
   "metadata": {},
   "outputs": [],
   "source": [
    "'''\n",
    "plt.scatter(df_subset_photo[\"BJD\"],df_subset_photo[\"mag_scaled\"])\n",
    "plt.show()\n",
    "'''"
   ]
  },
  {
   "cell_type": "markdown",
   "metadata": {},
   "source": [
    "# write out as 'polished' photometry"
   ]
  },
  {
   "cell_type": "code",
   "execution_count": null,
   "metadata": {},
   "outputs": [],
   "source": [
    "# cols BJD, mag, error"
   ]
  },
  {
   "cell_type": "code",
   "execution_count": 15,
   "metadata": {},
   "outputs": [],
   "source": [
    "# remove rows of all NaNs\n",
    "\n",
    "df_subset_photo_dropna = df_subset_photo.dropna(axis=0, how='all')"
   ]
  },
  {
   "cell_type": "code",
   "execution_count": 16,
   "metadata": {},
   "outputs": [
    {
     "name": "stdout",
     "output_type": "stream",
     "text": [
      "/Users/bandari/Documents/git.repos/rrlyrae_metallicity/notebooks_for_development/all_photometry_program_stars/polished/av_peg_aavso_polished.txt\n"
     ]
    }
   ],
   "source": [
    "# write out only the relevant cols\n",
    "\n",
    "df_subset_photo_dropna.to_csv(stem_public_sources + writeout_polished_file, \n",
    "                              columns=[\"BJD\",\"Magnitude\",\"Uncertainty\"], index=False)\n",
    "print(stem_public_sources + writeout_polished_file)"
   ]
  },
  {
   "cell_type": "code",
   "execution_count": null,
   "metadata": {},
   "outputs": [],
   "source": []
  }
 ],
 "metadata": {
  "kernelspec": {
   "display_name": "Python 3",
   "language": "python",
   "name": "python3"
  },
  "language_info": {
   "codemirror_mode": {
    "name": "ipython",
    "version": 3
   },
   "file_extension": ".py",
   "mimetype": "text/x-python",
   "name": "python",
   "nbconvert_exporter": "python",
   "pygments_lexer": "ipython3",
   "version": "3.6.6"
  }
 },
 "nbformat": 4,
 "nbformat_minor": 4
}
