{
 "cells": [
  {
   "cell_type": "code",
   "execution_count": null,
   "metadata": {},
   "outputs": [],
   "source": [
    "# Reads in photometry from different sources, normalizes them, and puts them\n",
    "# onto a BJD time scale\n",
    "\n",
    "# Created 2021 Dec. 28 by E.S."
   ]
  },
  {
   "cell_type": "code",
   "execution_count": 1,
   "metadata": {},
   "outputs": [],
   "source": [
    "import numpy as np\n",
    "import pandas as pd\n",
    "from astropy.time import Time\n",
    "import matplotlib.pyplot as plt\n",
    "from sklearn.preprocessing import MinMaxScaler\n",
    "\n",
    "%matplotlib qt"
   ]
  },
  {
   "cell_type": "code",
   "execution_count": 2,
   "metadata": {},
   "outputs": [],
   "source": [
    "## USER INPUTS\n",
    "\n",
    "photometry_source_file = \"t_sex_asas3_vband_prepolished.txt\"\n",
    "bjd_file = \"t_sex_asas3_vband_bjd.csv\" # generated as-we-go\n",
    "writeout_polished_file = \"t_sex_asas3_vband_prepolished.txt\""
   ]
  },
  {
   "cell_type": "code",
   "execution_count": 3,
   "metadata": {},
   "outputs": [],
   "source": [
    "stem_super = \"/Users/bandari/Documents/git.repos/rrlyrae_metallicity/notebooks_for_development/\"\n",
    "stem_moore_macadam = stem_super + \"polished_macadam_moore_photometry/\"\n",
    "stem_public_sources = stem_super + \"all_photometry_program_stars/polished/\"\n",
    "bjd_sources = stem_super + \"all_photometry_program_stars/bjds/\""
   ]
  },
  {
   "cell_type": "code",
   "execution_count": 4,
   "metadata": {},
   "outputs": [],
   "source": [
    "# read in photometry\n",
    "\n",
    "#df = pd.read_csv(stem_public_sources + photometry_source_file)\n",
    "df = pd.read_csv(stem_public_sources + photometry_source_file, delim_whitespace=True)"
   ]
  },
  {
   "cell_type": "code",
   "execution_count": 5,
   "metadata": {},
   "outputs": [],
   "source": [
    "# if there's a bunch of too-old stuff, remove it\n",
    "#df = df.where(np.logical_and(df[\"JD\"]>2456474-400,df[\"JD\"]<2456474+400)).dropna(how=\"all\").reset_index()\n",
    "#df = df.where(df[\"JD\"]<=2459238.567486600).dropna(how=\"all\").reset_index()"
   ]
  },
  {
   "cell_type": "code",
   "execution_count": 6,
   "metadata": {},
   "outputs": [
    {
     "data": {
      "text/plain": [
       "Index(['HJD', 'MAG_2', 'MAG_0', 'MAG_1', 'MAG_3', 'MAG_4', 'MER_2', 'MER_0',\n",
       "       'MER_1', 'MER_3', 'MER_4', 'GRADE', 'FRAME'],\n",
       "      dtype='object')"
      ]
     },
     "execution_count": 6,
     "metadata": {},
     "output_type": "execute_result"
    }
   ],
   "source": [
    "df.keys()"
   ]
  },
  {
   "cell_type": "code",
   "execution_count": 9,
   "metadata": {},
   "outputs": [],
   "source": [
    "#df[\"HJD\"] = np.add(2450000,df[\"HJD\"])"
   ]
  },
  {
   "cell_type": "code",
   "execution_count": 10,
   "metadata": {},
   "outputs": [],
   "source": [
    "# write out only JD, for conversion\n",
    "\n",
    "#df[\"JD\"] = np.add(df[\"obsmjd\"],2400000.5)\n",
    "#df[\"JD\"].to_csv(\"junk_jds.csv\", header=False, index=False)\n",
    "df[\"HJD\"].to_csv(\"junk_hjds.csv\", header=False, index=False)"
   ]
  },
  {
   "cell_type": "markdown",
   "metadata": {},
   "source": [
    "# at this point, do conversion step manually online"
   ]
  },
  {
   "cell_type": "code",
   "execution_count": null,
   "metadata": {},
   "outputs": [],
   "source": [
    "# FYI: location of Wichita (approx. center of U.S.)\n",
    "\n",
    "'''\n",
    "lat_wichita = 37.688889\n",
    "lon_wichita = -97.336111\n",
    "'''"
   ]
  },
  {
   "cell_type": "markdown",
   "metadata": {},
   "source": [
    "# read bjds back in and tack onto the dataframe"
   ]
  },
  {
   "cell_type": "code",
   "execution_count": 11,
   "metadata": {},
   "outputs": [
    {
     "name": "stdout",
     "output_type": "stream",
     "text": [
      "/Users/bandari/Documents/git.repos/rrlyrae_metallicity/notebooks_for_development/all_photometry_program_stars/bjds/t_sex_asas3_vband_bjd.csv\n"
     ]
    }
   ],
   "source": [
    "intermed_bjd = pd.read_csv(bjd_sources + bjd_file, names=[\"BJD\"])\n",
    "print(bjd_sources + bjd_file)\n",
    "\n",
    "df[\"BJD\"] = intermed_bjd.values\n",
    "\n",
    "#df = df.join(intermed_bjd[\"BJD\"])"
   ]
  },
  {
   "cell_type": "code",
   "execution_count": 12,
   "metadata": {},
   "outputs": [
    {
     "data": {
      "text/plain": [
       "504"
      ]
     },
     "execution_count": 12,
     "metadata": {},
     "output_type": "execute_result"
    }
   ],
   "source": [
    "len(df)"
   ]
  },
  {
   "cell_type": "code",
   "execution_count": 13,
   "metadata": {},
   "outputs": [
    {
     "data": {
      "text/html": [
       "<div>\n",
       "<style scoped>\n",
       "    .dataframe tbody tr th:only-of-type {\n",
       "        vertical-align: middle;\n",
       "    }\n",
       "\n",
       "    .dataframe tbody tr th {\n",
       "        vertical-align: top;\n",
       "    }\n",
       "\n",
       "    .dataframe thead th {\n",
       "        text-align: right;\n",
       "    }\n",
       "</style>\n",
       "<table border=\"1\" class=\"dataframe\">\n",
       "  <thead>\n",
       "    <tr style=\"text-align: right;\">\n",
       "      <th></th>\n",
       "      <th>HJD</th>\n",
       "      <th>MAG_2</th>\n",
       "      <th>MAG_0</th>\n",
       "      <th>MAG_1</th>\n",
       "      <th>MAG_3</th>\n",
       "      <th>MAG_4</th>\n",
       "      <th>MER_2</th>\n",
       "      <th>MER_0</th>\n",
       "      <th>MER_1</th>\n",
       "      <th>MER_3</th>\n",
       "      <th>MER_4</th>\n",
       "      <th>GRADE</th>\n",
       "      <th>FRAME</th>\n",
       "      <th>BJD</th>\n",
       "    </tr>\n",
       "  </thead>\n",
       "  <tbody>\n",
       "    <tr>\n",
       "      <th>0</th>\n",
       "      <td>2.452054e+06</td>\n",
       "      <td>9.876</td>\n",
       "      <td>9.833</td>\n",
       "      <td>9.863</td>\n",
       "      <td>9.868</td>\n",
       "      <td>9.872</td>\n",
       "      <td>0.036</td>\n",
       "      <td>0.049</td>\n",
       "      <td>0.046</td>\n",
       "      <td>0.032</td>\n",
       "      <td>0.032</td>\n",
       "      <td>A</td>\n",
       "      <td>19978</td>\n",
       "      <td>2.452054e+06</td>\n",
       "    </tr>\n",
       "    <tr>\n",
       "      <th>1</th>\n",
       "      <td>2.452069e+06</td>\n",
       "      <td>9.815</td>\n",
       "      <td>9.732</td>\n",
       "      <td>9.805</td>\n",
       "      <td>9.813</td>\n",
       "      <td>9.815</td>\n",
       "      <td>0.024</td>\n",
       "      <td>0.045</td>\n",
       "      <td>0.028</td>\n",
       "      <td>0.028</td>\n",
       "      <td>0.032</td>\n",
       "      <td>A</td>\n",
       "      <td>22224</td>\n",
       "      <td>2.452069e+06</td>\n",
       "    </tr>\n",
       "    <tr>\n",
       "      <th>2</th>\n",
       "      <td>2.452442e+06</td>\n",
       "      <td>10.167</td>\n",
       "      <td>10.147</td>\n",
       "      <td>10.170</td>\n",
       "      <td>10.173</td>\n",
       "      <td>10.186</td>\n",
       "      <td>0.064</td>\n",
       "      <td>0.071</td>\n",
       "      <td>0.068</td>\n",
       "      <td>0.069</td>\n",
       "      <td>0.076</td>\n",
       "      <td>D</td>\n",
       "      <td>8406</td>\n",
       "      <td>2.452442e+06</td>\n",
       "    </tr>\n",
       "    <tr>\n",
       "      <th>3</th>\n",
       "      <td>2.452661e+06</td>\n",
       "      <td>9.868</td>\n",
       "      <td>9.824</td>\n",
       "      <td>9.863</td>\n",
       "      <td>9.865</td>\n",
       "      <td>9.869</td>\n",
       "      <td>0.037</td>\n",
       "      <td>0.048</td>\n",
       "      <td>0.039</td>\n",
       "      <td>0.042</td>\n",
       "      <td>0.044</td>\n",
       "      <td>A</td>\n",
       "      <td>35993</td>\n",
       "      <td>2.452661e+06</td>\n",
       "    </tr>\n",
       "    <tr>\n",
       "      <th>4</th>\n",
       "      <td>2.452713e+06</td>\n",
       "      <td>10.098</td>\n",
       "      <td>10.090</td>\n",
       "      <td>10.079</td>\n",
       "      <td>10.098</td>\n",
       "      <td>10.094</td>\n",
       "      <td>0.027</td>\n",
       "      <td>0.036</td>\n",
       "      <td>0.032</td>\n",
       "      <td>0.028</td>\n",
       "      <td>0.030</td>\n",
       "      <td>A</td>\n",
       "      <td>45107</td>\n",
       "      <td>2.452713e+06</td>\n",
       "    </tr>\n",
       "    <tr>\n",
       "      <th>...</th>\n",
       "      <td>...</td>\n",
       "      <td>...</td>\n",
       "      <td>...</td>\n",
       "      <td>...</td>\n",
       "      <td>...</td>\n",
       "      <td>...</td>\n",
       "      <td>...</td>\n",
       "      <td>...</td>\n",
       "      <td>...</td>\n",
       "      <td>...</td>\n",
       "      <td>...</td>\n",
       "      <td>...</td>\n",
       "      <td>...</td>\n",
       "      <td>...</td>\n",
       "    </tr>\n",
       "    <tr>\n",
       "      <th>499</th>\n",
       "      <td>2.453386e+06</td>\n",
       "      <td>9.871</td>\n",
       "      <td>9.926</td>\n",
       "      <td>9.881</td>\n",
       "      <td>9.877</td>\n",
       "      <td>9.865</td>\n",
       "      <td>0.032</td>\n",
       "      <td>0.060</td>\n",
       "      <td>0.033</td>\n",
       "      <td>0.030</td>\n",
       "      <td>0.036</td>\n",
       "      <td>A</td>\n",
       "      <td>126078</td>\n",
       "      <td>2.453386e+06</td>\n",
       "    </tr>\n",
       "    <tr>\n",
       "      <th>500</th>\n",
       "      <td>2.453391e+06</td>\n",
       "      <td>10.076</td>\n",
       "      <td>10.061</td>\n",
       "      <td>10.066</td>\n",
       "      <td>10.071</td>\n",
       "      <td>10.068</td>\n",
       "      <td>0.027</td>\n",
       "      <td>0.044</td>\n",
       "      <td>0.026</td>\n",
       "      <td>0.025</td>\n",
       "      <td>0.030</td>\n",
       "      <td>A</td>\n",
       "      <td>126762</td>\n",
       "      <td>2.453391e+06</td>\n",
       "    </tr>\n",
       "    <tr>\n",
       "      <th>501</th>\n",
       "      <td>2.453394e+06</td>\n",
       "      <td>10.210</td>\n",
       "      <td>10.226</td>\n",
       "      <td>10.225</td>\n",
       "      <td>10.217</td>\n",
       "      <td>10.203</td>\n",
       "      <td>0.048</td>\n",
       "      <td>0.062</td>\n",
       "      <td>0.040</td>\n",
       "      <td>0.041</td>\n",
       "      <td>0.055</td>\n",
       "      <td>B</td>\n",
       "      <td>127050</td>\n",
       "      <td>2.453394e+06</td>\n",
       "    </tr>\n",
       "    <tr>\n",
       "      <th>502</th>\n",
       "      <td>2.453400e+06</td>\n",
       "      <td>9.836</td>\n",
       "      <td>9.832</td>\n",
       "      <td>9.825</td>\n",
       "      <td>9.832</td>\n",
       "      <td>9.827</td>\n",
       "      <td>0.037</td>\n",
       "      <td>0.052</td>\n",
       "      <td>0.038</td>\n",
       "      <td>0.035</td>\n",
       "      <td>0.040</td>\n",
       "      <td>A</td>\n",
       "      <td>127807</td>\n",
       "      <td>2.453400e+06</td>\n",
       "    </tr>\n",
       "    <tr>\n",
       "      <th>503</th>\n",
       "      <td>2.453449e+06</td>\n",
       "      <td>10.273</td>\n",
       "      <td>10.269</td>\n",
       "      <td>10.279</td>\n",
       "      <td>10.274</td>\n",
       "      <td>10.270</td>\n",
       "      <td>0.044</td>\n",
       "      <td>0.066</td>\n",
       "      <td>0.047</td>\n",
       "      <td>0.042</td>\n",
       "      <td>0.049</td>\n",
       "      <td>B</td>\n",
       "      <td>134910</td>\n",
       "      <td>2.453449e+06</td>\n",
       "    </tr>\n",
       "  </tbody>\n",
       "</table>\n",
       "<p>504 rows × 14 columns</p>\n",
       "</div>"
      ],
      "text/plain": [
       "              HJD   MAG_2   MAG_0   MAG_1   MAG_3   MAG_4  MER_2  MER_0  \\\n",
       "0    2.452054e+06   9.876   9.833   9.863   9.868   9.872  0.036  0.049   \n",
       "1    2.452069e+06   9.815   9.732   9.805   9.813   9.815  0.024  0.045   \n",
       "2    2.452442e+06  10.167  10.147  10.170  10.173  10.186  0.064  0.071   \n",
       "3    2.452661e+06   9.868   9.824   9.863   9.865   9.869  0.037  0.048   \n",
       "4    2.452713e+06  10.098  10.090  10.079  10.098  10.094  0.027  0.036   \n",
       "..            ...     ...     ...     ...     ...     ...    ...    ...   \n",
       "499  2.453386e+06   9.871   9.926   9.881   9.877   9.865  0.032  0.060   \n",
       "500  2.453391e+06  10.076  10.061  10.066  10.071  10.068  0.027  0.044   \n",
       "501  2.453394e+06  10.210  10.226  10.225  10.217  10.203  0.048  0.062   \n",
       "502  2.453400e+06   9.836   9.832   9.825   9.832   9.827  0.037  0.052   \n",
       "503  2.453449e+06  10.273  10.269  10.279  10.274  10.270  0.044  0.066   \n",
       "\n",
       "     MER_1  MER_3  MER_4 GRADE   FRAME           BJD  \n",
       "0    0.046  0.032  0.032     A   19978  2.452054e+06  \n",
       "1    0.028  0.028  0.032     A   22224  2.452069e+06  \n",
       "2    0.068  0.069  0.076     D    8406  2.452442e+06  \n",
       "3    0.039  0.042  0.044     A   35993  2.452661e+06  \n",
       "4    0.032  0.028  0.030     A   45107  2.452713e+06  \n",
       "..     ...    ...    ...   ...     ...           ...  \n",
       "499  0.033  0.030  0.036     A  126078  2.453386e+06  \n",
       "500  0.026  0.025  0.030     A  126762  2.453391e+06  \n",
       "501  0.040  0.041  0.055     B  127050  2.453394e+06  \n",
       "502  0.038  0.035  0.040     A  127807  2.453400e+06  \n",
       "503  0.047  0.042  0.049     B  134910  2.453449e+06  \n",
       "\n",
       "[504 rows x 14 columns]"
      ]
     },
     "execution_count": 13,
     "metadata": {},
     "output_type": "execute_result"
    }
   ],
   "source": [
    "df"
   ]
  },
  {
   "cell_type": "code",
   "execution_count": 19,
   "metadata": {},
   "outputs": [],
   "source": [
    "# in case of weird naming conventions\n",
    "'''\n",
    "df[\"Magnitude\"] = df[\"MAG_0\"]\n",
    "df[\"Uncertainty\"] = df[\"MER_0\"]\n",
    "'''"
   ]
  },
  {
   "cell_type": "markdown",
   "metadata": {},
   "source": [
    "# look at the data, choose what we want"
   ]
  },
  {
   "cell_type": "code",
   "execution_count": 19,
   "metadata": {},
   "outputs": [],
   "source": [
    "plt.clf()\n",
    "plt.scatter(df[\"BJD\"],\n",
    "            df[\"Magnitude\"])\n",
    "plt.show()"
   ]
  },
  {
   "cell_type": "code",
   "execution_count": 14,
   "metadata": {},
   "outputs": [],
   "source": [
    "plt.clf()\n",
    "plt.scatter(df[\"BJD\"],\n",
    "            df[\"MAG_0\"])\n",
    "plt.scatter(df[\"BJD\"],\n",
    "            df[\"MAG_1\"])\n",
    "plt.scatter(df[\"BJD\"],\n",
    "            df[\"MAG_2\"])\n",
    "plt.scatter(df[\"BJD\"],\n",
    "            df[\"MAG_3\"])\n",
    "plt.scatter(df[\"BJD\"],\n",
    "            df[\"MAG_4\"])\n",
    "plt.show()"
   ]
  },
  {
   "cell_type": "code",
   "execution_count": 14,
   "metadata": {},
   "outputs": [],
   "source": [
    "plt.clf()\n",
    "plt.scatter(df[\"BJD\"],\n",
    "            df[\"mag_autocorr\"])\n",
    "plt.show()"
   ]
  },
  {
   "cell_type": "code",
   "execution_count": 13,
   "metadata": {},
   "outputs": [],
   "source": [
    "plt.clf()\n",
    "plt.scatter(df[\"JD\"].where(df[\"Band\"] == \"V\"),\n",
    "            df[\"Magnitude\"].where(df[\"Band\"] == \"V\"), color=\"k\")\n",
    "plt.scatter(df[\"BJD\"].where(df[\"Band\"] == \"V\"),\n",
    "            df[\"Magnitude\"].where(df[\"Band\"] == \"V\"), color=\"b\")\n",
    "plt.show()"
   ]
  },
  {
   "cell_type": "code",
   "execution_count": 18,
   "metadata": {},
   "outputs": [],
   "source": [
    "plt.clf()\n",
    "plt.scatter(df[\"BJD\"].where(df[\"Observer Code\"] == \"SAH\"),\n",
    "            df[\"Magnitude\"].where(df[\"Observer Code\"] == \"SAH\"), color=\"k\")\n",
    "plt.show()"
   ]
  },
  {
   "cell_type": "code",
   "execution_count": 13,
   "metadata": {},
   "outputs": [
    {
     "data": {
      "text/plain": [
       "Index(['JD', 'Magnitude', 'Uncertainty', 'HQuncertainty', 'Band',\n",
       "       'Observer Code', 'Comment Code(s)', 'Comp Star 1', 'Comp Star 2',\n",
       "       'Charts', 'Comments', 'Transfomed', 'Airmass', 'Validation Flag',\n",
       "       'Cmag', 'Kmag', 'HJD', 'Star Name', 'Observer Affiliation',\n",
       "       'Measurement Method', 'Grouping Method', 'ADS Reference', 'Digitizer',\n",
       "       'Credit', 'BJD'],\n",
       "      dtype='object')"
      ]
     },
     "execution_count": 13,
     "metadata": {},
     "output_type": "execute_result"
    }
   ],
   "source": [
    "df.keys()"
   ]
  },
  {
   "cell_type": "code",
   "execution_count": 12,
   "metadata": {},
   "outputs": [
    {
     "name": "stdout",
     "output_type": "stream",
     "text": [
      "2439144.571\n",
      "2459546.39706\n"
     ]
    }
   ],
   "source": [
    "print(np.min(df[\"JD\"]))\n",
    "print(np.max(df[\"JD\"]))"
   ]
  },
  {
   "cell_type": "code",
   "execution_count": 11,
   "metadata": {},
   "outputs": [
    {
     "data": {
      "text/plain": [
       "30529"
      ]
     },
     "execution_count": 11,
     "metadata": {},
     "output_type": "execute_result"
    }
   ],
   "source": [
    "len(df)"
   ]
  },
  {
   "cell_type": "code",
   "execution_count": 15,
   "metadata": {},
   "outputs": [
    {
     "ename": "KeyError",
     "evalue": "'Band'",
     "output_type": "error",
     "traceback": [
      "\u001b[0;31m---------------------------------------------------------------------------\u001b[0m",
      "\u001b[0;31mKeyError\u001b[0m                                  Traceback (most recent call last)",
      "\u001b[0;32m~/anaconda3/envs/rrl_env/lib/python3.6/site-packages/pandas/core/indexes/base.py\u001b[0m in \u001b[0;36mget_loc\u001b[0;34m(self, key, method, tolerance)\u001b[0m\n\u001b[1;32m   2894\u001b[0m             \u001b[0;32mtry\u001b[0m\u001b[0;34m:\u001b[0m\u001b[0;34m\u001b[0m\u001b[0m\n\u001b[0;32m-> 2895\u001b[0;31m                 \u001b[0;32mreturn\u001b[0m \u001b[0mself\u001b[0m\u001b[0;34m.\u001b[0m\u001b[0m_engine\u001b[0m\u001b[0;34m.\u001b[0m\u001b[0mget_loc\u001b[0m\u001b[0;34m(\u001b[0m\u001b[0mcasted_key\u001b[0m\u001b[0;34m)\u001b[0m\u001b[0;34m\u001b[0m\u001b[0m\n\u001b[0m\u001b[1;32m   2896\u001b[0m             \u001b[0;32mexcept\u001b[0m \u001b[0mKeyError\u001b[0m \u001b[0;32mas\u001b[0m \u001b[0merr\u001b[0m\u001b[0;34m:\u001b[0m\u001b[0;34m\u001b[0m\u001b[0m\n",
      "\u001b[0;32mpandas/_libs/index.pyx\u001b[0m in \u001b[0;36mpandas._libs.index.IndexEngine.get_loc\u001b[0;34m()\u001b[0m\n",
      "\u001b[0;32mpandas/_libs/index.pyx\u001b[0m in \u001b[0;36mpandas._libs.index.IndexEngine.get_loc\u001b[0;34m()\u001b[0m\n",
      "\u001b[0;32mpandas/_libs/hashtable_class_helper.pxi\u001b[0m in \u001b[0;36mpandas._libs.hashtable.PyObjectHashTable.get_item\u001b[0;34m()\u001b[0m\n",
      "\u001b[0;32mpandas/_libs/hashtable_class_helper.pxi\u001b[0m in \u001b[0;36mpandas._libs.hashtable.PyObjectHashTable.get_item\u001b[0;34m()\u001b[0m\n",
      "\u001b[0;31mKeyError\u001b[0m: 'Band'",
      "\nThe above exception was the direct cause of the following exception:\n",
      "\u001b[0;31mKeyError\u001b[0m                                  Traceback (most recent call last)",
      "\u001b[0;32m<ipython-input-15-30b1708f7817>\u001b[0m in \u001b[0;36m<module>\u001b[0;34m\u001b[0m\n\u001b[0;32m----> 1\u001b[0;31m \u001b[0mdf\u001b[0m\u001b[0;34m[\u001b[0m\u001b[0;34m\"Band\"\u001b[0m\u001b[0;34m]\u001b[0m\u001b[0;34m.\u001b[0m\u001b[0mvalue_counts\u001b[0m\u001b[0;34m(\u001b[0m\u001b[0;34m)\u001b[0m\u001b[0;34m\u001b[0m\u001b[0m\n\u001b[0m",
      "\u001b[0;32m~/anaconda3/envs/rrl_env/lib/python3.6/site-packages/pandas/core/frame.py\u001b[0m in \u001b[0;36m__getitem__\u001b[0;34m(self, key)\u001b[0m\n\u001b[1;32m   2900\u001b[0m             \u001b[0;32mif\u001b[0m \u001b[0mself\u001b[0m\u001b[0;34m.\u001b[0m\u001b[0mcolumns\u001b[0m\u001b[0;34m.\u001b[0m\u001b[0mnlevels\u001b[0m \u001b[0;34m>\u001b[0m \u001b[0;36m1\u001b[0m\u001b[0;34m:\u001b[0m\u001b[0;34m\u001b[0m\u001b[0m\n\u001b[1;32m   2901\u001b[0m                 \u001b[0;32mreturn\u001b[0m \u001b[0mself\u001b[0m\u001b[0;34m.\u001b[0m\u001b[0m_getitem_multilevel\u001b[0m\u001b[0;34m(\u001b[0m\u001b[0mkey\u001b[0m\u001b[0;34m)\u001b[0m\u001b[0;34m\u001b[0m\u001b[0m\n\u001b[0;32m-> 2902\u001b[0;31m             \u001b[0mindexer\u001b[0m \u001b[0;34m=\u001b[0m \u001b[0mself\u001b[0m\u001b[0;34m.\u001b[0m\u001b[0mcolumns\u001b[0m\u001b[0;34m.\u001b[0m\u001b[0mget_loc\u001b[0m\u001b[0;34m(\u001b[0m\u001b[0mkey\u001b[0m\u001b[0;34m)\u001b[0m\u001b[0;34m\u001b[0m\u001b[0m\n\u001b[0m\u001b[1;32m   2903\u001b[0m             \u001b[0;32mif\u001b[0m \u001b[0mis_integer\u001b[0m\u001b[0;34m(\u001b[0m\u001b[0mindexer\u001b[0m\u001b[0;34m)\u001b[0m\u001b[0;34m:\u001b[0m\u001b[0;34m\u001b[0m\u001b[0m\n\u001b[1;32m   2904\u001b[0m                 \u001b[0mindexer\u001b[0m \u001b[0;34m=\u001b[0m \u001b[0;34m[\u001b[0m\u001b[0mindexer\u001b[0m\u001b[0;34m]\u001b[0m\u001b[0;34m\u001b[0m\u001b[0m\n",
      "\u001b[0;32m~/anaconda3/envs/rrl_env/lib/python3.6/site-packages/pandas/core/indexes/base.py\u001b[0m in \u001b[0;36mget_loc\u001b[0;34m(self, key, method, tolerance)\u001b[0m\n\u001b[1;32m   2895\u001b[0m                 \u001b[0;32mreturn\u001b[0m \u001b[0mself\u001b[0m\u001b[0;34m.\u001b[0m\u001b[0m_engine\u001b[0m\u001b[0;34m.\u001b[0m\u001b[0mget_loc\u001b[0m\u001b[0;34m(\u001b[0m\u001b[0mcasted_key\u001b[0m\u001b[0;34m)\u001b[0m\u001b[0;34m\u001b[0m\u001b[0m\n\u001b[1;32m   2896\u001b[0m             \u001b[0;32mexcept\u001b[0m \u001b[0mKeyError\u001b[0m \u001b[0;32mas\u001b[0m \u001b[0merr\u001b[0m\u001b[0;34m:\u001b[0m\u001b[0;34m\u001b[0m\u001b[0m\n\u001b[0;32m-> 2897\u001b[0;31m                 \u001b[0;32mraise\u001b[0m \u001b[0mKeyError\u001b[0m\u001b[0;34m(\u001b[0m\u001b[0mkey\u001b[0m\u001b[0;34m)\u001b[0m \u001b[0;32mfrom\u001b[0m \u001b[0merr\u001b[0m\u001b[0;34m\u001b[0m\u001b[0m\n\u001b[0m\u001b[1;32m   2898\u001b[0m \u001b[0;34m\u001b[0m\u001b[0m\n\u001b[1;32m   2899\u001b[0m         \u001b[0;32mif\u001b[0m \u001b[0mtolerance\u001b[0m \u001b[0;32mis\u001b[0m \u001b[0;32mnot\u001b[0m \u001b[0;32mNone\u001b[0m\u001b[0;34m:\u001b[0m\u001b[0;34m\u001b[0m\u001b[0m\n",
      "\u001b[0;31mKeyError\u001b[0m: 'Band'"
     ]
    }
   ],
   "source": [
    "df[\"Band\"].value_counts()"
   ]
  },
  {
   "cell_type": "code",
   "execution_count": 16,
   "metadata": {},
   "outputs": [
    {
     "ename": "KeyError",
     "evalue": "'Observer Code'",
     "output_type": "error",
     "traceback": [
      "\u001b[0;31m---------------------------------------------------------------------------\u001b[0m",
      "\u001b[0;31mKeyError\u001b[0m                                  Traceback (most recent call last)",
      "\u001b[0;32m~/anaconda3/envs/rrl_env/lib/python3.6/site-packages/pandas/core/indexes/base.py\u001b[0m in \u001b[0;36mget_loc\u001b[0;34m(self, key, method, tolerance)\u001b[0m\n\u001b[1;32m   2894\u001b[0m             \u001b[0;32mtry\u001b[0m\u001b[0;34m:\u001b[0m\u001b[0;34m\u001b[0m\u001b[0m\n\u001b[0;32m-> 2895\u001b[0;31m                 \u001b[0;32mreturn\u001b[0m \u001b[0mself\u001b[0m\u001b[0;34m.\u001b[0m\u001b[0m_engine\u001b[0m\u001b[0;34m.\u001b[0m\u001b[0mget_loc\u001b[0m\u001b[0;34m(\u001b[0m\u001b[0mcasted_key\u001b[0m\u001b[0;34m)\u001b[0m\u001b[0;34m\u001b[0m\u001b[0m\n\u001b[0m\u001b[1;32m   2896\u001b[0m             \u001b[0;32mexcept\u001b[0m \u001b[0mKeyError\u001b[0m \u001b[0;32mas\u001b[0m \u001b[0merr\u001b[0m\u001b[0;34m:\u001b[0m\u001b[0;34m\u001b[0m\u001b[0m\n",
      "\u001b[0;32mpandas/_libs/index.pyx\u001b[0m in \u001b[0;36mpandas._libs.index.IndexEngine.get_loc\u001b[0;34m()\u001b[0m\n",
      "\u001b[0;32mpandas/_libs/index.pyx\u001b[0m in \u001b[0;36mpandas._libs.index.IndexEngine.get_loc\u001b[0;34m()\u001b[0m\n",
      "\u001b[0;32mpandas/_libs/hashtable_class_helper.pxi\u001b[0m in \u001b[0;36mpandas._libs.hashtable.PyObjectHashTable.get_item\u001b[0;34m()\u001b[0m\n",
      "\u001b[0;32mpandas/_libs/hashtable_class_helper.pxi\u001b[0m in \u001b[0;36mpandas._libs.hashtable.PyObjectHashTable.get_item\u001b[0;34m()\u001b[0m\n",
      "\u001b[0;31mKeyError\u001b[0m: 'Observer Code'",
      "\nThe above exception was the direct cause of the following exception:\n",
      "\u001b[0;31mKeyError\u001b[0m                                  Traceback (most recent call last)",
      "\u001b[0;32m<ipython-input-16-b3da68179ded>\u001b[0m in \u001b[0;36m<module>\u001b[0;34m\u001b[0m\n\u001b[0;32m----> 1\u001b[0;31m \u001b[0mdf\u001b[0m\u001b[0;34m[\u001b[0m\u001b[0;34m\"Observer Code\"\u001b[0m\u001b[0;34m]\u001b[0m\u001b[0;34m.\u001b[0m\u001b[0mvalue_counts\u001b[0m\u001b[0;34m(\u001b[0m\u001b[0;34m)\u001b[0m\u001b[0;34m\u001b[0m\u001b[0m\n\u001b[0m",
      "\u001b[0;32m~/anaconda3/envs/rrl_env/lib/python3.6/site-packages/pandas/core/frame.py\u001b[0m in \u001b[0;36m__getitem__\u001b[0;34m(self, key)\u001b[0m\n\u001b[1;32m   2900\u001b[0m             \u001b[0;32mif\u001b[0m \u001b[0mself\u001b[0m\u001b[0;34m.\u001b[0m\u001b[0mcolumns\u001b[0m\u001b[0;34m.\u001b[0m\u001b[0mnlevels\u001b[0m \u001b[0;34m>\u001b[0m \u001b[0;36m1\u001b[0m\u001b[0;34m:\u001b[0m\u001b[0;34m\u001b[0m\u001b[0m\n\u001b[1;32m   2901\u001b[0m                 \u001b[0;32mreturn\u001b[0m \u001b[0mself\u001b[0m\u001b[0;34m.\u001b[0m\u001b[0m_getitem_multilevel\u001b[0m\u001b[0;34m(\u001b[0m\u001b[0mkey\u001b[0m\u001b[0;34m)\u001b[0m\u001b[0;34m\u001b[0m\u001b[0m\n\u001b[0;32m-> 2902\u001b[0;31m             \u001b[0mindexer\u001b[0m \u001b[0;34m=\u001b[0m \u001b[0mself\u001b[0m\u001b[0;34m.\u001b[0m\u001b[0mcolumns\u001b[0m\u001b[0;34m.\u001b[0m\u001b[0mget_loc\u001b[0m\u001b[0;34m(\u001b[0m\u001b[0mkey\u001b[0m\u001b[0;34m)\u001b[0m\u001b[0;34m\u001b[0m\u001b[0m\n\u001b[0m\u001b[1;32m   2903\u001b[0m             \u001b[0;32mif\u001b[0m \u001b[0mis_integer\u001b[0m\u001b[0;34m(\u001b[0m\u001b[0mindexer\u001b[0m\u001b[0;34m)\u001b[0m\u001b[0;34m:\u001b[0m\u001b[0;34m\u001b[0m\u001b[0m\n\u001b[1;32m   2904\u001b[0m                 \u001b[0mindexer\u001b[0m \u001b[0;34m=\u001b[0m \u001b[0;34m[\u001b[0m\u001b[0mindexer\u001b[0m\u001b[0;34m]\u001b[0m\u001b[0;34m\u001b[0m\u001b[0m\n",
      "\u001b[0;32m~/anaconda3/envs/rrl_env/lib/python3.6/site-packages/pandas/core/indexes/base.py\u001b[0m in \u001b[0;36mget_loc\u001b[0;34m(self, key, method, tolerance)\u001b[0m\n\u001b[1;32m   2895\u001b[0m                 \u001b[0;32mreturn\u001b[0m \u001b[0mself\u001b[0m\u001b[0;34m.\u001b[0m\u001b[0m_engine\u001b[0m\u001b[0;34m.\u001b[0m\u001b[0mget_loc\u001b[0m\u001b[0;34m(\u001b[0m\u001b[0mcasted_key\u001b[0m\u001b[0;34m)\u001b[0m\u001b[0;34m\u001b[0m\u001b[0m\n\u001b[1;32m   2896\u001b[0m             \u001b[0;32mexcept\u001b[0m \u001b[0mKeyError\u001b[0m \u001b[0;32mas\u001b[0m \u001b[0merr\u001b[0m\u001b[0;34m:\u001b[0m\u001b[0;34m\u001b[0m\u001b[0m\n\u001b[0;32m-> 2897\u001b[0;31m                 \u001b[0;32mraise\u001b[0m \u001b[0mKeyError\u001b[0m\u001b[0;34m(\u001b[0m\u001b[0mkey\u001b[0m\u001b[0;34m)\u001b[0m \u001b[0;32mfrom\u001b[0m \u001b[0merr\u001b[0m\u001b[0;34m\u001b[0m\u001b[0m\n\u001b[0m\u001b[1;32m   2898\u001b[0m \u001b[0;34m\u001b[0m\u001b[0m\n\u001b[1;32m   2899\u001b[0m         \u001b[0;32mif\u001b[0m \u001b[0mtolerance\u001b[0m \u001b[0;32mis\u001b[0m \u001b[0;32mnot\u001b[0m \u001b[0;32mNone\u001b[0m\u001b[0;34m:\u001b[0m\u001b[0;34m\u001b[0m\u001b[0m\n",
      "\u001b[0;31mKeyError\u001b[0m: 'Observer Code'"
     ]
    }
   ],
   "source": [
    "df[\"Observer Code\"].value_counts()"
   ]
  },
  {
   "cell_type": "code",
   "execution_count": 22,
   "metadata": {},
   "outputs": [],
   "source": [
    "# choose photometric subset\n",
    "\n",
    "#df_subset_photo = df\n",
    "#df_subset_photo = df.where(np.logical_and(df[\"BJD\"] > 2452456,df[\"Band\"] == \"V\"))\n",
    "#df_subset_photo = df.where(np.logical_or(df[\"BJD\"] < 2455109,df[\"BJD\"] > 2455535))\n",
    "#df_subset_photo = df.where(df[\"Band\"] == \"V\")\n",
    "df_subset_photo = df.where(df[\"MAG_0\"] < 50)\n",
    "#df_subset = df[[\"JD\", \"sdf\"]]"
   ]
  },
  {
   "cell_type": "code",
   "execution_count": 23,
   "metadata": {},
   "outputs": [],
   "source": [
    "# check to confirm\n",
    "plt.clf()\n",
    "plt.scatter(df_subset_photo[\"BJD\"],df_subset_photo[\"Magnitude\"])\n",
    "#plt.scatter(df_subset_photo[\"BJD\"],df_subset_photo[\"MAG_0\"])\n",
    "plt.show()"
   ]
  },
  {
   "cell_type": "code",
   "execution_count": 13,
   "metadata": {},
   "outputs": [
    {
     "data": {
      "text/plain": [
       "2456809.3022545683"
      ]
     },
     "execution_count": 13,
     "metadata": {},
     "output_type": "execute_result"
    }
   ],
   "source": [
    "np.max(df_subset_photo[\"BJD\"])"
   ]
  },
  {
   "cell_type": "code",
   "execution_count": 14,
   "metadata": {},
   "outputs": [
    {
     "data": {
      "text/plain": [
       "Index(['index', 'JD', 'Magnitude', 'Uncertainty', 'HQuncertainty', 'Band',\n",
       "       'Observer Code', 'Comment Code(s)', 'Comp Star 1', 'Comp Star 2',\n",
       "       'Charts', 'Comments', 'Transfomed', 'Airmass', 'Validation Flag',\n",
       "       'Cmag', 'Kmag', 'HJD', 'Star Name', 'Observer Affiliation',\n",
       "       'Measurement Method', 'Grouping Method', 'ADS Reference', 'Digitizer',\n",
       "       'Credit', 'BJD'],\n",
       "      dtype='object')"
      ]
     },
     "execution_count": 14,
     "metadata": {},
     "output_type": "execute_result"
    }
   ],
   "source": [
    "df_subset_photo.keys()"
   ]
  },
  {
   "cell_type": "markdown",
   "metadata": {},
   "source": [
    "# feature scale the photometry"
   ]
  },
  {
   "cell_type": "markdown",
   "metadata": {},
   "source": [
    "### wait! scaling of error bars won't be the same, since an offset is being subtracted off"
   ]
  },
  {
   "cell_type": "code",
   "execution_count": 29,
   "metadata": {},
   "outputs": [],
   "source": [
    "'''\n",
    "scaler = MinMaxScaler() # min-max mapped to 0-to-1\n",
    "df_subset_photo[['mag_scaled']] = scaler.fit_transform(df_subset_photo[['Magnitude']])\n",
    "# df_subset_photo[['error_scaled']] = scaler.transform(df_subset_photo[['Uncertainty']])\n",
    "'''"
   ]
  },
  {
   "cell_type": "code",
   "execution_count": 21,
   "metadata": {},
   "outputs": [],
   "source": [
    "'''\n",
    "plt.scatter(df_subset_photo[\"BJD\"],df_subset_photo[\"mag_scaled\"])\n",
    "plt.show()\n",
    "'''"
   ]
  },
  {
   "cell_type": "markdown",
   "metadata": {},
   "source": [
    "# write out as 'polished' photometry"
   ]
  },
  {
   "cell_type": "code",
   "execution_count": null,
   "metadata": {},
   "outputs": [],
   "source": [
    "# cols BJD, mag, error"
   ]
  },
  {
   "cell_type": "code",
   "execution_count": 24,
   "metadata": {},
   "outputs": [],
   "source": [
    "# remove rows of all NaNs\n",
    "\n",
    "df_subset_photo_dropna = df_subset_photo.dropna(axis=0, how='all')"
   ]
  },
  {
   "cell_type": "code",
   "execution_count": 25,
   "metadata": {},
   "outputs": [
    {
     "name": "stdout",
     "output_type": "stream",
     "text": [
      "/Users/bandari/Documents/git.repos/rrlyrae_metallicity/notebooks_for_development/all_photometry_program_stars/polished/t_sex_asas3_vband_prepolished.txt\n"
     ]
    }
   ],
   "source": [
    "# write out only the relevant cols\n",
    "\n",
    "df_subset_photo_dropna.to_csv(stem_public_sources + writeout_polished_file, \n",
    "                              columns=[\"BJD\",\"Magnitude\",\"Uncertainty\"], index=False)\n",
    "print(stem_public_sources + writeout_polished_file)"
   ]
  },
  {
   "cell_type": "code",
   "execution_count": null,
   "metadata": {},
   "outputs": [],
   "source": []
  }
 ],
 "metadata": {
  "kernelspec": {
   "display_name": "Python 3",
   "language": "python",
   "name": "python3"
  },
  "language_info": {
   "codemirror_mode": {
    "name": "ipython",
    "version": 3
   },
   "file_extension": ".py",
   "mimetype": "text/x-python",
   "name": "python",
   "nbconvert_exporter": "python",
   "pygments_lexer": "ipython3",
   "version": "3.6.6"
  }
 },
 "nbformat": 4,
 "nbformat_minor": 4
}
