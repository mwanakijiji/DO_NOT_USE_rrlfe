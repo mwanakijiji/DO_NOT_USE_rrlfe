{
 "cells": [
  {
   "cell_type": "code",
   "execution_count": null,
   "metadata": {},
   "outputs": [],
   "source": [
    "# This just makes simple plots to check pipeline output\n",
    "\n",
    "# Created 2019 Aug 31 by E.S."
   ]
  },
  {
   "cell_type": "code",
   "execution_count": 6,
   "metadata": {},
   "outputs": [],
   "source": [
    "import pandas as pd\n",
    "import matplotlib.pyplot as plt\n",
    "\n",
    "%matplotlib qt"
   ]
  },
  {
   "cell_type": "code",
   "execution_count": 16,
   "metadata": {},
   "outputs": [],
   "source": [
    "df = pd.read_csv(\"../rrlyrae_metallicity/synthetic_output/norm/final/775025p02.smo_001\", \n",
    "                 delim_whitespace=True, names=[\"wavel\",\"flux\"])"
   ]
  },
  {
   "cell_type": "code",
   "execution_count": 17,
   "metadata": {},
   "outputs": [],
   "source": [
    "plt.plot(df[\"wavel\"],df[\"flux\"])\n",
    "plt.title(\"Example normalized, noise-churned synthetic spectrum, 775025p02.smo_001\")\n",
    "plt.xlabel(\"Wavelength ($\\AA$)\")\n",
    "plt.ylabel(\"Normalized flux\")\n",
    "plt.show()"
   ]
  },
  {
   "cell_type": "code",
   "execution_count": 7,
   "metadata": {},
   "outputs": [],
   "source": [
    "df = pd.read_csv(\"../rrlyrae_metallicity/robospect_output/625025m20.smo_001.robospect\", \n",
    "                 delim_whitespace=True, header=1)"
   ]
  },
  {
   "cell_type": "code",
   "execution_count": 8,
   "metadata": {},
   "outputs": [
    {
     "data": {
      "text/plain": [
       "Index(['#inputWavelength', 'inputFlux', 'inputErrorPlacehldr',\n",
       "       'modelContinuum', 'modelError', 'modelLines', 'modelAlternate'],\n",
       "      dtype='object')"
      ]
     },
     "execution_count": 8,
     "metadata": {},
     "output_type": "execute_result"
    }
   ],
   "source": [
    "df.keys()"
   ]
  },
  {
   "cell_type": "code",
   "execution_count": 10,
   "metadata": {},
   "outputs": [],
   "source": [
    "plt.plot(df[\"#inputWavelength\"],df[\"inputFlux\"])\n",
    "plt.plot(df[\"#inputWavelength\"],df[\"modelContinuum\"])\n",
    "plt.plot(df[\"#inputWavelength\"],df[\"modelLines\"])\n",
    "plt.plot(df[\"#inputWavelength\"],df[\"modelError\"])\n",
    "plt.title(\"625025m20.smo_001.robospect\")\n",
    "plt.xlabel(\"wavelength\")\n",
    "plt.ylabel(\"flux\")\n",
    "plt.legend()\n",
    "plt.show()"
   ]
  },
  {
   "cell_type": "code",
   "execution_count": 12,
   "metadata": {},
   "outputs": [],
   "source": [
    "plt.clf()\n",
    "plt.plot(df[\"#inputWavelength\"],df[\"inputFlux\"])\n",
    "#plt.plot(df[\"#inputWavelength\"],df[\"modelContinuum\"])\n",
    "plt.plot(df[\"#inputWavelength\"],df[\"modelLines\"]+1)\n",
    "#plt.plot(df[\"#inputWavelength\"],df[\"modelError\"])\n",
    "plt.title(\"625025m20.smo_001.robospect\")\n",
    "plt.xlabel(\"wavelength\")\n",
    "plt.ylabel(\"flux\")\n",
    "plt.legend()\n",
    "plt.show()"
   ]
  },
  {
   "cell_type": "code",
   "execution_count": null,
   "metadata": {},
   "outputs": [],
   "source": []
  }
 ],
 "metadata": {
  "kernelspec": {
   "display_name": "Python 3",
   "language": "python",
   "name": "python3"
  },
  "language_info": {
   "codemirror_mode": {
    "name": "ipython",
    "version": 3
   },
   "file_extension": ".py",
   "mimetype": "text/x-python",
   "name": "python",
   "nbconvert_exporter": "python",
   "pygments_lexer": "ipython3",
   "version": "3.6.6"
  }
 },
 "nbformat": 4,
 "nbformat_minor": 2
}
