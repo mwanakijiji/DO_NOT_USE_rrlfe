{
 "cells": [
  {
   "cell_type": "code",
   "execution_count": null,
   "metadata": {
    "collapsed": true
   },
   "outputs": [],
   "source": [
    "# This populates an input list of spectra which have been culled from the SDSS Stripe 82,\n",
    "# with the help of Stacy Long \n",
    "\n",
    "# Created 2019 June 29 by E.S."
   ]
  },
  {
   "cell_type": "code",
   "execution_count": 2,
   "metadata": {
    "collapsed": true
   },
   "outputs": [],
   "source": [
    "import numpy as np\n",
    "import pandas as pd"
   ]
  },
  {
   "cell_type": "code",
   "execution_count": 3,
   "metadata": {
    "collapsed": false
   },
   "outputs": [],
   "source": [
    "# read in table prepared by Stacy Long\n",
    "\n",
    "phase82 = pd.read_csv(\"../sdss_stripe82_other_data/phase82.dat\", \n",
    "                      names = [\"SDSSname\", \"hjd\", \"Sesar_phase\", \n",
    "                               \"Sesar_cycles\", \"period\", \"g_ephemeris\", \n",
    "                               \"g_amplitude\", \"Sesar_type\", \"Drake_phase\", \n",
    "                               \"Drake_cycles\", \"Drake_period\", \"Drake_V_ephemeris\", \n",
    "                               \"Drake_V_amp\", \"Drake_type\", \"Drake2013b_chart_period\", \n",
    "                               \"Drake2013b_chart_amp\", \"Drake2013b_chart_type\", \n",
    "                               \"Abbas2014_period\", \"Abbas2014_amp\", \"Abbas2014_type\", \n",
    "                               \"Catalina_DR2_chart_period\", \"Catalina_DR2_chart_amp\", \n",
    "                               \"Catalina_DR2_chart_type\", \"Drake_MLS_chart_period\", \n",
    "                               \"Drake_MLS_chart_amp\", \"Drake_MLS_chart_type\"], \n",
    "                      delim_whitespace=True)"
   ]
  },
  {
   "cell_type": "code",
   "execution_count": 14,
   "metadata": {
    "collapsed": false
   },
   "outputs": [],
   "source": [
    "# the spectra names in Stacy's file have a 'G', but the actual .dat files have a 'g'\n",
    "\n",
    "phase82[\"SDSSname_rename\"] = phase82[\"SDSSname\"].str.replace(pat=\".fits\", repl=\".dat\")\n",
    "phase82[\"SDSSname_rename\"] = phase82[\"SDSSname_rename\"].str.replace(pat=\"G\", repl=\"g\")"
   ]
  },
  {
   "cell_type": "code",
   "execution_count": 17,
   "metadata": {
    "collapsed": false
   },
   "outputs": [],
   "source": [
    "# write to file in a format that our pipeline will use\n",
    "\n",
    "phase82.to_csv(\"sdss_stripe82_spectra_list.list\", \n",
    "               columns=[\"SDSSname_rename\",\"Sesar_type\",\"Sesar_phase\"], \n",
    "               header=[\"Spectrum\", \"Subtype\", \"Phase\"], sep=\" \", index=None)"
   ]
  },
  {
   "cell_type": "code",
   "execution_count": null,
   "metadata": {
    "collapsed": true
   },
   "outputs": [],
   "source": []
  }
 ],
 "metadata": {
  "kernelspec": {
   "display_name": "Python 3",
   "language": "python",
   "name": "python3"
  },
  "language_info": {
   "codemirror_mode": {
    "name": "ipython",
    "version": 3
   },
   "file_extension": ".py",
   "mimetype": "text/x-python",
   "name": "python",
   "nbconvert_exporter": "python",
   "pygments_lexer": "ipython3",
   "version": "3.5.4"
  }
 },
 "nbformat": 4,
 "nbformat_minor": 0
}
