{
 "cells": [
  {
   "cell_type": "code",
   "execution_count": null,
   "metadata": {
    "collapsed": true
   },
   "outputs": [],
   "source": [
    "# This is just to add some columns of fake data to the text file containing spectral data\n",
    "\n",
    "# Created 2019 Feb 03 by E.S."
   ]
  },
  {
   "cell_type": "code",
   "execution_count": 1,
   "metadata": {
    "collapsed": true
   },
   "outputs": [],
   "source": [
    "import pandas as pd\n",
    "import glob\n",
    "import numpy as np"
   ]
  },
  {
   "cell_type": "code",
   "execution_count": 2,
   "metadata": {
    "collapsed": false
   },
   "outputs": [],
   "source": [
    "df = pd.read_csv(\"spec_phases_RW_spectra.list\", names=[\"file\"])"
   ]
  },
  {
   "cell_type": "code",
   "execution_count": 3,
   "metadata": {
    "collapsed": false
   },
   "outputs": [],
   "source": [
    "df[\"type\"] = \"ab\"\n",
    "df[\"phase\"] = 0.5"
   ]
  },
  {
   "cell_type": "code",
   "execution_count": 4,
   "metadata": {
    "collapsed": false
   },
   "outputs": [],
   "source": [
    "df.to_csv(\"spec_phases_RW_spectra2.list\", sep=\" \", index=False, header=False)"
   ]
  },
  {
   "cell_type": "code",
   "execution_count": 5,
   "metadata": {
    "collapsed": false
   },
   "outputs": [],
   "source": [
    "filelist = glob.glob(\"model_spectra/rrmods_all/*.smo\")"
   ]
  },
  {
   "cell_type": "code",
   "execution_count": 6,
   "metadata": {
    "collapsed": false
   },
   "outputs": [
    {
     "data": {
      "text/plain": [
       "['model_spectra/rrmods_all/575020m05.smo',\n",
       " 'model_spectra/rrmods_all/575020m10.smo',\n",
       " 'model_spectra/rrmods_all/575020m15.smo',\n",
       " 'model_spectra/rrmods_all/575020m20.smo',\n",
       " 'model_spectra/rrmods_all/575020m25.smo',\n",
       " 'model_spectra/rrmods_all/575020m30.smo',\n",
       " 'model_spectra/rrmods_all/575020p00.smo',\n",
       " 'model_spectra/rrmods_all/575020p02.smo',\n",
       " 'model_spectra/rrmods_all/575025m05.smo',\n",
       " 'model_spectra/rrmods_all/575025m10.smo',\n",
       " 'model_spectra/rrmods_all/575025m15.smo',\n",
       " 'model_spectra/rrmods_all/575025m20.smo',\n",
       " 'model_spectra/rrmods_all/575025m25.smo',\n",
       " 'model_spectra/rrmods_all/575025m30.smo',\n",
       " 'model_spectra/rrmods_all/575025p00.smo',\n",
       " 'model_spectra/rrmods_all/575025p02.smo',\n",
       " 'model_spectra/rrmods_all/575030m05.smo',\n",
       " 'model_spectra/rrmods_all/575030m10.smo',\n",
       " 'model_spectra/rrmods_all/575030m15.smo',\n",
       " 'model_spectra/rrmods_all/575030m20.smo',\n",
       " 'model_spectra/rrmods_all/575030m25.smo',\n",
       " 'model_spectra/rrmods_all/575030m30.smo',\n",
       " 'model_spectra/rrmods_all/575030p00.smo',\n",
       " 'model_spectra/rrmods_all/575030p02.smo',\n",
       " 'model_spectra/rrmods_all/600020m05.smo',\n",
       " 'model_spectra/rrmods_all/600020m10.smo',\n",
       " 'model_spectra/rrmods_all/600020m15.smo',\n",
       " 'model_spectra/rrmods_all/600020m20.smo',\n",
       " 'model_spectra/rrmods_all/600020m25.smo',\n",
       " 'model_spectra/rrmods_all/600020m30.smo',\n",
       " 'model_spectra/rrmods_all/600020p00.smo',\n",
       " 'model_spectra/rrmods_all/600020p02.smo',\n",
       " 'model_spectra/rrmods_all/600025m05.smo',\n",
       " 'model_spectra/rrmods_all/600025m10.smo',\n",
       " 'model_spectra/rrmods_all/600025m15.smo',\n",
       " 'model_spectra/rrmods_all/600025m20.smo',\n",
       " 'model_spectra/rrmods_all/600025m25.smo',\n",
       " 'model_spectra/rrmods_all/600025m30.smo',\n",
       " 'model_spectra/rrmods_all/600025p00.smo',\n",
       " 'model_spectra/rrmods_all/600025p02.smo',\n",
       " 'model_spectra/rrmods_all/600030m05.smo',\n",
       " 'model_spectra/rrmods_all/600030m10.smo',\n",
       " 'model_spectra/rrmods_all/600030m15.smo',\n",
       " 'model_spectra/rrmods_all/600030m20.smo',\n",
       " 'model_spectra/rrmods_all/600030m25.smo',\n",
       " 'model_spectra/rrmods_all/600030m30.smo',\n",
       " 'model_spectra/rrmods_all/600030p00.smo',\n",
       " 'model_spectra/rrmods_all/600030p02.smo',\n",
       " 'model_spectra/rrmods_all/625020m05.smo',\n",
       " 'model_spectra/rrmods_all/625020m10.smo',\n",
       " 'model_spectra/rrmods_all/625020m15.smo',\n",
       " 'model_spectra/rrmods_all/625020m20.smo',\n",
       " 'model_spectra/rrmods_all/625020m25.smo',\n",
       " 'model_spectra/rrmods_all/625020m30.smo',\n",
       " 'model_spectra/rrmods_all/625020p00.smo',\n",
       " 'model_spectra/rrmods_all/625020p02.smo',\n",
       " 'model_spectra/rrmods_all/625025m05.smo',\n",
       " 'model_spectra/rrmods_all/625025m10.smo',\n",
       " 'model_spectra/rrmods_all/625025m15.smo',\n",
       " 'model_spectra/rrmods_all/625025m20.smo',\n",
       " 'model_spectra/rrmods_all/625025m25.smo',\n",
       " 'model_spectra/rrmods_all/625025m30.smo',\n",
       " 'model_spectra/rrmods_all/625025p00.smo',\n",
       " 'model_spectra/rrmods_all/625025p02.smo',\n",
       " 'model_spectra/rrmods_all/625030m05.smo',\n",
       " 'model_spectra/rrmods_all/625030m10.smo',\n",
       " 'model_spectra/rrmods_all/625030m15.smo',\n",
       " 'model_spectra/rrmods_all/625030m20.smo',\n",
       " 'model_spectra/rrmods_all/625030m25.smo',\n",
       " 'model_spectra/rrmods_all/625030m30.smo',\n",
       " 'model_spectra/rrmods_all/625030p00.smo',\n",
       " 'model_spectra/rrmods_all/625030p02.smo',\n",
       " 'model_spectra/rrmods_all/650020m05.smo',\n",
       " 'model_spectra/rrmods_all/650020m10.smo',\n",
       " 'model_spectra/rrmods_all/650020m15.smo',\n",
       " 'model_spectra/rrmods_all/650020m20.smo',\n",
       " 'model_spectra/rrmods_all/650020m25.smo',\n",
       " 'model_spectra/rrmods_all/650020m30.smo',\n",
       " 'model_spectra/rrmods_all/650020p00.smo',\n",
       " 'model_spectra/rrmods_all/650020p02.smo',\n",
       " 'model_spectra/rrmods_all/650025m05.smo',\n",
       " 'model_spectra/rrmods_all/650025m10.smo',\n",
       " 'model_spectra/rrmods_all/650025m15.smo',\n",
       " 'model_spectra/rrmods_all/650025m20.smo',\n",
       " 'model_spectra/rrmods_all/650025m25.smo',\n",
       " 'model_spectra/rrmods_all/650025m30.smo',\n",
       " 'model_spectra/rrmods_all/650025p00.smo',\n",
       " 'model_spectra/rrmods_all/650025p02.smo',\n",
       " 'model_spectra/rrmods_all/650030m05.smo',\n",
       " 'model_spectra/rrmods_all/650030m10.smo',\n",
       " 'model_spectra/rrmods_all/650030m15.smo',\n",
       " 'model_spectra/rrmods_all/650030m20.smo',\n",
       " 'model_spectra/rrmods_all/650030m25.smo',\n",
       " 'model_spectra/rrmods_all/650030m30.smo',\n",
       " 'model_spectra/rrmods_all/650030p00.smo',\n",
       " 'model_spectra/rrmods_all/650030p02.smo',\n",
       " 'model_spectra/rrmods_all/675020m05.smo',\n",
       " 'model_spectra/rrmods_all/675020m10.smo',\n",
       " 'model_spectra/rrmods_all/675020m15.smo',\n",
       " 'model_spectra/rrmods_all/675020m20.smo',\n",
       " 'model_spectra/rrmods_all/675020m25.smo',\n",
       " 'model_spectra/rrmods_all/675020m30.smo',\n",
       " 'model_spectra/rrmods_all/675020p00.smo',\n",
       " 'model_spectra/rrmods_all/675020p02.smo',\n",
       " 'model_spectra/rrmods_all/675025m05.smo',\n",
       " 'model_spectra/rrmods_all/675025m10.smo',\n",
       " 'model_spectra/rrmods_all/675025m15.smo',\n",
       " 'model_spectra/rrmods_all/675025m20.smo',\n",
       " 'model_spectra/rrmods_all/675025m25.smo',\n",
       " 'model_spectra/rrmods_all/675025m30.smo',\n",
       " 'model_spectra/rrmods_all/675025p00.smo',\n",
       " 'model_spectra/rrmods_all/675025p02.smo',\n",
       " 'model_spectra/rrmods_all/675030m05.smo',\n",
       " 'model_spectra/rrmods_all/675030m10.smo',\n",
       " 'model_spectra/rrmods_all/675030m15.smo',\n",
       " 'model_spectra/rrmods_all/675030m20.smo',\n",
       " 'model_spectra/rrmods_all/675030m25.smo',\n",
       " 'model_spectra/rrmods_all/675030m30.smo',\n",
       " 'model_spectra/rrmods_all/675030p00.smo',\n",
       " 'model_spectra/rrmods_all/675030p02.smo',\n",
       " 'model_spectra/rrmods_all/700020m05.smo',\n",
       " 'model_spectra/rrmods_all/700020m10.smo',\n",
       " 'model_spectra/rrmods_all/700020m15.smo',\n",
       " 'model_spectra/rrmods_all/700020m20.smo',\n",
       " 'model_spectra/rrmods_all/700020m25.smo',\n",
       " 'model_spectra/rrmods_all/700020m30.smo',\n",
       " 'model_spectra/rrmods_all/700020p00.smo',\n",
       " 'model_spectra/rrmods_all/700020p02.smo',\n",
       " 'model_spectra/rrmods_all/700025m05.smo',\n",
       " 'model_spectra/rrmods_all/700025m10.smo',\n",
       " 'model_spectra/rrmods_all/700025m15.smo',\n",
       " 'model_spectra/rrmods_all/700025m20.smo',\n",
       " 'model_spectra/rrmods_all/700025m25.smo',\n",
       " 'model_spectra/rrmods_all/700025m30.smo',\n",
       " 'model_spectra/rrmods_all/700025p00.smo',\n",
       " 'model_spectra/rrmods_all/700025p02.smo',\n",
       " 'model_spectra/rrmods_all/700030m05.smo',\n",
       " 'model_spectra/rrmods_all/700030m10.smo',\n",
       " 'model_spectra/rrmods_all/700030m15.smo',\n",
       " 'model_spectra/rrmods_all/700030m20.smo',\n",
       " 'model_spectra/rrmods_all/700030m25.smo',\n",
       " 'model_spectra/rrmods_all/700030m30.smo',\n",
       " 'model_spectra/rrmods_all/700030p00.smo',\n",
       " 'model_spectra/rrmods_all/700030p02.smo',\n",
       " 'model_spectra/rrmods_all/725020m05.smo',\n",
       " 'model_spectra/rrmods_all/725020m10.smo',\n",
       " 'model_spectra/rrmods_all/725020m15.smo',\n",
       " 'model_spectra/rrmods_all/725020m20.smo',\n",
       " 'model_spectra/rrmods_all/725020m25.smo',\n",
       " 'model_spectra/rrmods_all/725020m30.smo',\n",
       " 'model_spectra/rrmods_all/725020p00.smo',\n",
       " 'model_spectra/rrmods_all/725020p02.smo',\n",
       " 'model_spectra/rrmods_all/725025m05.smo',\n",
       " 'model_spectra/rrmods_all/725025m10.smo',\n",
       " 'model_spectra/rrmods_all/725025m15.smo',\n",
       " 'model_spectra/rrmods_all/725025m20.smo',\n",
       " 'model_spectra/rrmods_all/725025m25.smo',\n",
       " 'model_spectra/rrmods_all/725025m30.smo',\n",
       " 'model_spectra/rrmods_all/725025p00.smo',\n",
       " 'model_spectra/rrmods_all/725025p02.smo',\n",
       " 'model_spectra/rrmods_all/725030m05.smo',\n",
       " 'model_spectra/rrmods_all/725030m10.smo',\n",
       " 'model_spectra/rrmods_all/725030m15.smo',\n",
       " 'model_spectra/rrmods_all/725030m20.smo',\n",
       " 'model_spectra/rrmods_all/725030m25.smo',\n",
       " 'model_spectra/rrmods_all/725030m30.smo',\n",
       " 'model_spectra/rrmods_all/725030p00.smo',\n",
       " 'model_spectra/rrmods_all/725030p02.smo',\n",
       " 'model_spectra/rrmods_all/750020m05.smo',\n",
       " 'model_spectra/rrmods_all/750020m10.smo',\n",
       " 'model_spectra/rrmods_all/750020m15.smo',\n",
       " 'model_spectra/rrmods_all/750020m20.smo',\n",
       " 'model_spectra/rrmods_all/750020m25.smo',\n",
       " 'model_spectra/rrmods_all/750020m30.smo',\n",
       " 'model_spectra/rrmods_all/750020p00.smo',\n",
       " 'model_spectra/rrmods_all/750020p02.smo',\n",
       " 'model_spectra/rrmods_all/750025m05.smo',\n",
       " 'model_spectra/rrmods_all/750025m10.smo',\n",
       " 'model_spectra/rrmods_all/750025m15.smo',\n",
       " 'model_spectra/rrmods_all/750025m20.smo',\n",
       " 'model_spectra/rrmods_all/750025m25.smo',\n",
       " 'model_spectra/rrmods_all/750025m30.smo',\n",
       " 'model_spectra/rrmods_all/750025p00.smo',\n",
       " 'model_spectra/rrmods_all/750025p02.smo',\n",
       " 'model_spectra/rrmods_all/750030m05.smo',\n",
       " 'model_spectra/rrmods_all/750030m10.smo',\n",
       " 'model_spectra/rrmods_all/750030m15.smo',\n",
       " 'model_spectra/rrmods_all/750030m20.smo',\n",
       " 'model_spectra/rrmods_all/750030m25.smo',\n",
       " 'model_spectra/rrmods_all/750030m30.smo',\n",
       " 'model_spectra/rrmods_all/750030p00.smo',\n",
       " 'model_spectra/rrmods_all/750030p02.smo',\n",
       " 'model_spectra/rrmods_all/775020m05.smo',\n",
       " 'model_spectra/rrmods_all/775020m10.smo',\n",
       " 'model_spectra/rrmods_all/775020m15.smo',\n",
       " 'model_spectra/rrmods_all/775020m20.smo',\n",
       " 'model_spectra/rrmods_all/775020m25.smo',\n",
       " 'model_spectra/rrmods_all/775020m30.smo',\n",
       " 'model_spectra/rrmods_all/775020p00.smo',\n",
       " 'model_spectra/rrmods_all/775020p02.smo',\n",
       " 'model_spectra/rrmods_all/775025m05.smo',\n",
       " 'model_spectra/rrmods_all/775025m10.smo',\n",
       " 'model_spectra/rrmods_all/775025m15.smo',\n",
       " 'model_spectra/rrmods_all/775025m20.smo',\n",
       " 'model_spectra/rrmods_all/775025m25.smo',\n",
       " 'model_spectra/rrmods_all/775025m30.smo',\n",
       " 'model_spectra/rrmods_all/775025p00.smo',\n",
       " 'model_spectra/rrmods_all/775025p02.smo',\n",
       " 'model_spectra/rrmods_all/775030m05.smo',\n",
       " 'model_spectra/rrmods_all/775030m10.smo',\n",
       " 'model_spectra/rrmods_all/775030m15.smo',\n",
       " 'model_spectra/rrmods_all/775030m20.smo',\n",
       " 'model_spectra/rrmods_all/775030m25.smo',\n",
       " 'model_spectra/rrmods_all/775030m30.smo',\n",
       " 'model_spectra/rrmods_all/775030p00.smo',\n",
       " 'model_spectra/rrmods_all/775030p02.smo']"
      ]
     },
     "execution_count": 6,
     "metadata": {},
     "output_type": "execute_result"
    }
   ],
   "source": [
    "filelist"
   ]
  },
  {
   "cell_type": "code",
   "execution_count": 28,
   "metadata": {
    "collapsed": false
   },
   "outputs": [
    {
     "name": "stderr",
     "output_type": "stream",
     "text": [
      "/Users/nyumbani/anaconda3/lib/python3.5/site-packages/ipykernel_launcher.py:2: ParserWarning: Falling back to the 'python' engine because the 'c' engine does not support regex separators (separators > 1 char and different from '\\s+' are interpreted as regex); you can avoid this warning by specifying engine='python'.\n",
      "  \n"
     ]
    }
   ],
   "source": [
    "for i in range(0,len(filelist)):\n",
    "    df = pd.read_csv(filelist[i], delimiter = \"  \", names=[\"wavel\",\"flux\"])\n",
    "    df[\"error\"] = np.sqrt(df[\"flux\"])\n",
    "    df.to_csv(filelist[i], sep=\" \", index=False, header=False)"
   ]
  }
 ],
 "metadata": {
  "kernelspec": {
   "display_name": "Python 3",
   "language": "python",
   "name": "python3"
  },
  "language_info": {
   "codemirror_mode": {
    "name": "ipython",
    "version": 3
   },
   "file_extension": ".py",
   "mimetype": "text/x-python",
   "name": "python",
   "nbconvert_exporter": "python",
   "pygments_lexer": "ipython3",
   "version": "3.5.4"
  }
 },
 "nbformat": 4,
 "nbformat_minor": 0
}
