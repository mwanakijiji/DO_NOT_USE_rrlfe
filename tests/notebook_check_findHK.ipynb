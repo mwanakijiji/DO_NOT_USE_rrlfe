{
 "cells": [
  {
   "cell_type": "code",
   "execution_count": 1,
   "metadata": {
    "collapsed": true
   },
   "outputs": [],
   "source": [
    "# This reads in some fake scraped data and produces final data to plot,\n",
    "# as a check on the class findHK()\n",
    "\n",
    "# This should be used in conjunction with test_scrape_ew_and_errew.py\n",
    "\n",
    "# Created 2019 Apr 13 by E.S."
   ]
  },
  {
   "cell_type": "code",
   "execution_count": 1,
   "metadata": {
    "collapsed": false
   },
   "outputs": [],
   "source": [
    "import numpy as np\n",
    "import pandas as pd\n",
    "import configparser\n",
    "import matplotlib.pyplot as plt"
   ]
  },
  {
   "cell_type": "code",
   "execution_count": 2,
   "metadata": {
    "collapsed": true
   },
   "outputs": [],
   "source": [
    "from rrlyrae_metallicity.modules2 import *"
   ]
  },
  {
   "cell_type": "code",
   "execution_count": 3,
   "metadata": {
    "collapsed": false
   },
   "outputs": [
    {
     "data": {
      "text/plain": [
       "['../rrlyrae_metallicity/modules2/config.ini']"
      ]
     },
     "execution_count": 3,
     "metadata": {},
     "output_type": "execute_result"
    }
   ],
   "source": [
    "# configuration data\n",
    "config = configparser.ConfigParser() # for parsing values in .init file\n",
    "config.read(\"../rrlyrae_metallicity/modules2/config.ini\")"
   ]
  },
  {
   "cell_type": "code",
   "execution_count": 4,
   "metadata": {
    "collapsed": false
   },
   "outputs": [],
   "source": [
    "# fake EW data (note this is with the fake 'bad' data removed)\n",
    "\n",
    "scraped_EW_filename = config[\"data_dirs\"][\"TEST_DIR_ROBO_OUTPUT\"] + config[\"file_names\"][\"MCD_LARGE_BAD_REMOVED\"]\n",
    "data = pd.read_csv(scraped_EW_filename)\n",
    "\n",
    "fake_phases_filename = config[\"data_dirs\"][\"TEST_DIR_SRC\"] + config[\"file_names\"][\"DETACHED_PHASES\"]\n",
    "phases = pd.read_csv(fake_phases_filename)"
   ]
  },
  {
   "cell_type": "code",
   "execution_count": 5,
   "metadata": {
    "collapsed": false
   },
   "outputs": [],
   "source": [
    "# append list of star names \n",
    "\n",
    "# first reproduce the spectrum names\n",
    "data[\"star_name\"] = data[\"empir_spec_name\"]\n",
    "\n",
    "for p in range(0,len(data[\"star_name\"])):\n",
    "    data.loc[p,[\"star_name\"]] = str(data[\"star_name\"][p])[0:-3]"
   ]
  },
  {
   "cell_type": "code",
   "execution_count": 6,
   "metadata": {
    "collapsed": false
   },
   "outputs": [],
   "source": [
    "# get the unique, 'good' spectrum names \n",
    "\n",
    "unique_good_empir_spec_names = data[\"empir_spec_name\"].drop_duplicates().dropna().reset_index(drop=True) "
   ]
  },
  {
   "cell_type": "code",
   "execution_count": 7,
   "metadata": {
    "collapsed": true
   },
   "outputs": [],
   "source": [
    "# get the unique star names \n",
    "\n",
    "unique_star_names = data.dropna().drop_duplicates(subset=[\"star_name\"])[\"star_name\"].values"
   ]
  },
  {
   "cell_type": "code",
   "execution_count": 8,
   "metadata": {
    "collapsed": false
   },
   "outputs": [],
   "source": [
    "# separate the data by absorption line\n",
    "\n",
    "data_Heps = data.where(data[\"line_name\"] == \"Heps\").dropna().reset_index(drop=True) \n",
    "data_Hdel = data.where(data[\"line_name\"] == \"Hdel\").dropna().reset_index(drop=True) \n",
    "data_Hgam = data.where(data[\"line_name\"] == \"Hgam\").dropna().reset_index(drop=True) \n",
    "data_Hbet = data.where(data[\"line_name\"] == \"Hbet\").dropna().reset_index(drop=True) \n",
    "data_CaIIK = data.where(data[\"line_name\"] == \"CaIIK\").dropna().reset_index(drop=True) "
   ]
  },
  {
   "cell_type": "code",
   "execution_count": 9,
   "metadata": {
    "collapsed": false
   },
   "outputs": [],
   "source": [
    "# fit line to Hgamma (y) vs Hdelta (x)\n",
    "\n",
    "m, b = np.polyfit(data_Hdel[\"EQW\"], data_Hgam[\"EQW\"], 1)"
   ]
  },
  {
   "cell_type": "code",
   "execution_count": 10,
   "metadata": {
    "collapsed": true
   },
   "outputs": [],
   "source": [
    "# initialize the dataframe which will hold the data to plot\n",
    "# (each row in this dataframe will represent one synthetic spectrum)\n",
    "\n",
    "KH_synthetic_data = pd.DataFrame()"
   ]
  },
  {
   "cell_type": "code",
   "execution_count": 11,
   "metadata": {
    "collapsed": false
   },
   "outputs": [],
   "source": [
    "# make rescaled Hgamma: Hgamma’ = (Hgamma - b)/m\n",
    "# ... and be sure to associate an empirical spectrum name with each\n",
    "\n",
    "# note this procedure is blind to phase value\n",
    "\n",
    "KH_synthetic_data[\"rHgam\"] = np.divide(np.subtract(data_Hgam[\"EQW\"],b),m)\n",
    "KH_synthetic_data[\"empir_spec_name\"] = data_Hgam[\"empir_spec_name\"]\n",
    "KH_synthetic_data[\"synth_spec_name\"] = data_Hgam[\"synth_spec_name\"]"
   ]
  },
  {
   "cell_type": "code",
   "execution_count": 12,
   "metadata": {
    "collapsed": false
   },
   "outputs": [
    {
     "data": {
      "image/png": "[encoded data removed]",
      "text/plain": [
       "<Figure size 432x288 with 1 Axes>"
      ]
     },
     "metadata": {
      "needs_background": "light"
     },
     "output_type": "display_data"
    }
   ],
   "source": [
    "# plot Hgamma vs Hdelta before and after rescaling,\n",
    "# for all synthetic spectra\n",
    "\n",
    "# empirical data and best-fit\n",
    "plt.scatter(data_Hdel[\"EQW\"], data_Hgam[\"EQW\"], color=\"blue\")\n",
    "plt.plot(data_Hdel[\"EQW\"], np.add(np.multiply(m,data_Hdel[\"EQW\"]),b), linestyle=\"--\")\n",
    "\n",
    "# rescaled data to better fit the 1-to-1 line\n",
    "plt.scatter(data_Hdel[\"EQW\"], KH_synthetic_data[\"rHgam\"], marker=\"o\", color=\"orange\", alpha=0.3)\n",
    "plt.plot([4000,5000], [4000,5000], linestyle=\":\", color=\"k\") # 1-to-1\n",
    "\n",
    "plt.xlabel(\"Hdelta\")\n",
    "plt.ylabel(\"Hgamma\")\n",
    "plt.title(\"m = \" + str(m) + \", b = \" + str(b) + \"\\n(light-colored markers: rescaled Hgamma)\\n\" + \\\n",
    "          \"(note that this includes spectra of ALL phase values)\")\n",
    "plt.show()"
   ]
  },
  {
   "cell_type": "code",
   "execution_count": 13,
   "metadata": {
    "collapsed": false
   },
   "outputs": [],
   "source": [
    "# plug in the CaIIK data\n",
    "\n",
    "# initialize\n",
    "KH_synthetic_data[\"CaIIK\"] = np.nan*KH_synthetic_data[\"rHgam\"]\n",
    "KH_synthetic_data[\"Hdel\"] = np.nan*KH_synthetic_data[\"rHgam\"]\n",
    "KH_synthetic_data[\"Hgam\"] = np.nan*KH_synthetic_data[\"rHgam\"]\n",
    "\n",
    "# loop over synthetic spectra names and pick out the data for the other lines\n",
    "for p in range(0,len(KH_synthetic_data[\"CaIIK\"])):\n",
    "    caiik_here = np.copy(data_CaIIK[\"EQW\"].where(\n",
    "        data_CaIIK[\"synth_spec_name\"] == KH_synthetic_data[\"synth_spec_name\"].loc[p]).dropna().values)\n",
    "    Hdel_here = np.copy(data_Hdel[\"EQW\"].where(\n",
    "        data_Hdel[\"synth_spec_name\"] == KH_synthetic_data[\"synth_spec_name\"].loc[p]).dropna().values)\n",
    "    Hgam_here = np.copy(data_Hgam[\"EQW\"].where(\n",
    "        data_Hgam[\"synth_spec_name\"] == KH_synthetic_data[\"synth_spec_name\"].loc[p]).dropna().values)\n",
    "    KH_synthetic_data.loc[p, [\"CaIIK\"]] = caiik_here # note the .loc syntax here to avoid operating on a copy\n",
    "    KH_synthetic_data.loc[p, [\"Hdel\"]] = Hdel_here \n",
    "    KH_synthetic_data.loc[p, [\"Hgam\"]] = Hgam_here "
   ]
  },
  {
   "cell_type": "code",
   "execution_count": 14,
   "metadata": {
    "collapsed": false
   },
   "outputs": [],
   "source": [
    "# calculate a net Balmer line: average between Hdel and re-scaled Hgam\n",
    "\n",
    "KH_synthetic_data[\"Balmer\"] = np.mean([KH_synthetic_data[\"rHgam\"].values,KH_synthetic_data[\"Hdel\"].values], axis=0)"
   ]
  },
  {
   "cell_type": "code",
   "execution_count": 15,
   "metadata": {
    "collapsed": false
   },
   "outputs": [
    {
     "data": {
      "image/png": "[encoded data removed]",
      "text/plain": [
       "<Figure size 432x288 with 1 Axes>"
      ]
     },
     "metadata": {
      "needs_background": "light"
     },
     "output_type": "display_data"
    }
   ],
   "source": [
    "# plot KH space, plotting all synthetic spectra separately\n",
    "# (note this will not involve error bars)\n",
    "\n",
    "plt.clf()\n",
    "plt.scatter(KH_synthetic_data[\"Balmer\"], KH_synthetic_data[\"CaIIK\"])\n",
    "plt.xlabel(\"Balmer\")\n",
    "plt.ylabel(\"CaIIK\")\n",
    "plt.title(\"KH space, individual synthetic spectra\")\n",
    "plt.show()"
   ]
  },
  {
   "cell_type": "code",
   "execution_count": 16,
   "metadata": {
    "collapsed": false
   },
   "outputs": [],
   "source": [
    "# calculate median points, with error bars, for each empirical spectrum\n",
    "\n",
    "# initialize arrays\n",
    "empir_spec_name_array = []\n",
    "Balmer_array = []\n",
    "CaIIK_array = []\n",
    "err_Balmer_array = []\n",
    "err_CaIIK_array = []\n",
    "phase_array = []\n",
    "\n",
    "# loop over each empirical spectrum\n",
    "for empir_num in range(0,len(unique_good_empir_spec_names)):\n",
    "    \n",
    "    data_for_this_empir_spectrum = KH_synthetic_data.where(\n",
    "        KH_synthetic_data[\"empir_spec_name\"] == np.array(unique_good_empir_spec_names)[empir_num]\n",
    "    )\n",
    "    \n",
    "    empir_spec_name_array = np.concatenate((empir_spec_name_array, [np.array(unique_good_empir_spec_names)[empir_num]]))\n",
    "    Balmer_array = np.concatenate((Balmer_array,[np.nanmedian(data_for_this_empir_spectrum[\"Balmer\"])]))\n",
    "    CaIIK_array = np.concatenate((CaIIK_array,[np.nanmedian(data_for_this_empir_spectrum[\"CaIIK\"])]))\n",
    "    err_Balmer_array = np.concatenate((err_Balmer_array,[np.nanstd(data_for_this_empir_spectrum[\"Balmer\"])]))\n",
    "    err_CaIIK_array = np.concatenate((err_CaIIK_array,[np.nanstd(data_for_this_empir_spectrum[\"CaIIK\"])]))\n",
    "    \n",
    "    phase_here = phases[\"phase\"].where(\n",
    "        phases[\"Spectrum\"] == np.array(unique_good_empir_spec_names)[empir_num]).dropna().values\n",
    "    phase_array = np.concatenate((phase_array,phase_here))\n",
    "    \n",
    "# cobble into a single dataframe ('reduced' because each row corresponds to an empirical spectrum)\n",
    "KH_reduced_data = pd.DataFrame({\"Balmer\":Balmer_array, \n",
    "                                \"CaIIK\":CaIIK_array, \n",
    "                                \"err_Balmer\":err_Balmer_array, \n",
    "                                \"err_CaIIK\":err_CaIIK_array,\n",
    "                                \"empir_spec_name\": empir_spec_name_array,\n",
    "                                \"star_name\": empir_spec_name_array,\n",
    "                                \"phase\": phase_array})\n",
    "\n",
    "# add the star names\n",
    "for p in range(0,len(KH_reduced_data[\"star_name\"])):\n",
    "    KH_reduced_data.loc[p,[\"star_name\"]] = str(KH_reduced_data[\"empir_spec_name\"][p])[0:-3]"
   ]
  },
  {
   "cell_type": "code",
   "execution_count": 17,
   "metadata": {
    "collapsed": false
   },
   "outputs": [],
   "source": [
    "## ## why does this not work in Notebook?\n",
    "#min_good_phase, max_good_phase = phase_regions()"
   ]
  },
  {
   "cell_type": "code",
   "execution_count": 18,
   "metadata": {
    "collapsed": false
   },
   "outputs": [],
   "source": [
    "# EW data with good phases\n",
    "# (is this even necessary?)\n",
    "\n",
    "KH_reduced_data_good_phase = KH_reduced_data.where(np.logical_and(\n",
    "        KH_reduced_data[\"phase\"] > config.getfloat(\"phase\", \"MIN_GOOD\"),\n",
    "        KH_reduced_data[\"phase\"] < config.getfloat(\"phase\", \"MAX_GOOD\"))).dropna()"
   ]
  },
  {
   "cell_type": "code",
   "execution_count": 19,
   "metadata": {
    "collapsed": false
   },
   "outputs": [],
   "source": [
    "# EW data with bad phases\n",
    "# (is this even necessary?)\n",
    "\n",
    "KH_reduced_data_bad_phase = KH_reduced_data.where(np.logical_or(\n",
    "        KH_reduced_data[\"phase\"] < config.getfloat(\"phase\", \"MIN_GOOD\"),\n",
    "        KH_reduced_data[\"phase\"] > config.getfloat(\"phase\", \"MAX_GOOD\"))).dropna()"
   ]
  },
  {
   "cell_type": "code",
   "execution_count": 20,
   "metadata": {
    "collapsed": true
   },
   "outputs": [],
   "source": [
    "# initialize a dataframe for writing results out to a file which will be read in by test_scrape_ew_and_errew.py\n",
    "\n",
    "# use the below line to generate a Pytest 'assert == False'; otherwise, keep it commented out\n",
    "#KH_reduced_data[\"Balmer\"] = np.add(KH_reduced_data[\"Balmer\"],0.3)\n",
    "\n",
    "# write out\n",
    "KH_reduced_data.to_csv(config[\"data_dirs\"][\"TEST_DIR_ROBO_OUTPUT\"] + \"output_notebook_check_findHK.csv\")"
   ]
  },
  {
   "cell_type": "code",
   "execution_count": 21,
   "metadata": {
    "collapsed": false
   },
   "outputs": [
    {
     "name": "stdout",
     "output_type": "stream",
     "text": [
      "0    all_good\n",
      "1    all_good\n",
      "Name: star_name, dtype: object\n",
      "------------\n",
      "Balmer EW:\n",
      "0    4598.373193\n",
      "1    3840.101547\n",
      "Name: Balmer, dtype: float64\n",
      "err Balmer EW:\n",
      "0    110.948975\n",
      "1     34.807344\n",
      "Name: err_Balmer, dtype: float64\n",
      "CaIIK EW:\n",
      "0    8426.0\n",
      "1    7885.5\n",
      "Name: CaIIK, dtype: float64\n",
      "err CaIIK EW:\n",
      "0    93.218493\n",
      "1    72.105392\n",
      "Name: err_CaIIK, dtype: float64\n",
      "2    bad_hbeta_wavel\n",
      "Name: star_name, dtype: object\n",
      "------------\n",
      "Balmer EW:\n",
      "2    3715.155102\n",
      "Name: Balmer, dtype: float64\n",
      "err Balmer EW:\n",
      "2    0.0\n",
      "Name: err_Balmer, dtype: float64\n",
      "CaIIK EW:\n",
      "2    4140.0\n",
      "Name: CaIIK, dtype: float64\n",
      "err CaIIK EW:\n",
      "2    0.0\n",
      "Name: err_CaIIK, dtype: float64\n",
      "3    fit_center_flag\n",
      "Name: star_name, dtype: object\n",
      "------------\n",
      "Balmer EW:\n",
      "3    3854.697394\n",
      "Name: Balmer, dtype: float64\n",
      "err Balmer EW:\n",
      "3    0.0\n",
      "Name: err_Balmer, dtype: float64\n",
      "CaIIK EW:\n",
      "3    7896.0\n",
      "Name: CaIIK, dtype: float64\n",
      "err CaIIK EW:\n",
      "3    0.0\n",
      "Name: err_CaIIK, dtype: float64\n"
     ]
    },
    {
     "data": {
      "image/png": "[encoded data removed]",
      "text/plain": [
       "<Figure size 432x288 with 1 Axes>"
      ]
     },
     "metadata": {
      "needs_background": "light"
     },
     "output_type": "display_data"
    }
   ],
   "source": [
    "# plot KH space\n",
    "\n",
    "colors = ['red', 'blue', 'orange', 'teal', 'black', 'green', 'purple']*10\n",
    "markers = ['o', '^', '>', 's', '<']*10\n",
    "cmap = plt.get_cmap(name='jet')\n",
    "\n",
    "# loop over each star\n",
    "for star_num in range(0,len(unique_star_names)):\n",
    "    \n",
    "    # get data on all the empirical spectra for this star\n",
    "    data_this_star = KH_reduced_data.where(KH_reduced_data[\"star_name\"] == unique_star_names[star_num]).dropna()\n",
    "    \n",
    "    print(data_this_star[\"star_name\"])\n",
    "    \n",
    "    color_this_star = cmap(float(star_num)/len(unique_star_names))\n",
    "    \n",
    "    print(\"------------\")\n",
    "    print(\"Balmer EW:\")\n",
    "    print(data_this_star[\"Balmer\"])\n",
    "    print(\"err Balmer EW:\")\n",
    "    print(data_this_star[\"err_Balmer\"])\n",
    "    print(\"CaIIK EW:\")\n",
    "    print(data_this_star[\"CaIIK\"])\n",
    "    print(\"err CaIIK EW:\")\n",
    "    print(data_this_star[\"err_CaIIK\"])\n",
    "    plt.errorbar(data_this_star[\"Balmer\"],data_this_star[\"CaIIK\"],\n",
    "                 xerr=data_this_star[\"err_Balmer\"],yerr=data_this_star[\"err_CaIIK\"],\n",
    "                 linestyle='',fmt=markers[star_num],markerfacecolor=colors[star_num],color=colors[star_num])\n",
    "    \n",
    "    # overplot empty markers if phase region is bad\n",
    "    bad_phase_regs = data_this_star[\n",
    "        np.logical_or(data_this_star[\"phase\"] < config.getfloat(\"phase\", \"MIN_GOOD\"),\n",
    "                      data_this_star[\"phase\"] > config.getfloat(\"phase\", \"MAX_GOOD\"))\n",
    "    ]\n",
    "    plt.errorbar(bad_phase_regs[\"Balmer\"],bad_phase_regs[\"CaIIK\"],\n",
    "                 linestyle='',fmt=markers[star_num],markerfacecolor=\"white\",color=colors[star_num])\n",
    "\n",
    "    #plt.annotate(unique_star_names[star_num], xy=(data_this_star[\"Balmer\"],data_this_star[\"CaIIK\"]))\n",
    "    \n",
    "plt.ylabel(\"CaIIK EW\")\n",
    "plt.xlabel(\"Balmer EW\")\n",
    "plt.savefig(\"check_KH_plot.pdf\")\n",
    "#plt.show()"
   ]
  }
 ],
 "metadata": {
  "kernelspec": {
   "display_name": "Python 3",
   "language": "python",
   "name": "python3"
  },
  "language_info": {
   "codemirror_mode": {
    "name": "ipython",
    "version": 3
   },
   "file_extension": ".py",
   "mimetype": "text/x-python",
   "name": "python",
   "nbconvert_exporter": "python",
   "pygments_lexer": "ipython3",
   "version": "3.5.4"
  }
 },
 "nbformat": 4,
 "nbformat_minor": 0
}
