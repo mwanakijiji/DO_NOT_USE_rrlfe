{
 "cells": [
  {
   "cell_type": "code",
   "execution_count": null,
   "metadata": {
    "collapsed": true
   },
   "outputs": [],
   "source": [
    "# This reads in some scraped data and produces final data to plot,\n",
    "# as a check on the class findHK()\n",
    "\n",
    "# This should be used in conjunction with test_scrape_ew_and_errew.py\n",
    "\n",
    "# Created 2019 Apr 13 by E.S."
   ]
  },
  {
   "cell_type": "code",
   "execution_count": 48,
   "metadata": {
    "collapsed": true
   },
   "outputs": [],
   "source": [
    "import numpy as np\n",
    "import pandas as pd\n",
    "import configparser\n",
    "import matplotlib.pyplot as plt"
   ]
  },
  {
   "cell_type": "code",
   "execution_count": 17,
   "metadata": {
    "collapsed": false
   },
   "outputs": [
    {
     "data": {
      "text/plain": [
       "['../rrlyrae_metallicity/modules2/config.ini']"
      ]
     },
     "execution_count": 17,
     "metadata": {},
     "output_type": "execute_result"
    }
   ],
   "source": [
    "# configuration data\n",
    "config = configparser.ConfigParser() # for parsing values in .init file\n",
    "config.read(\"../rrlyrae_metallicity/modules2/config.ini\")"
   ]
  },
  {
   "cell_type": "code",
   "execution_count": 9,
   "metadata": {
    "collapsed": false
   },
   "outputs": [],
   "source": [
    "stem = (\"/Users/nyumbani/Documents/git.repos/rrlyrae_metallicity/\"+\\\n",
    "    \"rrlyrae_metallicity/tests/test_robospect_output\")"
   ]
  },
  {
   "cell_type": "code",
   "execution_count": 19,
   "metadata": {
    "collapsed": false
   },
   "outputs": [],
   "source": [
    "# fake EW data (note this is with the fake 'bad' data removed)\n",
    "\n",
    "scraped_EW_filename = config[\"data_dirs\"][\"TEST_DIR_ROBO_OUTPUT\"] + config[\"file_names\"][\"MCD_LARGE_BAD_REMOVED\"]"
   ]
  },
  {
   "cell_type": "code",
   "execution_count": 22,
   "metadata": {
    "collapsed": true
   },
   "outputs": [],
   "source": [
    "data = pd.read_csv(scraped_EW_filename)"
   ]
  },
  {
   "cell_type": "code",
   "execution_count": 27,
   "metadata": {
    "collapsed": false
   },
   "outputs": [],
   "source": [
    "# get the unique, 'good' spectrum names \n",
    "\n",
    "unique_good_empir_spec_names = data[\"empir_spec_name\"].drop_duplicates().dropna().reset_index(drop=True) "
   ]
  },
  {
   "cell_type": "code",
   "execution_count": 28,
   "metadata": {
    "collapsed": false
   },
   "outputs": [
    {
     "data": {
      "text/plain": [
       "0           all_good_01\n",
       "1           all_good_02\n",
       "2    bad_hbeta_wavel_99\n",
       "3    fit_center_flag_99\n",
       "Name: empir_spec_name, dtype: object"
      ]
     },
     "execution_count": 28,
     "metadata": {},
     "output_type": "execute_result"
    }
   ],
   "source": [
    "# print\n",
    "\n",
    "unique_good_empir_spec_names"
   ]
  },
  {
   "cell_type": "code",
   "execution_count": 39,
   "metadata": {
    "collapsed": false
   },
   "outputs": [],
   "source": [
    "# separate the data by absorption line\n",
    "\n",
    "data_Heps = data.where(data[\"line_name\"] == \"Heps\").dropna().reset_index(drop=True) \n",
    "data_Hdel = data.where(data[\"line_name\"] == \"Hdel\").dropna().reset_index(drop=True) \n",
    "data_Hgam = data.where(data[\"line_name\"] == \"Hgam\").dropna().reset_index(drop=True) \n",
    "data_Hbet = data.where(data[\"line_name\"] == \"Hbet\").dropna().reset_index(drop=True) \n",
    "data_CaIIK = data.where(data[\"line_name\"] == \"CaIIK\").dropna().reset_index(drop=True) "
   ]
  },
  {
   "cell_type": "code",
   "execution_count": 44,
   "metadata": {
    "collapsed": false
   },
   "outputs": [
    {
     "data": {
      "text/html": [
       "<div>\n",
       "<style scoped>\n",
       "    .dataframe tbody tr th:only-of-type {\n",
       "        vertical-align: middle;\n",
       "    }\n",
       "\n",
       "    .dataframe tbody tr th {\n",
       "        vertical-align: top;\n",
       "    }\n",
       "\n",
       "    .dataframe thead th {\n",
       "        text-align: right;\n",
       "    }\n",
       "</style>\n",
       "<table border=\"1\" class=\"dataframe\">\n",
       "  <thead>\n",
       "    <tr style=\"text-align: right;\">\n",
       "      <th></th>\n",
       "      <th>Unnamed: 0</th>\n",
       "      <th>#x0</th>\n",
       "      <th>mean</th>\n",
       "      <th>sigma</th>\n",
       "      <th>flux</th>\n",
       "      <th>eta</th>\n",
       "      <th>dmean</th>\n",
       "      <th>dsigma</th>\n",
       "      <th>dflux</th>\n",
       "      <th>deta</th>\n",
       "      <th>...</th>\n",
       "      <th>FWHM_F</th>\n",
       "      <th>EQW</th>\n",
       "      <th>dEQW</th>\n",
       "      <th>chi</th>\n",
       "      <th>flags</th>\n",
       "      <th>group</th>\n",
       "      <th>file_name</th>\n",
       "      <th>synth_spec_name</th>\n",
       "      <th>empir_spec_name</th>\n",
       "      <th>line_name</th>\n",
       "    </tr>\n",
       "  </thead>\n",
       "  <tbody>\n",
       "    <tr>\n",
       "      <th>0</th>\n",
       "      <td>4.0</td>\n",
       "      <td>4861.29</td>\n",
       "      <td>4860.6407</td>\n",
       "      <td>8.2356</td>\n",
       "      <td>-9.1300</td>\n",
       "      <td>0.0</td>\n",
       "      <td>0.2747</td>\n",
       "      <td>0.2057</td>\n",
       "      <td>0.0557</td>\n",
       "      <td>0.0</td>\n",
       "      <td>...</td>\n",
       "      <td>-6.7977</td>\n",
       "      <td>9130.0</td>\n",
       "      <td>55.670</td>\n",
       "      <td>1.3209</td>\n",
       "      <td>0x100000</td>\n",
       "      <td>0.0</td>\n",
       "      <td>all_good_01_004.fits.robolines</td>\n",
       "      <td>all_good_01_004</td>\n",
       "      <td>all_good_01</td>\n",
       "      <td>Hbet</td>\n",
       "    </tr>\n",
       "    <tr>\n",
       "      <th>1</th>\n",
       "      <td>9.0</td>\n",
       "      <td>4861.29</td>\n",
       "      <td>4861.7801</td>\n",
       "      <td>5.6602</td>\n",
       "      <td>-7.3202</td>\n",
       "      <td>0.0</td>\n",
       "      <td>0.0237</td>\n",
       "      <td>0.0180</td>\n",
       "      <td>0.0058</td>\n",
       "      <td>0.0</td>\n",
       "      <td>...</td>\n",
       "      <td>-5.8720</td>\n",
       "      <td>7320.0</td>\n",
       "      <td>5.781</td>\n",
       "      <td>0.7822</td>\n",
       "      <td>0x100000</td>\n",
       "      <td>0.0</td>\n",
       "      <td>all_good_01_066.fits.robolines</td>\n",
       "      <td>all_good_01_066</td>\n",
       "      <td>all_good_01</td>\n",
       "      <td>Hbet</td>\n",
       "    </tr>\n",
       "    <tr>\n",
       "      <th>2</th>\n",
       "      <td>14.0</td>\n",
       "      <td>4861.29</td>\n",
       "      <td>4857.5245</td>\n",
       "      <td>6.1681</td>\n",
       "      <td>-4.8622</td>\n",
       "      <td>0.0</td>\n",
       "      <td>0.2689</td>\n",
       "      <td>0.2054</td>\n",
       "      <td>0.0389</td>\n",
       "      <td>0.0</td>\n",
       "      <td>...</td>\n",
       "      <td>-2.2794</td>\n",
       "      <td>4862.0</td>\n",
       "      <td>38.880</td>\n",
       "      <td>1.5551</td>\n",
       "      <td>0x100000</td>\n",
       "      <td>0.0</td>\n",
       "      <td>all_good_01_102.fits.robolines</td>\n",
       "      <td>all_good_01_102</td>\n",
       "      <td>all_good_01</td>\n",
       "      <td>Hbet</td>\n",
       "    </tr>\n",
       "    <tr>\n",
       "      <th>3</th>\n",
       "      <td>19.0</td>\n",
       "      <td>4861.29</td>\n",
       "      <td>4860.2416</td>\n",
       "      <td>4.4429</td>\n",
       "      <td>-3.5125</td>\n",
       "      <td>0.0</td>\n",
       "      <td>0.0569</td>\n",
       "      <td>0.0404</td>\n",
       "      <td>0.0083</td>\n",
       "      <td>0.0</td>\n",
       "      <td>...</td>\n",
       "      <td>-2.7795</td>\n",
       "      <td>3513.0</td>\n",
       "      <td>8.312</td>\n",
       "      <td>1.6961</td>\n",
       "      <td>0x100000</td>\n",
       "      <td>0.0</td>\n",
       "      <td>all_good_01_107.fits.robolines</td>\n",
       "      <td>all_good_01_107</td>\n",
       "      <td>all_good_01</td>\n",
       "      <td>Hbet</td>\n",
       "    </tr>\n",
       "    <tr>\n",
       "      <th>4</th>\n",
       "      <td>24.0</td>\n",
       "      <td>4861.29</td>\n",
       "      <td>4861.3645</td>\n",
       "      <td>2.6207</td>\n",
       "      <td>-3.0776</td>\n",
       "      <td>0.0</td>\n",
       "      <td>0.0986</td>\n",
       "      <td>0.0737</td>\n",
       "      <td>0.0250</td>\n",
       "      <td>0.0</td>\n",
       "      <td>...</td>\n",
       "      <td>-2.4806</td>\n",
       "      <td>3078.0</td>\n",
       "      <td>24.950</td>\n",
       "      <td>1.3925</td>\n",
       "      <td>0x100000</td>\n",
       "      <td>0.0</td>\n",
       "      <td>all_good_02_004.fits.robolines</td>\n",
       "      <td>all_good_02_004</td>\n",
       "      <td>all_good_02</td>\n",
       "      <td>Hbet</td>\n",
       "    </tr>\n",
       "    <tr>\n",
       "      <th>5</th>\n",
       "      <td>29.0</td>\n",
       "      <td>4861.29</td>\n",
       "      <td>4861.9253</td>\n",
       "      <td>6.3915</td>\n",
       "      <td>-5.4727</td>\n",
       "      <td>0.0</td>\n",
       "      <td>0.2165</td>\n",
       "      <td>0.1600</td>\n",
       "      <td>0.0339</td>\n",
       "      <td>0.0</td>\n",
       "      <td>...</td>\n",
       "      <td>-3.5731</td>\n",
       "      <td>5473.0</td>\n",
       "      <td>33.930</td>\n",
       "      <td>1.5161</td>\n",
       "      <td>0x100000</td>\n",
       "      <td>0.0</td>\n",
       "      <td>all_good_02_014.fits.robolines</td>\n",
       "      <td>all_good_02_014</td>\n",
       "      <td>all_good_02</td>\n",
       "      <td>Hbet</td>\n",
       "    </tr>\n",
       "    <tr>\n",
       "      <th>6</th>\n",
       "      <td>34.0</td>\n",
       "      <td>4861.29</td>\n",
       "      <td>4861.4469</td>\n",
       "      <td>7.4885</td>\n",
       "      <td>-8.5589</td>\n",
       "      <td>0.0</td>\n",
       "      <td>0.1894</td>\n",
       "      <td>0.1422</td>\n",
       "      <td>0.0397</td>\n",
       "      <td>0.0</td>\n",
       "      <td>...</td>\n",
       "      <td>-6.8451</td>\n",
       "      <td>8559.0</td>\n",
       "      <td>39.740</td>\n",
       "      <td>1.4080</td>\n",
       "      <td>0x100000</td>\n",
       "      <td>0.0</td>\n",
       "      <td>all_good_02_044.fits.robolines</td>\n",
       "      <td>all_good_02_044</td>\n",
       "      <td>all_good_02</td>\n",
       "      <td>Hbet</td>\n",
       "    </tr>\n",
       "    <tr>\n",
       "      <th>7</th>\n",
       "      <td>39.0</td>\n",
       "      <td>4861.29</td>\n",
       "      <td>4862.1025</td>\n",
       "      <td>3.4133</td>\n",
       "      <td>-3.3565</td>\n",
       "      <td>0.0</td>\n",
       "      <td>0.0285</td>\n",
       "      <td>0.0214</td>\n",
       "      <td>0.0054</td>\n",
       "      <td>0.0</td>\n",
       "      <td>...</td>\n",
       "      <td>-2.5896</td>\n",
       "      <td>3357.0</td>\n",
       "      <td>5.365</td>\n",
       "      <td>1.0335</td>\n",
       "      <td>0x100000</td>\n",
       "      <td>0.0</td>\n",
       "      <td>all_good_02_058.fits.robolines</td>\n",
       "      <td>all_good_02_058</td>\n",
       "      <td>all_good_02</td>\n",
       "      <td>Hbet</td>\n",
       "    </tr>\n",
       "    <tr>\n",
       "      <th>8</th>\n",
       "      <td>44.0</td>\n",
       "      <td>4861.29</td>\n",
       "      <td>4866.1504</td>\n",
       "      <td>12.9699</td>\n",
       "      <td>-8.6292</td>\n",
       "      <td>0.0</td>\n",
       "      <td>1.1737</td>\n",
       "      <td>0.8760</td>\n",
       "      <td>0.1433</td>\n",
       "      <td>0.0</td>\n",
       "      <td>...</td>\n",
       "      <td>-4.1610</td>\n",
       "      <td>8629.0</td>\n",
       "      <td>143.300</td>\n",
       "      <td>1.1328</td>\n",
       "      <td>0x100000</td>\n",
       "      <td>0.0</td>\n",
       "      <td>all_good_02_104.fits.robolines</td>\n",
       "      <td>all_good_02_104</td>\n",
       "      <td>all_good_02</td>\n",
       "      <td>Hbet</td>\n",
       "    </tr>\n",
       "    <tr>\n",
       "      <th>9</th>\n",
       "      <td>49.0</td>\n",
       "      <td>4861.29</td>\n",
       "      <td>4893.1981</td>\n",
       "      <td>4.4166</td>\n",
       "      <td>-3.6246</td>\n",
       "      <td>0.0</td>\n",
       "      <td>0.0595</td>\n",
       "      <td>0.0447</td>\n",
       "      <td>0.0093</td>\n",
       "      <td>0.0</td>\n",
       "      <td>...</td>\n",
       "      <td>-2.8493</td>\n",
       "      <td>3625.0</td>\n",
       "      <td>9.262</td>\n",
       "      <td>0.9182</td>\n",
       "      <td>0x100000</td>\n",
       "      <td>0.0</td>\n",
       "      <td>bad_hbeta_wavel_99_999.fits.robolines</td>\n",
       "      <td>bad_hbeta_wavel_99_999</td>\n",
       "      <td>bad_hbeta_wavel_99</td>\n",
       "      <td>Hbet</td>\n",
       "    </tr>\n",
       "    <tr>\n",
       "      <th>10</th>\n",
       "      <td>54.0</td>\n",
       "      <td>4861.29</td>\n",
       "      <td>4862.5364</td>\n",
       "      <td>8.9982</td>\n",
       "      <td>-6.8157</td>\n",
       "      <td>0.0</td>\n",
       "      <td>0.5818</td>\n",
       "      <td>0.4234</td>\n",
       "      <td>0.0817</td>\n",
       "      <td>0.0</td>\n",
       "      <td>...</td>\n",
       "      <td>-4.0596</td>\n",
       "      <td>6816.0</td>\n",
       "      <td>81.720</td>\n",
       "      <td>1.3523</td>\n",
       "      <td>0x100000</td>\n",
       "      <td>0.0</td>\n",
       "      <td>fit_center_flag_99_999.fits.robolines</td>\n",
       "      <td>fit_center_flag_99_999</td>\n",
       "      <td>fit_center_flag_99</td>\n",
       "      <td>Hbet</td>\n",
       "    </tr>\n",
       "  </tbody>\n",
       "</table>\n",
       "<p>11 rows × 22 columns</p>\n",
       "</div>"
      ],
      "text/plain": [
       "    Unnamed: 0      #x0       mean    sigma    flux  eta   dmean  dsigma  \\\n",
       "0          4.0  4861.29  4860.6407   8.2356 -9.1300  0.0  0.2747  0.2057   \n",
       "1          9.0  4861.29  4861.7801   5.6602 -7.3202  0.0  0.0237  0.0180   \n",
       "2         14.0  4861.29  4857.5245   6.1681 -4.8622  0.0  0.2689  0.2054   \n",
       "3         19.0  4861.29  4860.2416   4.4429 -3.5125  0.0  0.0569  0.0404   \n",
       "4         24.0  4861.29  4861.3645   2.6207 -3.0776  0.0  0.0986  0.0737   \n",
       "5         29.0  4861.29  4861.9253   6.3915 -5.4727  0.0  0.2165  0.1600   \n",
       "6         34.0  4861.29  4861.4469   7.4885 -8.5589  0.0  0.1894  0.1422   \n",
       "7         39.0  4861.29  4862.1025   3.4133 -3.3565  0.0  0.0285  0.0214   \n",
       "8         44.0  4861.29  4866.1504  12.9699 -8.6292  0.0  1.1737  0.8760   \n",
       "9         49.0  4861.29  4893.1981   4.4166 -3.6246  0.0  0.0595  0.0447   \n",
       "10        54.0  4861.29  4862.5364   8.9982 -6.8157  0.0  0.5818  0.4234   \n",
       "\n",
       "     dflux  deta    ...     FWHM_F     EQW     dEQW     chi     flags  group  \\\n",
       "0   0.0557   0.0    ...    -6.7977  9130.0   55.670  1.3209  0x100000    0.0   \n",
       "1   0.0058   0.0    ...    -5.8720  7320.0    5.781  0.7822  0x100000    0.0   \n",
       "2   0.0389   0.0    ...    -2.2794  4862.0   38.880  1.5551  0x100000    0.0   \n",
       "3   0.0083   0.0    ...    -2.7795  3513.0    8.312  1.6961  0x100000    0.0   \n",
       "4   0.0250   0.0    ...    -2.4806  3078.0   24.950  1.3925  0x100000    0.0   \n",
       "5   0.0339   0.0    ...    -3.5731  5473.0   33.930  1.5161  0x100000    0.0   \n",
       "6   0.0397   0.0    ...    -6.8451  8559.0   39.740  1.4080  0x100000    0.0   \n",
       "7   0.0054   0.0    ...    -2.5896  3357.0    5.365  1.0335  0x100000    0.0   \n",
       "8   0.1433   0.0    ...    -4.1610  8629.0  143.300  1.1328  0x100000    0.0   \n",
       "9   0.0093   0.0    ...    -2.8493  3625.0    9.262  0.9182  0x100000    0.0   \n",
       "10  0.0817   0.0    ...    -4.0596  6816.0   81.720  1.3523  0x100000    0.0   \n",
       "\n",
       "                                file_name         synth_spec_name  \\\n",
       "0          all_good_01_004.fits.robolines         all_good_01_004   \n",
       "1          all_good_01_066.fits.robolines         all_good_01_066   \n",
       "2          all_good_01_102.fits.robolines         all_good_01_102   \n",
       "3          all_good_01_107.fits.robolines         all_good_01_107   \n",
       "4          all_good_02_004.fits.robolines         all_good_02_004   \n",
       "5          all_good_02_014.fits.robolines         all_good_02_014   \n",
       "6          all_good_02_044.fits.robolines         all_good_02_044   \n",
       "7          all_good_02_058.fits.robolines         all_good_02_058   \n",
       "8          all_good_02_104.fits.robolines         all_good_02_104   \n",
       "9   bad_hbeta_wavel_99_999.fits.robolines  bad_hbeta_wavel_99_999   \n",
       "10  fit_center_flag_99_999.fits.robolines  fit_center_flag_99_999   \n",
       "\n",
       "       empir_spec_name line_name  \n",
       "0          all_good_01      Hbet  \n",
       "1          all_good_01      Hbet  \n",
       "2          all_good_01      Hbet  \n",
       "3          all_good_01      Hbet  \n",
       "4          all_good_02      Hbet  \n",
       "5          all_good_02      Hbet  \n",
       "6          all_good_02      Hbet  \n",
       "7          all_good_02      Hbet  \n",
       "8          all_good_02      Hbet  \n",
       "9   bad_hbeta_wavel_99      Hbet  \n",
       "10  fit_center_flag_99      Hbet  \n",
       "\n",
       "[11 rows x 22 columns]"
      ]
     },
     "execution_count": 44,
     "metadata": {},
     "output_type": "execute_result"
    }
   ],
   "source": [
    "data_Hbet"
   ]
  },
  {
   "cell_type": "code",
   "execution_count": 45,
   "metadata": {
    "collapsed": false
   },
   "outputs": [],
   "source": [
    "# fit line to Hgamma (y) vs Hdelta (x)\n",
    "\n",
    "m, b = np.polyfit(data_Hdel[\"EQW\"], data_Hgam[\"EQW\"], 1)"
   ]
  },
  {
   "cell_type": "code",
   "execution_count": 66,
   "metadata": {
    "collapsed": false
   },
   "outputs": [],
   "source": [
    "# make rescaled Hgamma: Hgamma’ = (Hgamma - b)/m\n",
    "\n",
    "rHgam_ew = np.divide(np.subtract(data_Hgam[\"EQW\"],b),m)"
   ]
  },
  {
   "cell_type": "code",
   "execution_count": 71,
   "metadata": {
    "collapsed": false
   },
   "outputs": [
    {
     "data": {
      "image/png": "[encoded data removed]",
      "text/plain": [
       "<Figure size 432x288 with 1 Axes>"
      ]
     },
     "metadata": {
      "needs_background": "light"
     },
     "output_type": "display_data"
    }
   ],
   "source": [
    "# plot Hgamma vs Hdelta before and after rescaling\n",
    "\n",
    "plt.scatter(data_Hdel[\"EQW\"], data_Hgam[\"EQW\"])\n",
    "plt.scatter(data_Hdel[\"EQW\"], rHgam_ew, marker=\"o\", alpha=0.5)\n",
    "plt.plot(data_Hdel[\"EQW\"],np.add(np.multiply(m,data_Hdel[\"EQW\"]),b), linestyle=\"--\")\n",
    "plt.plot([4000,9000], [4000,9000], linestyle=\":\", color=\"k\") # 1-to-1\n",
    "plt.xlabel(\"Hdelta\")\n",
    "plt.ylabel(\"Hgamma\")\n",
    "plt.title(\"m = \" + str(m) + \", b = \" + str(b))\n",
    "plt.show()"
   ]
  },
  {
   "cell_type": "code",
   "execution_count": 58,
   "metadata": {
    "collapsed": false
   },
   "outputs": [
    {
     "ename": "KeyError",
     "evalue": "-1",
     "output_type": "error",
     "traceback": [
      "\u001b[0;31m---------------------------------------------------------------------------\u001b[0m",
      "\u001b[0;31mKeyError\u001b[0m                                  Traceback (most recent call last)",
      "\u001b[0;32m<ipython-input-58-f41ded7119e9>\u001b[0m in \u001b[0;36m<module>\u001b[0;34m()\u001b[0m\n\u001b[0;32m----> 1\u001b[0;31m \u001b[0mdata_Hdel\u001b[0m\u001b[0;34m[\u001b[0m\u001b[0;34m\"EQW\"\u001b[0m\u001b[0;34m]\u001b[0m\u001b[0;34m[\u001b[0m\u001b[0;34m-\u001b[0m\u001b[0;36m1\u001b[0m\u001b[0;34m]\u001b[0m\u001b[0;34m\u001b[0m\u001b[0m\n\u001b[0m",
      "\u001b[0;32m/Users/nyumbani/anaconda3/lib/python3.5/site-packages/pandas/core/series.py\u001b[0m in \u001b[0;36m__getitem__\u001b[0;34m(self, key)\u001b[0m\n\u001b[1;32m    765\u001b[0m         \u001b[0mkey\u001b[0m \u001b[0;34m=\u001b[0m \u001b[0mcom\u001b[0m\u001b[0;34m.\u001b[0m\u001b[0m_apply_if_callable\u001b[0m\u001b[0;34m(\u001b[0m\u001b[0mkey\u001b[0m\u001b[0;34m,\u001b[0m \u001b[0mself\u001b[0m\u001b[0;34m)\u001b[0m\u001b[0;34m\u001b[0m\u001b[0m\n\u001b[1;32m    766\u001b[0m         \u001b[0;32mtry\u001b[0m\u001b[0;34m:\u001b[0m\u001b[0;34m\u001b[0m\u001b[0m\n\u001b[0;32m--> 767\u001b[0;31m             \u001b[0mresult\u001b[0m \u001b[0;34m=\u001b[0m \u001b[0mself\u001b[0m\u001b[0;34m.\u001b[0m\u001b[0mindex\u001b[0m\u001b[0;34m.\u001b[0m\u001b[0mget_value\u001b[0m\u001b[0;34m(\u001b[0m\u001b[0mself\u001b[0m\u001b[0;34m,\u001b[0m \u001b[0mkey\u001b[0m\u001b[0;34m)\u001b[0m\u001b[0;34m\u001b[0m\u001b[0m\n\u001b[0m\u001b[1;32m    768\u001b[0m \u001b[0;34m\u001b[0m\u001b[0m\n\u001b[1;32m    769\u001b[0m             \u001b[0;32mif\u001b[0m \u001b[0;32mnot\u001b[0m \u001b[0mis_scalar\u001b[0m\u001b[0;34m(\u001b[0m\u001b[0mresult\u001b[0m\u001b[0;34m)\u001b[0m\u001b[0;34m:\u001b[0m\u001b[0;34m\u001b[0m\u001b[0m\n",
      "\u001b[0;32m/Users/nyumbani/anaconda3/lib/python3.5/site-packages/pandas/core/indexes/base.py\u001b[0m in \u001b[0;36mget_value\u001b[0;34m(self, series, key)\u001b[0m\n\u001b[1;32m   3116\u001b[0m         \u001b[0;32mtry\u001b[0m\u001b[0;34m:\u001b[0m\u001b[0;34m\u001b[0m\u001b[0m\n\u001b[1;32m   3117\u001b[0m             return self._engine.get_value(s, k,\n\u001b[0;32m-> 3118\u001b[0;31m                                           tz=getattr(series.dtype, 'tz', None))\n\u001b[0m\u001b[1;32m   3119\u001b[0m         \u001b[0;32mexcept\u001b[0m \u001b[0mKeyError\u001b[0m \u001b[0;32mas\u001b[0m \u001b[0me1\u001b[0m\u001b[0;34m:\u001b[0m\u001b[0;34m\u001b[0m\u001b[0m\n\u001b[1;32m   3120\u001b[0m             \u001b[0;32mif\u001b[0m \u001b[0mlen\u001b[0m\u001b[0;34m(\u001b[0m\u001b[0mself\u001b[0m\u001b[0;34m)\u001b[0m \u001b[0;34m>\u001b[0m \u001b[0;36m0\u001b[0m \u001b[0;32mand\u001b[0m \u001b[0mself\u001b[0m\u001b[0;34m.\u001b[0m\u001b[0minferred_type\u001b[0m \u001b[0;32min\u001b[0m \u001b[0;34m[\u001b[0m\u001b[0;34m'integer'\u001b[0m\u001b[0;34m,\u001b[0m \u001b[0;34m'boolean'\u001b[0m\u001b[0;34m]\u001b[0m\u001b[0;34m:\u001b[0m\u001b[0;34m\u001b[0m\u001b[0m\n",
      "\u001b[0;32mpandas/_libs/index.pyx\u001b[0m in \u001b[0;36mpandas._libs.index.IndexEngine.get_value\u001b[0;34m()\u001b[0m\n",
      "\u001b[0;32mpandas/_libs/index.pyx\u001b[0m in \u001b[0;36mpandas._libs.index.IndexEngine.get_value\u001b[0;34m()\u001b[0m\n",
      "\u001b[0;32mpandas/_libs/index.pyx\u001b[0m in \u001b[0;36mpandas._libs.index.IndexEngine.get_loc\u001b[0;34m()\u001b[0m\n",
      "\u001b[0;32mpandas/_libs/hashtable_class_helper.pxi\u001b[0m in \u001b[0;36mpandas._libs.hashtable.Int64HashTable.get_item\u001b[0;34m()\u001b[0m\n",
      "\u001b[0;32mpandas/_libs/hashtable_class_helper.pxi\u001b[0m in \u001b[0;36mpandas._libs.hashtable.Int64HashTable.get_item\u001b[0;34m()\u001b[0m\n",
      "\u001b[0;31mKeyError\u001b[0m: -1"
     ]
    }
   ],
   "source": []
  },
  {
   "cell_type": "code",
   "execution_count": null,
   "metadata": {
    "collapsed": true
   },
   "outputs": [],
   "source": []
  }
 ],
 "metadata": {
  "kernelspec": {
   "display_name": "Python 3",
   "language": "python",
   "name": "python3"
  },
  "language_info": {
   "codemirror_mode": {
    "name": "ipython",
    "version": 3
   },
   "file_extension": ".py",
   "mimetype": "text/x-python",
   "name": "python",
   "nbconvert_exporter": "python",
   "pygments_lexer": "ipython3",
   "version": "3.5.4"
  }
 },
 "nbformat": 4,
 "nbformat_minor": 0
}
